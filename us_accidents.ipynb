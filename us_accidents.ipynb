{
  "nbformat": 4,
  "nbformat_minor": 0,
  "metadata": {
    "kernelspec": {
      "display_name": "Python 3",
      "language": "python",
      "name": "python3"
    },
    "language_info": {
      "codemirror_mode": {
        "name": "ipython",
        "version": 3
      },
      "file_extension": ".py",
      "mimetype": "text/x-python",
      "name": "python",
      "nbconvert_exporter": "python",
      "pygments_lexer": "ipython3",
      "version": "3.7.6"
    },
    "colab": {
      "provenance": []
    }
  },
  "cells": [
    {
      "cell_type": "markdown",
      "metadata": {
        "id": "78vKoKbaE-Lk"
      },
      "source": [
        "# **US ACCIDENTS EXPLORATORY DATA ANALYSIS**\n",
        "\n",
        "TODO - talk about EDA\n",
        "\n",
        "TODO - talk about the dataset (source, what it contains, how it will be useful)\n",
        "\n",
        "- Kaggle\n",
        "- informaiton about accidents\n",
        "- can be useful to prevent accidents\n",
        "\n"
      ]
    },
    {
      "cell_type": "markdown",
      "metadata": {
        "id": "BSJzP-GOK_8b"
      },
      "source": [
        "**Download the Dataset.**"
      ]
    },
    {
      "cell_type": "code",
      "metadata": {
        "id": "ly3KplU6JVEE"
      },
      "source": [
        "pip install opendatasets --upgrade --quiet"
      ],
      "execution_count": null,
      "outputs": []
    },
    {
      "cell_type": "code",
      "metadata": {
        "colab": {
          "base_uri": "https://localhost:8080/"
        },
        "id": "6GJyvv4KJVBK",
        "outputId": "cd1a1bc1-5c13-4040-c1cc-0b5ed7bac47f"
      },
      "source": [
        "import opendatasets as od\n",
        "\n",
        "download_url = 'https://www.kaggle.com/sobhanmoosavi/us-accidents'\n",
        "\n",
        "od.download(download_url)"
      ],
      "execution_count": null,
      "outputs": [
        {
          "output_type": "stream",
          "text": [
            "Please provide your Kaggle credentials to download this dataset. Learn more: http://bit.ly/kaggle-creds\n",
            "Your Kaggle username: adrijamukhopadhyay\n",
            "Your Kaggle Key: ··········\n"
          ],
          "name": "stdout"
        },
        {
          "output_type": "stream",
          "text": [
            "  4%|▍         | 12.0M/290M [00:00<00:02, 122MB/s]"
          ],
          "name": "stderr"
        },
        {
          "output_type": "stream",
          "text": [
            "Downloading us-accidents.zip to ./us-accidents\n"
          ],
          "name": "stdout"
        },
        {
          "output_type": "stream",
          "text": [
            "100%|██████████| 290M/290M [00:01<00:00, 176MB/s]\n"
          ],
          "name": "stderr"
        },
        {
          "output_type": "stream",
          "text": [
            "\n"
          ],
          "name": "stdout"
        }
      ]
    },
    {
      "cell_type": "markdown",
      "source": [
        "To make file access easier, let’s add the file name as"
      ],
      "metadata": {
        "id": "Pvs_UcYJ5Et6"
      }
    },
    {
      "cell_type": "code",
      "metadata": {
        "id": "yOgvacNSJU-g"
      },
      "source": [
        "data_filename = './us-accidents/US_Accidents_Dec20_Updated.csv'"
      ],
      "execution_count": null,
      "outputs": []
    },
    {
      "cell_type": "markdown",
      "metadata": {
        "id": "zuA1YpcOL2ZP"
      },
      "source": [
        "## **Data Preparation and Cleaning**\n",
        "1. Load the file using Pandas\n",
        "2. Look at some information about the data & the columns\n",
        "3. Fix any missing or incorrect values"
      ]
    },
    {
      "cell_type": "code",
      "metadata": {
        "id": "5qw7bxloJU7h"
      },
      "source": [
        "import pandas as pd"
      ],
      "execution_count": null,
      "outputs": []
    },
    {
      "cell_type": "code",
      "metadata": {
        "id": "8zoLAFHYJU4m"
      },
      "source": [
        "df = pd.read_csv(data_filename)"
      ],
      "execution_count": null,
      "outputs": []
    },
    {
      "cell_type": "code",
      "metadata": {
        "colab": {
          "base_uri": "https://localhost:8080/",
          "height": 963
        },
        "id": "tD3eEpQUJU1g",
        "outputId": "0a4bbae6-a37f-405e-e3eb-62d5fc4c52ce"
      },
      "source": [
        "df"
      ],
      "execution_count": null,
      "outputs": [
        {
          "output_type": "execute_result",
          "data": {
            "text/html": [
              "<div>\n",
              "<style scoped>\n",
              "    .dataframe tbody tr th:only-of-type {\n",
              "        vertical-align: middle;\n",
              "    }\n",
              "\n",
              "    .dataframe tbody tr th {\n",
              "        vertical-align: top;\n",
              "    }\n",
              "\n",
              "    .dataframe thead th {\n",
              "        text-align: right;\n",
              "    }\n",
              "</style>\n",
              "<table border=\"1\" class=\"dataframe\">\n",
              "  <thead>\n",
              "    <tr style=\"text-align: right;\">\n",
              "      <th></th>\n",
              "      <th>ID</th>\n",
              "      <th>Severity</th>\n",
              "      <th>Start_Time</th>\n",
              "      <th>End_Time</th>\n",
              "      <th>Start_Lat</th>\n",
              "      <th>Start_Lng</th>\n",
              "      <th>End_Lat</th>\n",
              "      <th>End_Lng</th>\n",
              "      <th>Distance(mi)</th>\n",
              "      <th>Description</th>\n",
              "      <th>Number</th>\n",
              "      <th>Street</th>\n",
              "      <th>Side</th>\n",
              "      <th>City</th>\n",
              "      <th>County</th>\n",
              "      <th>State</th>\n",
              "      <th>Zipcode</th>\n",
              "      <th>Country</th>\n",
              "      <th>Timezone</th>\n",
              "      <th>Airport_Code</th>\n",
              "      <th>Weather_Timestamp</th>\n",
              "      <th>Temperature(F)</th>\n",
              "      <th>Wind_Chill(F)</th>\n",
              "      <th>Humidity(%)</th>\n",
              "      <th>Pressure(in)</th>\n",
              "      <th>Visibility(mi)</th>\n",
              "      <th>Wind_Direction</th>\n",
              "      <th>Wind_Speed(mph)</th>\n",
              "      <th>Precipitation(in)</th>\n",
              "      <th>Weather_Condition</th>\n",
              "      <th>Amenity</th>\n",
              "      <th>Bump</th>\n",
              "      <th>Crossing</th>\n",
              "      <th>Give_Way</th>\n",
              "      <th>Junction</th>\n",
              "      <th>No_Exit</th>\n",
              "      <th>Railway</th>\n",
              "      <th>Roundabout</th>\n",
              "      <th>Station</th>\n",
              "      <th>Stop</th>\n",
              "      <th>Traffic_Calming</th>\n",
              "      <th>Traffic_Signal</th>\n",
              "      <th>Turning_Loop</th>\n",
              "      <th>Sunrise_Sunset</th>\n",
              "      <th>Civil_Twilight</th>\n",
              "      <th>Nautical_Twilight</th>\n",
              "      <th>Astronomical_Twilight</th>\n",
              "    </tr>\n",
              "  </thead>\n",
              "  <tbody>\n",
              "    <tr>\n",
              "      <th>0</th>\n",
              "      <td>A-1</td>\n",
              "      <td>2</td>\n",
              "      <td>2019-05-21 08:29:55</td>\n",
              "      <td>2019-05-21 09:29:40</td>\n",
              "      <td>34.808868</td>\n",
              "      <td>-82.269157</td>\n",
              "      <td>34.808868</td>\n",
              "      <td>-82.269157</td>\n",
              "      <td>0.000</td>\n",
              "      <td>Accident on Tanner Rd at Pennbrooke Ln.</td>\n",
              "      <td>439.0</td>\n",
              "      <td>Tanner Rd</td>\n",
              "      <td>R</td>\n",
              "      <td>Greenville</td>\n",
              "      <td>Greenville</td>\n",
              "      <td>SC</td>\n",
              "      <td>29607-6027</td>\n",
              "      <td>US</td>\n",
              "      <td>US/Eastern</td>\n",
              "      <td>KGMU</td>\n",
              "      <td>2019-05-21 08:53:00</td>\n",
              "      <td>76.0</td>\n",
              "      <td>76.0</td>\n",
              "      <td>52.0</td>\n",
              "      <td>28.91</td>\n",
              "      <td>10.0</td>\n",
              "      <td>N</td>\n",
              "      <td>7.0</td>\n",
              "      <td>0.0</td>\n",
              "      <td>Fair</td>\n",
              "      <td>False</td>\n",
              "      <td>False</td>\n",
              "      <td>False</td>\n",
              "      <td>False</td>\n",
              "      <td>False</td>\n",
              "      <td>False</td>\n",
              "      <td>False</td>\n",
              "      <td>False</td>\n",
              "      <td>False</td>\n",
              "      <td>False</td>\n",
              "      <td>False</td>\n",
              "      <td>False</td>\n",
              "      <td>False</td>\n",
              "      <td>Day</td>\n",
              "      <td>Day</td>\n",
              "      <td>Day</td>\n",
              "      <td>Day</td>\n",
              "    </tr>\n",
              "    <tr>\n",
              "      <th>1</th>\n",
              "      <td>A-2</td>\n",
              "      <td>2</td>\n",
              "      <td>2019-10-07 17:43:09</td>\n",
              "      <td>2019-10-07 19:42:50</td>\n",
              "      <td>35.090080</td>\n",
              "      <td>-80.745560</td>\n",
              "      <td>35.090080</td>\n",
              "      <td>-80.745560</td>\n",
              "      <td>0.000</td>\n",
              "      <td>Accident on Houston Branch Rd at Providence Br...</td>\n",
              "      <td>3299.0</td>\n",
              "      <td>Providence Branch Ln</td>\n",
              "      <td>R</td>\n",
              "      <td>Charlotte</td>\n",
              "      <td>Mecklenburg</td>\n",
              "      <td>NC</td>\n",
              "      <td>28270-8560</td>\n",
              "      <td>US</td>\n",
              "      <td>US/Eastern</td>\n",
              "      <td>KEQY</td>\n",
              "      <td>2019-10-07 17:53:00</td>\n",
              "      <td>76.0</td>\n",
              "      <td>76.0</td>\n",
              "      <td>62.0</td>\n",
              "      <td>29.30</td>\n",
              "      <td>10.0</td>\n",
              "      <td>VAR</td>\n",
              "      <td>3.0</td>\n",
              "      <td>0.0</td>\n",
              "      <td>Cloudy</td>\n",
              "      <td>False</td>\n",
              "      <td>False</td>\n",
              "      <td>False</td>\n",
              "      <td>False</td>\n",
              "      <td>False</td>\n",
              "      <td>False</td>\n",
              "      <td>False</td>\n",
              "      <td>False</td>\n",
              "      <td>False</td>\n",
              "      <td>False</td>\n",
              "      <td>False</td>\n",
              "      <td>False</td>\n",
              "      <td>False</td>\n",
              "      <td>Day</td>\n",
              "      <td>Day</td>\n",
              "      <td>Day</td>\n",
              "      <td>Day</td>\n",
              "    </tr>\n",
              "    <tr>\n",
              "      <th>2</th>\n",
              "      <td>A-3</td>\n",
              "      <td>2</td>\n",
              "      <td>2020-12-13 21:53:00</td>\n",
              "      <td>2020-12-13 22:44:00</td>\n",
              "      <td>37.145730</td>\n",
              "      <td>-121.985052</td>\n",
              "      <td>37.165850</td>\n",
              "      <td>-121.988062</td>\n",
              "      <td>1.400</td>\n",
              "      <td>Stationary traffic on CA-17 from Summit Rd (CA...</td>\n",
              "      <td>NaN</td>\n",
              "      <td>Santa Cruz Hwy</td>\n",
              "      <td>R</td>\n",
              "      <td>Los Gatos</td>\n",
              "      <td>Santa Clara</td>\n",
              "      <td>CA</td>\n",
              "      <td>95033</td>\n",
              "      <td>US</td>\n",
              "      <td>US/Pacific</td>\n",
              "      <td>KSJC</td>\n",
              "      <td>2020-12-13 21:53:00</td>\n",
              "      <td>51.0</td>\n",
              "      <td>51.0</td>\n",
              "      <td>80.0</td>\n",
              "      <td>30.17</td>\n",
              "      <td>10.0</td>\n",
              "      <td>W</td>\n",
              "      <td>6.0</td>\n",
              "      <td>0.0</td>\n",
              "      <td>Fair</td>\n",
              "      <td>False</td>\n",
              "      <td>False</td>\n",
              "      <td>False</td>\n",
              "      <td>False</td>\n",
              "      <td>False</td>\n",
              "      <td>False</td>\n",
              "      <td>False</td>\n",
              "      <td>False</td>\n",
              "      <td>False</td>\n",
              "      <td>False</td>\n",
              "      <td>False</td>\n",
              "      <td>False</td>\n",
              "      <td>False</td>\n",
              "      <td>Night</td>\n",
              "      <td>Night</td>\n",
              "      <td>Night</td>\n",
              "      <td>Night</td>\n",
              "    </tr>\n",
              "    <tr>\n",
              "      <th>3</th>\n",
              "      <td>A-4</td>\n",
              "      <td>2</td>\n",
              "      <td>2018-04-17 16:51:23</td>\n",
              "      <td>2018-04-17 17:50:46</td>\n",
              "      <td>39.110390</td>\n",
              "      <td>-119.773781</td>\n",
              "      <td>39.110390</td>\n",
              "      <td>-119.773781</td>\n",
              "      <td>0.000</td>\n",
              "      <td>Accident on US-395 Southbound at Topsy Ln.</td>\n",
              "      <td>NaN</td>\n",
              "      <td>US Highway 395 S</td>\n",
              "      <td>R</td>\n",
              "      <td>Carson City</td>\n",
              "      <td>Douglas</td>\n",
              "      <td>NV</td>\n",
              "      <td>89705</td>\n",
              "      <td>US</td>\n",
              "      <td>US/Pacific</td>\n",
              "      <td>KCXP</td>\n",
              "      <td>2018-04-17 16:55:00</td>\n",
              "      <td>53.6</td>\n",
              "      <td>NaN</td>\n",
              "      <td>16.0</td>\n",
              "      <td>30.16</td>\n",
              "      <td>10.0</td>\n",
              "      <td>SSW</td>\n",
              "      <td>4.6</td>\n",
              "      <td>NaN</td>\n",
              "      <td>Clear</td>\n",
              "      <td>False</td>\n",
              "      <td>False</td>\n",
              "      <td>False</td>\n",
              "      <td>False</td>\n",
              "      <td>False</td>\n",
              "      <td>False</td>\n",
              "      <td>False</td>\n",
              "      <td>False</td>\n",
              "      <td>False</td>\n",
              "      <td>False</td>\n",
              "      <td>False</td>\n",
              "      <td>True</td>\n",
              "      <td>False</td>\n",
              "      <td>Day</td>\n",
              "      <td>Day</td>\n",
              "      <td>Day</td>\n",
              "      <td>Day</td>\n",
              "    </tr>\n",
              "    <tr>\n",
              "      <th>4</th>\n",
              "      <td>A-5</td>\n",
              "      <td>3</td>\n",
              "      <td>2016-08-31 17:40:49</td>\n",
              "      <td>2016-08-31 18:10:49</td>\n",
              "      <td>26.102942</td>\n",
              "      <td>-80.265091</td>\n",
              "      <td>26.102942</td>\n",
              "      <td>-80.265091</td>\n",
              "      <td>0.000</td>\n",
              "      <td>Accident on I-595 Westbound at Exit 4 / Pine I...</td>\n",
              "      <td>NaN</td>\n",
              "      <td>I-595 W</td>\n",
              "      <td>R</td>\n",
              "      <td>Fort Lauderdale</td>\n",
              "      <td>Broward</td>\n",
              "      <td>FL</td>\n",
              "      <td>33324</td>\n",
              "      <td>US</td>\n",
              "      <td>US/Eastern</td>\n",
              "      <td>KHWO</td>\n",
              "      <td>2016-08-31 17:53:00</td>\n",
              "      <td>84.2</td>\n",
              "      <td>NaN</td>\n",
              "      <td>84.0</td>\n",
              "      <td>29.92</td>\n",
              "      <td>10.0</td>\n",
              "      <td>SSE</td>\n",
              "      <td>13.8</td>\n",
              "      <td>NaN</td>\n",
              "      <td>Overcast</td>\n",
              "      <td>False</td>\n",
              "      <td>False</td>\n",
              "      <td>False</td>\n",
              "      <td>False</td>\n",
              "      <td>True</td>\n",
              "      <td>False</td>\n",
              "      <td>False</td>\n",
              "      <td>False</td>\n",
              "      <td>False</td>\n",
              "      <td>False</td>\n",
              "      <td>False</td>\n",
              "      <td>True</td>\n",
              "      <td>False</td>\n",
              "      <td>Day</td>\n",
              "      <td>Day</td>\n",
              "      <td>Day</td>\n",
              "      <td>Day</td>\n",
              "    </tr>\n",
              "    <tr>\n",
              "      <th>...</th>\n",
              "      <td>...</td>\n",
              "      <td>...</td>\n",
              "      <td>...</td>\n",
              "      <td>...</td>\n",
              "      <td>...</td>\n",
              "      <td>...</td>\n",
              "      <td>...</td>\n",
              "      <td>...</td>\n",
              "      <td>...</td>\n",
              "      <td>...</td>\n",
              "      <td>...</td>\n",
              "      <td>...</td>\n",
              "      <td>...</td>\n",
              "      <td>...</td>\n",
              "      <td>...</td>\n",
              "      <td>...</td>\n",
              "      <td>...</td>\n",
              "      <td>...</td>\n",
              "      <td>...</td>\n",
              "      <td>...</td>\n",
              "      <td>...</td>\n",
              "      <td>...</td>\n",
              "      <td>...</td>\n",
              "      <td>...</td>\n",
              "      <td>...</td>\n",
              "      <td>...</td>\n",
              "      <td>...</td>\n",
              "      <td>...</td>\n",
              "      <td>...</td>\n",
              "      <td>...</td>\n",
              "      <td>...</td>\n",
              "      <td>...</td>\n",
              "      <td>...</td>\n",
              "      <td>...</td>\n",
              "      <td>...</td>\n",
              "      <td>...</td>\n",
              "      <td>...</td>\n",
              "      <td>...</td>\n",
              "      <td>...</td>\n",
              "      <td>...</td>\n",
              "      <td>...</td>\n",
              "      <td>...</td>\n",
              "      <td>...</td>\n",
              "      <td>...</td>\n",
              "      <td>...</td>\n",
              "      <td>...</td>\n",
              "      <td>...</td>\n",
              "    </tr>\n",
              "    <tr>\n",
              "      <th>2906605</th>\n",
              "      <td>A-2906606</td>\n",
              "      <td>2</td>\n",
              "      <td>2018-06-28 08:49:01</td>\n",
              "      <td>2018-06-28 09:18:51</td>\n",
              "      <td>29.813824</td>\n",
              "      <td>-95.399437</td>\n",
              "      <td>29.813824</td>\n",
              "      <td>-95.399437</td>\n",
              "      <td>0.000</td>\n",
              "      <td>Accident on 30th St at Yale St.</td>\n",
              "      <td>3001.0</td>\n",
              "      <td>Yale St</td>\n",
              "      <td>L</td>\n",
              "      <td>Houston</td>\n",
              "      <td>Harris</td>\n",
              "      <td>TX</td>\n",
              "      <td>77018-8433</td>\n",
              "      <td>US</td>\n",
              "      <td>US/Central</td>\n",
              "      <td>KMCJ</td>\n",
              "      <td>2018-06-28 08:35:00</td>\n",
              "      <td>84.2</td>\n",
              "      <td>NaN</td>\n",
              "      <td>70.0</td>\n",
              "      <td>30.02</td>\n",
              "      <td>9.0</td>\n",
              "      <td>Variable</td>\n",
              "      <td>5.8</td>\n",
              "      <td>NaN</td>\n",
              "      <td>Clear</td>\n",
              "      <td>False</td>\n",
              "      <td>False</td>\n",
              "      <td>False</td>\n",
              "      <td>False</td>\n",
              "      <td>False</td>\n",
              "      <td>False</td>\n",
              "      <td>False</td>\n",
              "      <td>False</td>\n",
              "      <td>False</td>\n",
              "      <td>True</td>\n",
              "      <td>False</td>\n",
              "      <td>False</td>\n",
              "      <td>False</td>\n",
              "      <td>Day</td>\n",
              "      <td>Day</td>\n",
              "      <td>Day</td>\n",
              "      <td>Day</td>\n",
              "    </tr>\n",
              "    <tr>\n",
              "      <th>2906606</th>\n",
              "      <td>A-2906607</td>\n",
              "      <td>2</td>\n",
              "      <td>2019-01-10 02:01:01</td>\n",
              "      <td>2019-01-10 02:30:32</td>\n",
              "      <td>34.068890</td>\n",
              "      <td>-117.342010</td>\n",
              "      <td>34.068890</td>\n",
              "      <td>-117.342010</td>\n",
              "      <td>0.000</td>\n",
              "      <td>At Valley Blvd - Accident.</td>\n",
              "      <td>NaN</td>\n",
              "      <td>Cypress Ave</td>\n",
              "      <td>R</td>\n",
              "      <td>Colton</td>\n",
              "      <td>San Bernardino</td>\n",
              "      <td>CA</td>\n",
              "      <td>92324</td>\n",
              "      <td>US</td>\n",
              "      <td>US/Pacific</td>\n",
              "      <td>KSBD</td>\n",
              "      <td>2019-01-10 02:00:00</td>\n",
              "      <td>46.9</td>\n",
              "      <td>NaN</td>\n",
              "      <td>74.0</td>\n",
              "      <td>30.14</td>\n",
              "      <td>10.0</td>\n",
              "      <td>Calm</td>\n",
              "      <td>NaN</td>\n",
              "      <td>NaN</td>\n",
              "      <td>Clear</td>\n",
              "      <td>False</td>\n",
              "      <td>False</td>\n",
              "      <td>False</td>\n",
              "      <td>False</td>\n",
              "      <td>False</td>\n",
              "      <td>False</td>\n",
              "      <td>False</td>\n",
              "      <td>False</td>\n",
              "      <td>False</td>\n",
              "      <td>False</td>\n",
              "      <td>False</td>\n",
              "      <td>False</td>\n",
              "      <td>False</td>\n",
              "      <td>Night</td>\n",
              "      <td>Night</td>\n",
              "      <td>Night</td>\n",
              "      <td>Night</td>\n",
              "    </tr>\n",
              "    <tr>\n",
              "      <th>2906607</th>\n",
              "      <td>A-2906608</td>\n",
              "      <td>2</td>\n",
              "      <td>2020-11-23 12:52:00</td>\n",
              "      <td>2020-11-24 00:47:37</td>\n",
              "      <td>25.702200</td>\n",
              "      <td>-80.335556</td>\n",
              "      <td>25.703040</td>\n",
              "      <td>-80.334099</td>\n",
              "      <td>0.108</td>\n",
              "      <td>Stationary traffic on County Hwy-913 - FL-986 ...</td>\n",
              "      <td>8798.0</td>\n",
              "      <td>SW 72nd St</td>\n",
              "      <td>L</td>\n",
              "      <td>Miami</td>\n",
              "      <td>Miami-Dade</td>\n",
              "      <td>FL</td>\n",
              "      <td>33173-3512</td>\n",
              "      <td>US</td>\n",
              "      <td>US/Eastern</td>\n",
              "      <td>KTMB</td>\n",
              "      <td>2020-11-23 12:53:00</td>\n",
              "      <td>76.0</td>\n",
              "      <td>76.0</td>\n",
              "      <td>85.0</td>\n",
              "      <td>30.00</td>\n",
              "      <td>10.0</td>\n",
              "      <td>NNW</td>\n",
              "      <td>16.0</td>\n",
              "      <td>0.0</td>\n",
              "      <td>Mostly Cloudy</td>\n",
              "      <td>False</td>\n",
              "      <td>False</td>\n",
              "      <td>False</td>\n",
              "      <td>False</td>\n",
              "      <td>False</td>\n",
              "      <td>False</td>\n",
              "      <td>False</td>\n",
              "      <td>False</td>\n",
              "      <td>False</td>\n",
              "      <td>False</td>\n",
              "      <td>False</td>\n",
              "      <td>False</td>\n",
              "      <td>False</td>\n",
              "      <td>Day</td>\n",
              "      <td>Day</td>\n",
              "      <td>Day</td>\n",
              "      <td>Day</td>\n",
              "    </tr>\n",
              "    <tr>\n",
              "      <th>2906608</th>\n",
              "      <td>A-2906609</td>\n",
              "      <td>2</td>\n",
              "      <td>2019-12-29 22:38:00</td>\n",
              "      <td>2019-12-29 23:38:00</td>\n",
              "      <td>40.660140</td>\n",
              "      <td>-111.952460</td>\n",
              "      <td>40.660140</td>\n",
              "      <td>-111.952460</td>\n",
              "      <td>0.000</td>\n",
              "      <td>At UT-266/4700/Exit 15 - Accident.</td>\n",
              "      <td>NaN</td>\n",
              "      <td>I-215 N</td>\n",
              "      <td>R</td>\n",
              "      <td>Salt Lake City</td>\n",
              "      <td>Salt Lake</td>\n",
              "      <td>UT</td>\n",
              "      <td>84129</td>\n",
              "      <td>US</td>\n",
              "      <td>US/Mountain</td>\n",
              "      <td>KU42</td>\n",
              "      <td>2019-12-29 22:54:00</td>\n",
              "      <td>27.0</td>\n",
              "      <td>19.0</td>\n",
              "      <td>81.0</td>\n",
              "      <td>25.81</td>\n",
              "      <td>10.0</td>\n",
              "      <td>SSE</td>\n",
              "      <td>8.0</td>\n",
              "      <td>0.0</td>\n",
              "      <td>Cloudy</td>\n",
              "      <td>False</td>\n",
              "      <td>False</td>\n",
              "      <td>False</td>\n",
              "      <td>False</td>\n",
              "      <td>False</td>\n",
              "      <td>False</td>\n",
              "      <td>False</td>\n",
              "      <td>False</td>\n",
              "      <td>False</td>\n",
              "      <td>False</td>\n",
              "      <td>False</td>\n",
              "      <td>False</td>\n",
              "      <td>False</td>\n",
              "      <td>Night</td>\n",
              "      <td>Night</td>\n",
              "      <td>Night</td>\n",
              "      <td>Night</td>\n",
              "    </tr>\n",
              "    <tr>\n",
              "      <th>2906609</th>\n",
              "      <td>A-2906610</td>\n",
              "      <td>2</td>\n",
              "      <td>2018-03-26 13:35:03</td>\n",
              "      <td>2018-03-26 14:39:00</td>\n",
              "      <td>38.831749</td>\n",
              "      <td>-104.748161</td>\n",
              "      <td>38.831749</td>\n",
              "      <td>-104.748161</td>\n",
              "      <td>0.000</td>\n",
              "      <td>Accident on Murray Blvd at Byron Dr.</td>\n",
              "      <td>NaN</td>\n",
              "      <td>Byron Dr</td>\n",
              "      <td>R</td>\n",
              "      <td>Colorado Springs</td>\n",
              "      <td>El Paso</td>\n",
              "      <td>CO</td>\n",
              "      <td>80916</td>\n",
              "      <td>US</td>\n",
              "      <td>US/Mountain</td>\n",
              "      <td>KCOS</td>\n",
              "      <td>2018-03-26 13:54:00</td>\n",
              "      <td>51.1</td>\n",
              "      <td>NaN</td>\n",
              "      <td>38.0</td>\n",
              "      <td>29.77</td>\n",
              "      <td>10.0</td>\n",
              "      <td>SE</td>\n",
              "      <td>13.8</td>\n",
              "      <td>NaN</td>\n",
              "      <td>Scattered Clouds</td>\n",
              "      <td>False</td>\n",
              "      <td>False</td>\n",
              "      <td>True</td>\n",
              "      <td>False</td>\n",
              "      <td>False</td>\n",
              "      <td>False</td>\n",
              "      <td>False</td>\n",
              "      <td>False</td>\n",
              "      <td>False</td>\n",
              "      <td>False</td>\n",
              "      <td>False</td>\n",
              "      <td>True</td>\n",
              "      <td>False</td>\n",
              "      <td>Day</td>\n",
              "      <td>Day</td>\n",
              "      <td>Day</td>\n",
              "      <td>Day</td>\n",
              "    </tr>\n",
              "  </tbody>\n",
              "</table>\n",
              "<p>2906610 rows × 47 columns</p>\n",
              "</div>"
            ],
            "text/plain": [
              "                ID  Severity  ... Nautical_Twilight Astronomical_Twilight\n",
              "0              A-1         2  ...               Day                   Day\n",
              "1              A-2         2  ...               Day                   Day\n",
              "2              A-3         2  ...             Night                 Night\n",
              "3              A-4         2  ...               Day                   Day\n",
              "4              A-5         3  ...               Day                   Day\n",
              "...            ...       ...  ...               ...                   ...\n",
              "2906605  A-2906606         2  ...               Day                   Day\n",
              "2906606  A-2906607         2  ...             Night                 Night\n",
              "2906607  A-2906608         2  ...               Day                   Day\n",
              "2906608  A-2906609         2  ...             Night                 Night\n",
              "2906609  A-2906610         2  ...               Day                   Day\n",
              "\n",
              "[2906610 rows x 47 columns]"
            ]
          },
          "metadata": {
            "tags": []
          },
          "execution_count": 7
        }
      ]
    },
    {
      "cell_type": "markdown",
      "source": [
        "The data has about 2.9 million rows and 47 columns. Let us see what the columns have for us to analyze."
      ],
      "metadata": {
        "id": "6759d79v5PrT"
      }
    },
    {
      "cell_type": "code",
      "metadata": {
        "colab": {
          "base_uri": "https://localhost:8080/"
        },
        "id": "hcyKIUA3JUyr",
        "outputId": "27154a3b-c1cd-44bc-b1ed-56905f66ad52"
      },
      "source": [
        "df.columns"
      ],
      "execution_count": null,
      "outputs": [
        {
          "output_type": "execute_result",
          "data": {
            "text/plain": [
              "Index(['ID', 'Severity', 'Start_Time', 'End_Time', 'Start_Lat', 'Start_Lng',\n",
              "       'End_Lat', 'End_Lng', 'Distance(mi)', 'Description', 'Number', 'Street',\n",
              "       'Side', 'City', 'County', 'State', 'Zipcode', 'Country', 'Timezone',\n",
              "       'Airport_Code', 'Weather_Timestamp', 'Temperature(F)', 'Wind_Chill(F)',\n",
              "       'Humidity(%)', 'Pressure(in)', 'Visibility(mi)', 'Wind_Direction',\n",
              "       'Wind_Speed(mph)', 'Precipitation(in)', 'Weather_Condition', 'Amenity',\n",
              "       'Bump', 'Crossing', 'Give_Way', 'Junction', 'No_Exit', 'Railway',\n",
              "       'Roundabout', 'Station', 'Stop', 'Traffic_Calming', 'Traffic_Signal',\n",
              "       'Turning_Loop', 'Sunrise_Sunset', 'Civil_Twilight', 'Nautical_Twilight',\n",
              "       'Astronomical_Twilight'],\n",
              "      dtype='object')"
            ]
          },
          "metadata": {
            "tags": []
          },
          "execution_count": 8
        }
      ]
    },
    {
      "cell_type": "code",
      "metadata": {
        "colab": {
          "base_uri": "https://localhost:8080/"
        },
        "id": "rVoYEps4JUvi",
        "outputId": "43760510-ead5-4217-80ac-595fcc5ac02b"
      },
      "source": [
        "len(df.columns)"
      ],
      "execution_count": null,
      "outputs": [
        {
          "output_type": "execute_result",
          "data": {
            "text/plain": [
              "47"
            ]
          },
          "metadata": {
            "tags": []
          },
          "execution_count": 9
        }
      ]
    },
    {
      "cell_type": "code",
      "metadata": {
        "colab": {
          "base_uri": "https://localhost:8080/"
        },
        "id": "HJu7xfM5Ml92",
        "outputId": "32e3e937-b27d-43d2-f7ef-eaf9bc9f7c3f"
      },
      "source": [
        "df.info()"
      ],
      "execution_count": null,
      "outputs": [
        {
          "output_type": "stream",
          "text": [
            "<class 'pandas.core.frame.DataFrame'>\n",
            "RangeIndex: 2906610 entries, 0 to 2906609\n",
            "Data columns (total 47 columns):\n",
            " #   Column                 Dtype  \n",
            "---  ------                 -----  \n",
            " 0   ID                     object \n",
            " 1   Severity               int64  \n",
            " 2   Start_Time             object \n",
            " 3   End_Time               object \n",
            " 4   Start_Lat              float64\n",
            " 5   Start_Lng              float64\n",
            " 6   End_Lat                float64\n",
            " 7   End_Lng                float64\n",
            " 8   Distance(mi)           float64\n",
            " 9   Description            object \n",
            " 10  Number                 float64\n",
            " 11  Street                 object \n",
            " 12  Side                   object \n",
            " 13  City                   object \n",
            " 14  County                 object \n",
            " 15  State                  object \n",
            " 16  Zipcode                object \n",
            " 17  Country                object \n",
            " 18  Timezone               object \n",
            " 19  Airport_Code           object \n",
            " 20  Weather_Timestamp      object \n",
            " 21  Temperature(F)         float64\n",
            " 22  Wind_Chill(F)          float64\n",
            " 23  Humidity(%)            float64\n",
            " 24  Pressure(in)           float64\n",
            " 25  Visibility(mi)         float64\n",
            " 26  Wind_Direction         object \n",
            " 27  Wind_Speed(mph)        float64\n",
            " 28  Precipitation(in)      float64\n",
            " 29  Weather_Condition      object \n",
            " 30  Amenity                bool   \n",
            " 31  Bump                   bool   \n",
            " 32  Crossing               bool   \n",
            " 33  Give_Way               bool   \n",
            " 34  Junction               bool   \n",
            " 35  No_Exit                bool   \n",
            " 36  Railway                bool   \n",
            " 37  Roundabout             bool   \n",
            " 38  Station                bool   \n",
            " 39  Stop                   bool   \n",
            " 40  Traffic_Calming        bool   \n",
            " 41  Traffic_Signal         bool   \n",
            " 42  Turning_Loop           bool   \n",
            " 43  Sunrise_Sunset         object \n",
            " 44  Civil_Twilight         object \n",
            " 45  Nautical_Twilight      object \n",
            " 46  Astronomical_Twilight  object \n",
            "dtypes: bool(13), float64(13), int64(1), object(20)\n",
            "memory usage: 790.0+ MB\n"
          ],
          "name": "stdout"
        }
      ]
    },
    {
      "cell_type": "markdown",
      "source": [
        "The above list ends by saying that there are 13 boolean type, 13 float type, 1 integer, and 20 object type of data."
      ],
      "metadata": {
        "id": "-tMDQNJy5bbt"
      }
    },
    {
      "cell_type": "markdown",
      "source": [
        "Moving on to summary statistics of the columns-"
      ],
      "metadata": {
        "id": "kp88zGAz5e_d"
      }
    },
    {
      "cell_type": "code",
      "metadata": {
        "colab": {
          "base_uri": "https://localhost:8080/",
          "height": 320
        },
        "id": "3Xxi-YwfMl8C",
        "outputId": "97564712-3523-4a90-df82-27757b6b83c6"
      },
      "source": [
        "df.describe()"
      ],
      "execution_count": null,
      "outputs": [
        {
          "output_type": "execute_result",
          "data": {
            "text/html": [
              "<div>\n",
              "<style scoped>\n",
              "    .dataframe tbody tr th:only-of-type {\n",
              "        vertical-align: middle;\n",
              "    }\n",
              "\n",
              "    .dataframe tbody tr th {\n",
              "        vertical-align: top;\n",
              "    }\n",
              "\n",
              "    .dataframe thead th {\n",
              "        text-align: right;\n",
              "    }\n",
              "</style>\n",
              "<table border=\"1\" class=\"dataframe\">\n",
              "  <thead>\n",
              "    <tr style=\"text-align: right;\">\n",
              "      <th></th>\n",
              "      <th>Severity</th>\n",
              "      <th>Start_Lat</th>\n",
              "      <th>Start_Lng</th>\n",
              "      <th>End_Lat</th>\n",
              "      <th>End_Lng</th>\n",
              "      <th>Distance(mi)</th>\n",
              "      <th>Number</th>\n",
              "      <th>Temperature(F)</th>\n",
              "      <th>Wind_Chill(F)</th>\n",
              "      <th>Humidity(%)</th>\n",
              "      <th>Pressure(in)</th>\n",
              "      <th>Visibility(mi)</th>\n",
              "      <th>Wind_Speed(mph)</th>\n",
              "      <th>Precipitation(in)</th>\n",
              "    </tr>\n",
              "  </thead>\n",
              "  <tbody>\n",
              "    <tr>\n",
              "      <th>count</th>\n",
              "      <td>2.906610e+06</td>\n",
              "      <td>2.906610e+06</td>\n",
              "      <td>2.906610e+06</td>\n",
              "      <td>2.623789e+06</td>\n",
              "      <td>2.623789e+06</td>\n",
              "      <td>2.906610e+06</td>\n",
              "      <td>1.014938e+06</td>\n",
              "      <td>2.839386e+06</td>\n",
              "      <td>1.722751e+06</td>\n",
              "      <td>2.835340e+06</td>\n",
              "      <td>2.849702e+06</td>\n",
              "      <td>2.834532e+06</td>\n",
              "      <td>2.599447e+06</td>\n",
              "      <td>1.605284e+06</td>\n",
              "    </tr>\n",
              "    <tr>\n",
              "      <th>mean</th>\n",
              "      <td>2.288649e+00</td>\n",
              "      <td>3.653027e+01</td>\n",
              "      <td>-9.642676e+01</td>\n",
              "      <td>3.651733e+01</td>\n",
              "      <td>-9.620367e+01</td>\n",
              "      <td>3.980541e-01</td>\n",
              "      <td>6.789728e+03</td>\n",
              "      <td>6.098873e+01</td>\n",
              "      <td>5.499048e+01</td>\n",
              "      <td>6.537758e+01</td>\n",
              "      <td>2.965685e+01</td>\n",
              "      <td>9.116766e+00</td>\n",
              "      <td>7.818111e+00</td>\n",
              "      <td>1.119459e-02</td>\n",
              "    </tr>\n",
              "    <tr>\n",
              "      <th>std</th>\n",
              "      <td>5.541618e-01</td>\n",
              "      <td>5.013964e+00</td>\n",
              "      <td>1.775412e+01</td>\n",
              "      <td>5.016609e+00</td>\n",
              "      <td>1.765971e+01</td>\n",
              "      <td>1.592556e+00</td>\n",
              "      <td>1.697225e+04</td>\n",
              "      <td>1.845258e+01</td>\n",
              "      <td>2.219542e+01</td>\n",
              "      <td>2.287854e+01</td>\n",
              "      <td>9.094133e-01</td>\n",
              "      <td>2.837271e+00</td>\n",
              "      <td>5.431171e+00</td>\n",
              "      <td>1.540812e-01</td>\n",
              "    </tr>\n",
              "    <tr>\n",
              "      <th>min</th>\n",
              "      <td>1.000000e+00</td>\n",
              "      <td>2.455527e+01</td>\n",
              "      <td>-1.246238e+02</td>\n",
              "      <td>2.455527e+01</td>\n",
              "      <td>-1.246238e+02</td>\n",
              "      <td>0.000000e+00</td>\n",
              "      <td>0.000000e+00</td>\n",
              "      <td>-8.900000e+01</td>\n",
              "      <td>-8.900000e+01</td>\n",
              "      <td>1.000000e+00</td>\n",
              "      <td>0.000000e+00</td>\n",
              "      <td>0.000000e+00</td>\n",
              "      <td>0.000000e+00</td>\n",
              "      <td>0.000000e+00</td>\n",
              "    </tr>\n",
              "    <tr>\n",
              "      <th>25%</th>\n",
              "      <td>2.000000e+00</td>\n",
              "      <td>3.366453e+01</td>\n",
              "      <td>-1.178232e+02</td>\n",
              "      <td>3.364659e+01</td>\n",
              "      <td>-1.177020e+02</td>\n",
              "      <td>0.000000e+00</td>\n",
              "      <td>9.650000e+02</td>\n",
              "      <td>4.890000e+01</td>\n",
              "      <td>3.900000e+01</td>\n",
              "      <td>4.900000e+01</td>\n",
              "      <td>2.959000e+01</td>\n",
              "      <td>1.000000e+01</td>\n",
              "      <td>4.600000e+00</td>\n",
              "      <td>0.000000e+00</td>\n",
              "    </tr>\n",
              "    <tr>\n",
              "      <th>50%</th>\n",
              "      <td>2.000000e+00</td>\n",
              "      <td>3.609977e+01</td>\n",
              "      <td>-9.116690e+01</td>\n",
              "      <td>3.605898e+01</td>\n",
              "      <td>-9.105163e+01</td>\n",
              "      <td>0.000000e+00</td>\n",
              "      <td>3.093000e+03</td>\n",
              "      <td>6.300000e+01</td>\n",
              "      <td>5.800000e+01</td>\n",
              "      <td>6.800000e+01</td>\n",
              "      <td>2.992000e+01</td>\n",
              "      <td>1.000000e+01</td>\n",
              "      <td>7.000000e+00</td>\n",
              "      <td>0.000000e+00</td>\n",
              "    </tr>\n",
              "    <tr>\n",
              "      <th>75%</th>\n",
              "      <td>3.000000e+00</td>\n",
              "      <td>4.037505e+01</td>\n",
              "      <td>-8.085814e+01</td>\n",
              "      <td>4.033133e+01</td>\n",
              "      <td>-8.084679e+01</td>\n",
              "      <td>2.790000e-01</td>\n",
              "      <td>7.976000e+03</td>\n",
              "      <td>7.500000e+01</td>\n",
              "      <td>7.200000e+01</td>\n",
              "      <td>8.500000e+01</td>\n",
              "      <td>3.007000e+01</td>\n",
              "      <td>1.000000e+01</td>\n",
              "      <td>1.040000e+01</td>\n",
              "      <td>0.000000e+00</td>\n",
              "    </tr>\n",
              "    <tr>\n",
              "      <th>max</th>\n",
              "      <td>4.000000e+00</td>\n",
              "      <td>4.900220e+01</td>\n",
              "      <td>-6.711317e+01</td>\n",
              "      <td>4.907500e+01</td>\n",
              "      <td>-6.710924e+01</td>\n",
              "      <td>3.336300e+02</td>\n",
              "      <td>9.999997e+06</td>\n",
              "      <td>2.030000e+02</td>\n",
              "      <td>1.740000e+02</td>\n",
              "      <td>1.000000e+02</td>\n",
              "      <td>5.804000e+01</td>\n",
              "      <td>1.400000e+02</td>\n",
              "      <td>9.840000e+02</td>\n",
              "      <td>2.400000e+01</td>\n",
              "    </tr>\n",
              "  </tbody>\n",
              "</table>\n",
              "</div>"
            ],
            "text/plain": [
              "           Severity     Start_Lat  ...  Wind_Speed(mph)  Precipitation(in)\n",
              "count  2.906610e+06  2.906610e+06  ...     2.599447e+06       1.605284e+06\n",
              "mean   2.288649e+00  3.653027e+01  ...     7.818111e+00       1.119459e-02\n",
              "std    5.541618e-01  5.013964e+00  ...     5.431171e+00       1.540812e-01\n",
              "min    1.000000e+00  2.455527e+01  ...     0.000000e+00       0.000000e+00\n",
              "25%    2.000000e+00  3.366453e+01  ...     4.600000e+00       0.000000e+00\n",
              "50%    2.000000e+00  3.609977e+01  ...     7.000000e+00       0.000000e+00\n",
              "75%    3.000000e+00  4.037505e+01  ...     1.040000e+01       0.000000e+00\n",
              "max    4.000000e+00  4.900220e+01  ...     9.840000e+02       2.400000e+01\n",
              "\n",
              "[8 rows x 14 columns]"
            ]
          },
          "metadata": {
            "tags": []
          },
          "execution_count": 14
        }
      ]
    },
    {
      "cell_type": "code",
      "metadata": {
        "colab": {
          "base_uri": "https://localhost:8080/"
        },
        "id": "s2477ENFMl4a",
        "outputId": "1056beea-d164-4257-f3cb-65090b3910ea"
      },
      "source": [
        "numerics = ['int16', 'int32', 'int64', 'float16', 'float32', 'float64']\n",
        "\n",
        "numeric_df = df.select_dtypes(include=numerics)\n",
        "len(numeric_df.columns)"
      ],
      "execution_count": null,
      "outputs": [
        {
          "output_type": "execute_result",
          "data": {
            "text/plain": [
              "14"
            ]
          },
          "metadata": {
            "tags": []
          },
          "execution_count": 15
        }
      ]
    },
    {
      "cell_type": "markdown",
      "source": [
        "The data has 14 numeric columns while the rest are categorical variables."
      ],
      "metadata": {
        "id": "9_dLlATp5krf"
      }
    },
    {
      "cell_type": "markdown",
      "source": [
        "## Data Cleaning"
      ],
      "metadata": {
        "id": "-9Q7CYij5y1m"
      }
    },
    {
      "cell_type": "markdown",
      "metadata": {
        "id": "PIjzqkiENgEW"
      },
      "source": [
        "**Percentage of missing values per column**"
      ]
    },
    {
      "cell_type": "code",
      "metadata": {
        "colab": {
          "base_uri": "https://localhost:8080/"
        },
        "id": "JChLuehFMl17",
        "outputId": "3fd899e1-9d7e-4304-c592-e14f7bf28c61"
      },
      "source": [
        "df.isna().sum()"
      ],
      "execution_count": null,
      "outputs": [
        {
          "output_type": "execute_result",
          "data": {
            "text/plain": [
              "ID                             0\n",
              "Severity                       0\n",
              "Start_Time                     0\n",
              "End_Time                       0\n",
              "Start_Lat                      0\n",
              "Start_Lng                      0\n",
              "End_Lat                   282821\n",
              "End_Lng                   282821\n",
              "Distance(mi)                   0\n",
              "Description                    0\n",
              "Number                   1891672\n",
              "Street                         0\n",
              "Side                           0\n",
              "City                         108\n",
              "County                         0\n",
              "State                          0\n",
              "Zipcode                     1114\n",
              "Country                        0\n",
              "Timezone                    3430\n",
              "Airport_Code                6608\n",
              "Weather_Timestamp          46917\n",
              "Temperature(F)             67224\n",
              "Wind_Chill(F)            1183859\n",
              "Humidity(%)                71270\n",
              "Pressure(in)               56908\n",
              "Visibility(mi)             72078\n",
              "Wind_Direction             63474\n",
              "Wind_Speed(mph)           307163\n",
              "Precipitation(in)        1301326\n",
              "Weather_Condition          71851\n",
              "Amenity                        0\n",
              "Bump                           0\n",
              "Crossing                       0\n",
              "Give_Way                       0\n",
              "Junction                       0\n",
              "No_Exit                        0\n",
              "Railway                        0\n",
              "Roundabout                     0\n",
              "Station                        0\n",
              "Stop                           0\n",
              "Traffic_Calming                0\n",
              "Traffic_Signal                 0\n",
              "Turning_Loop                   0\n",
              "Sunrise_Sunset               110\n",
              "Civil_Twilight               110\n",
              "Nautical_Twilight            110\n",
              "Astronomical_Twilight        110\n",
              "dtype: int64"
            ]
          },
          "metadata": {
            "tags": []
          },
          "execution_count": 19
        }
      ]
    },
    {
      "cell_type": "code",
      "metadata": {
        "colab": {
          "base_uri": "https://localhost:8080/"
        },
        "id": "q-XKUj_bOKIt",
        "outputId": "391a0a29-2b82-467c-d003-22e1adbb31c8"
      },
      "source": [
        "df.isna().sum().sort_values(ascending=False)"
      ],
      "execution_count": null,
      "outputs": [
        {
          "output_type": "execute_result",
          "data": {
            "text/plain": [
              "Number                   1891672\n",
              "Precipitation(in)        1301326\n",
              "Wind_Chill(F)            1183859\n",
              "Wind_Speed(mph)           307163\n",
              "End_Lat                   282821\n",
              "End_Lng                   282821\n",
              "Visibility(mi)             72078\n",
              "Weather_Condition          71851\n",
              "Humidity(%)                71270\n",
              "Temperature(F)             67224\n",
              "Wind_Direction             63474\n",
              "Pressure(in)               56908\n",
              "Weather_Timestamp          46917\n",
              "Airport_Code                6608\n",
              "Timezone                    3430\n",
              "Zipcode                     1114\n",
              "Nautical_Twilight            110\n",
              "Astronomical_Twilight        110\n",
              "Civil_Twilight               110\n",
              "Sunrise_Sunset               110\n",
              "City                         108\n",
              "Amenity                        0\n",
              "Severity                       0\n",
              "Start_Time                     0\n",
              "End_Time                       0\n",
              "Start_Lat                      0\n",
              "Start_Lng                      0\n",
              "Distance(mi)                   0\n",
              "Description                    0\n",
              "Turning_Loop                   0\n",
              "Street                         0\n",
              "Side                           0\n",
              "County                         0\n",
              "Bump                           0\n",
              "State                          0\n",
              "Traffic_Signal                 0\n",
              "Country                        0\n",
              "Traffic_Calming                0\n",
              "Stop                           0\n",
              "Station                        0\n",
              "Roundabout                     0\n",
              "Railway                        0\n",
              "No_Exit                        0\n",
              "Junction                       0\n",
              "Give_Way                       0\n",
              "Crossing                       0\n",
              "ID                             0\n",
              "dtype: int64"
            ]
          },
          "metadata": {
            "tags": []
          },
          "execution_count": 21
        }
      ]
    },
    {
      "cell_type": "code",
      "metadata": {
        "colab": {
          "base_uri": "https://localhost:8080/"
        },
        "id": "7Rn1qz6HMly5",
        "outputId": "f9852a3a-dc2b-4ce1-c1f1-a01f7699e999"
      },
      "source": [
        "missing_percentages = df.isna().sum().sort_values(ascending=False) / len(df)\n",
        "missing_percentages"
      ],
      "execution_count": null,
      "outputs": [
        {
          "output_type": "execute_result",
          "data": {
            "text/plain": [
              "Number                   0.650817\n",
              "Precipitation(in)        0.447713\n",
              "Wind_Chill(F)            0.407299\n",
              "Wind_Speed(mph)          0.105677\n",
              "End_Lat                  0.097303\n",
              "End_Lng                  0.097303\n",
              "Visibility(mi)           0.024798\n",
              "Weather_Condition        0.024720\n",
              "Humidity(%)              0.024520\n",
              "Temperature(F)           0.023128\n",
              "Wind_Direction           0.021838\n",
              "Pressure(in)             0.019579\n",
              "Weather_Timestamp        0.016141\n",
              "Airport_Code             0.002273\n",
              "Timezone                 0.001180\n",
              "Zipcode                  0.000383\n",
              "Nautical_Twilight        0.000038\n",
              "Astronomical_Twilight    0.000038\n",
              "Civil_Twilight           0.000038\n",
              "Sunrise_Sunset           0.000038\n",
              "City                     0.000037\n",
              "Amenity                  0.000000\n",
              "Severity                 0.000000\n",
              "Start_Time               0.000000\n",
              "End_Time                 0.000000\n",
              "Start_Lat                0.000000\n",
              "Start_Lng                0.000000\n",
              "Distance(mi)             0.000000\n",
              "Description              0.000000\n",
              "Turning_Loop             0.000000\n",
              "Street                   0.000000\n",
              "Side                     0.000000\n",
              "County                   0.000000\n",
              "Bump                     0.000000\n",
              "State                    0.000000\n",
              "Traffic_Signal           0.000000\n",
              "Country                  0.000000\n",
              "Traffic_Calming          0.000000\n",
              "Stop                     0.000000\n",
              "Station                  0.000000\n",
              "Roundabout               0.000000\n",
              "Railway                  0.000000\n",
              "No_Exit                  0.000000\n",
              "Junction                 0.000000\n",
              "Give_Way                 0.000000\n",
              "Crossing                 0.000000\n",
              "ID                       0.000000\n",
              "dtype: float64"
            ]
          },
          "metadata": {
            "tags": []
          },
          "execution_count": 20
        }
      ]
    },
    {
      "cell_type": "code",
      "metadata": {
        "colab": {
          "base_uri": "https://localhost:8080/"
        },
        "id": "rMGessQiMlwD",
        "outputId": "4f6a612b-8a9f-4c24-ab3c-9a980eef38be"
      },
      "source": [
        "type(missing_percentages)"
      ],
      "execution_count": null,
      "outputs": [
        {
          "output_type": "execute_result",
          "data": {
            "text/plain": [
              "pandas.core.series.Series"
            ]
          },
          "metadata": {
            "tags": []
          },
          "execution_count": 22
        }
      ]
    },
    {
      "cell_type": "markdown",
      "source": [
        "The columns ‘Number’, ‘Precipitation(in)’ and ‘Wind_Chill(F)’ have the most missing values (40–60% of the data). It is wise to either remove the columns altogether or exclude them from the ensuing analysis."
      ],
      "metadata": {
        "id": "g3IK-yR96QCD"
      }
    },
    {
      "cell_type": "markdown",
      "source": [
        "Let us now see what the above numbers would look like visually. Plotting a horizontal bar chart as-"
      ],
      "metadata": {
        "id": "BLivpxSH6XMP"
      }
    },
    {
      "cell_type": "code",
      "metadata": {
        "colab": {
          "base_uri": "https://localhost:8080/",
          "height": 283
        },
        "id": "uITDxJhHOhO-",
        "outputId": "ae82ad4c-74c6-4a3d-f998-0842ffff277b"
      },
      "source": [
        "missing_percentages[missing_percentages != 0].plot(kind='barh')"
      ],
      "execution_count": null,
      "outputs": [
        {
          "output_type": "execute_result",
          "data": {
            "text/plain": [
              "<matplotlib.axes._subplots.AxesSubplot at 0x7f3414a036d0>"
            ]
          },
          "metadata": {
            "tags": []
          },
          "execution_count": 23
        },
        {
          "output_type": "display_data",
          "data": {
            "image/png": "[encoded data removed]",
            "text/plain": [
              "<Figure size 432x288 with 1 Axes>"
            ]
          },
          "metadata": {
            "tags": [],
            "needs_background": "light"
          }
        }
      ]
    },
    {
      "cell_type": "markdown",
      "metadata": {
        "id": "R2HS7Xf9Oryk"
      },
      "source": [
        "Remove columns that you don't want to use.\n",
        "\n",
        "\n"
      ]
    },
    {
      "cell_type": "markdown",
      "metadata": {
        "id": "f-GzvMEcJxMH"
      },
      "source": [
        "#Exploratory Analysis and Visualization\n",
        "\n",
        "Once the data is cleaned and prepped for analysis, we take some of the columns and apply statistical methods to see the underlying picture come to the surface\n",
        "\n",
        "Columns we'll analyze:\n",
        "\n",
        "1. City\n",
        "2. Start Time\n",
        "3. Start Lat, Start Lng\n",
        "4. Temperature\n",
        "5. Weather Condition"
      ]
    },
    {
      "cell_type": "code",
      "metadata": {
        "colab": {
          "base_uri": "https://localhost:8080/"
        },
        "id": "gNKTtvwTJUs3",
        "outputId": "5ac66161-f964-41dc-d587-4d33f15d7950"
      },
      "source": [
        "df.columns"
      ],
      "execution_count": null,
      "outputs": [
        {
          "output_type": "execute_result",
          "data": {
            "text/plain": [
              "Index(['ID', 'Severity', 'Start_Time', 'End_Time', 'Start_Lat', 'Start_Lng',\n",
              "       'End_Lat', 'End_Lng', 'Distance(mi)', 'Description', 'Number', 'Street',\n",
              "       'Side', 'City', 'County', 'State', 'Zipcode', 'Country', 'Timezone',\n",
              "       'Airport_Code', 'Weather_Timestamp', 'Temperature(F)', 'Wind_Chill(F)',\n",
              "       'Humidity(%)', 'Pressure(in)', 'Visibility(mi)', 'Wind_Direction',\n",
              "       'Wind_Speed(mph)', 'Precipitation(in)', 'Weather_Condition', 'Amenity',\n",
              "       'Bump', 'Crossing', 'Give_Way', 'Junction', 'No_Exit', 'Railway',\n",
              "       'Roundabout', 'Station', 'Stop', 'Traffic_Calming', 'Traffic_Signal',\n",
              "       'Turning_Loop', 'Sunrise_Sunset', 'Civil_Twilight', 'Nautical_Twilight',\n",
              "       'Astronomical_Twilight'],\n",
              "      dtype='object')"
            ]
          },
          "metadata": {
            "tags": []
          },
          "execution_count": 24
        }
      ]
    },
    {
      "cell_type": "markdown",
      "metadata": {
        "id": "FAkP3ynYO-cU"
      },
      "source": [
        "**City**"
      ]
    },
    {
      "cell_type": "markdown",
      "source": [
        "The column lists the name of the city in the address record. Let us now check how many cities of the top ten states above feature in the top 30 cities by accidents."
      ],
      "metadata": {
        "id": "zmO3vOdU6yzr"
      }
    },
    {
      "cell_type": "code",
      "metadata": {
        "colab": {
          "base_uri": "https://localhost:8080/"
        },
        "id": "WiNXTC0FJUpy",
        "outputId": "e70fb2d4-3f7c-4a96-ac44-79308ea578e3"
      },
      "source": [
        "df.City"
      ],
      "execution_count": null,
      "outputs": [
        {
          "output_type": "execute_result",
          "data": {
            "text/plain": [
              "0                Greenville\n",
              "1                 Charlotte\n",
              "2                 Los Gatos\n",
              "3               Carson City\n",
              "4           Fort Lauderdale\n",
              "                 ...       \n",
              "2906605             Houston\n",
              "2906606              Colton\n",
              "2906607               Miami\n",
              "2906608      Salt Lake City\n",
              "2906609    Colorado Springs\n",
              "Name: City, Length: 2906610, dtype: object"
            ]
          },
          "metadata": {
            "tags": []
          },
          "execution_count": 25
        }
      ]
    },
    {
      "cell_type": "code",
      "metadata": {
        "colab": {
          "base_uri": "https://localhost:8080/"
        },
        "id": "_9hYjcYqJ8-0",
        "outputId": "01cf97da-3456-4758-b4f3-8bb5ea451610"
      },
      "source": [
        "cities = df.City.unique()\n",
        "len(cities)"
      ],
      "execution_count": null,
      "outputs": [
        {
          "output_type": "execute_result",
          "data": {
            "text/plain": [
              "11790"
            ]
          },
          "metadata": {
            "tags": []
          },
          "execution_count": 26
        }
      ]
    },
    {
      "cell_type": "markdown",
      "source": [
        "The total number of cities is 11,790"
      ],
      "metadata": {
        "id": "Dw3IpoYd66J1"
      }
    },
    {
      "cell_type": "code",
      "metadata": {
        "colab": {
          "base_uri": "https://localhost:8080/"
        },
        "id": "lDlNy_RbJ88F",
        "outputId": "0173efc6-04dd-4759-9868-3c7af8f120e0"
      },
      "source": [
        "cities_by_accident = df.City.value_counts()\n",
        "cities_by_accident"
      ],
      "execution_count": null,
      "outputs": [
        {
          "output_type": "execute_result",
          "data": {
            "text/plain": [
              "Los Angeles      68411\n",
              "Houston          68265\n",
              "Charlotte        56176\n",
              "Miami            49965\n",
              "Dallas           48525\n",
              "                 ...  \n",
              "Cobbs Creek          1\n",
              "Stryker              1\n",
              "Laurel Fork          1\n",
              "Rivesville           1\n",
              "Cotton Valley        1\n",
              "Name: City, Length: 11789, dtype: int64"
            ]
          },
          "metadata": {
            "tags": []
          },
          "execution_count": 27
        }
      ]
    },
    {
      "cell_type": "markdown",
      "source": [
        "The top cities include Los Angeles, Houston, Charlotte, Miami, etc. Let’s visualize the top 30 cities and see how many belong to the top ten states."
      ],
      "metadata": {
        "id": "NcSJSl_H7FN-"
      }
    },
    {
      "cell_type": "code",
      "metadata": {
        "colab": {
          "base_uri": "https://localhost:8080/"
        },
        "id": "jGCD_mSTJ85I",
        "outputId": "7993b8f7-0859-4ba7-c7fb-dff7be6937bf"
      },
      "source": [
        "cities_by_accident[:20]"
      ],
      "execution_count": null,
      "outputs": [
        {
          "output_type": "execute_result",
          "data": {
            "text/plain": [
              "Los Angeles      68411\n",
              "Houston          68265\n",
              "Charlotte        56176\n",
              "Miami            49965\n",
              "Dallas           48525\n",
              "Austin           38808\n",
              "Raleigh          31355\n",
              "Atlanta          29244\n",
              "Sacramento       28984\n",
              "Orlando          28092\n",
              "Nashville        25277\n",
              "Baton Rouge      25080\n",
              "Minneapolis      22469\n",
              "San Diego        22329\n",
              "Phoenix          21370\n",
              "Oklahoma City    21292\n",
              "Portland         19432\n",
              "Richmond         18343\n",
              "Seattle          17384\n",
              "Saint Paul       17266\n",
              "Name: City, dtype: int64"
            ]
          },
          "metadata": {
            "tags": []
          },
          "execution_count": 28
        }
      ]
    },
    {
      "cell_type": "code",
      "metadata": {
        "colab": {
          "base_uri": "https://localhost:8080/"
        },
        "id": "TnMSE508PNUk",
        "outputId": "21755b3e-c148-4d34-a8af-e68f1fadfbe3"
      },
      "source": [
        "type(cities_by_accident)"
      ],
      "execution_count": null,
      "outputs": [
        {
          "output_type": "execute_result",
          "data": {
            "text/plain": [
              "pandas.core.series.Series"
            ]
          },
          "metadata": {
            "tags": []
          },
          "execution_count": 29
        }
      ]
    },
    {
      "cell_type": "code",
      "metadata": {
        "colab": {
          "base_uri": "https://localhost:8080/",
          "height": 283
        },
        "id": "LlU6VLCgPNRY",
        "outputId": "90adf939-1be8-4e57-b15f-2001a71ff30a"
      },
      "source": [
        "cities_by_accident[:20].plot(kind='barh')"
      ],
      "execution_count": null,
      "outputs": [
        {
          "output_type": "execute_result",
          "data": {
            "text/plain": [
              "<matplotlib.axes._subplots.AxesSubplot at 0x7f3413e166d0>"
            ]
          },
          "metadata": {
            "tags": []
          },
          "execution_count": 30
        },
        {
          "output_type": "display_data",
          "data": {
            "image/png": "[encoded data removed]",
            "text/plain": [
              "<Figure size 432x288 with 1 Axes>"
            ]
          },
          "metadata": {
            "tags": [],
            "needs_background": "light"
          }
        }
      ]
    },
    {
      "cell_type": "markdown",
      "source": [
        "There is quite a lot of presence of cities from **California** (LA, Sacramento, San Diego, Riverside, Jacksonville), followed by **Texas** (Houston, Dallas, Austin), **Florida** (Miami, Orlando), and **North Carolina** (Charlotte, Raleigh). This is in tandem with the top three states: California, Florida, Texas, and North Carolina."
      ],
      "metadata": {
        "id": "cdYxIfUo7LN-"
      }
    },
    {
      "cell_type": "markdown",
      "source": [
        "How would the distribution of cities by the number of accidents look like?"
      ],
      "metadata": {
        "id": "YHbbJuGo7bRW"
      }
    },
    {
      "cell_type": "code",
      "metadata": {
        "id": "l0TL_lsRPSll"
      },
      "source": [
        "import seaborn as sns\n",
        "sns.set_style(\"darkgrid\")"
      ],
      "execution_count": null,
      "outputs": []
    },
    {
      "cell_type": "code",
      "metadata": {
        "colab": {
          "base_uri": "https://localhost:8080/"
        },
        "id": "BK8ClT3rPSdH",
        "outputId": "7d5bb573-d994-4922-cd6f-94842616c5c5"
      },
      "source": [
        "cities_by_accident[cities_by_accident == 1]"
      ],
      "execution_count": null,
      "outputs": [
        {
          "output_type": "execute_result",
          "data": {
            "text/plain": [
              "Phil Campbell       1\n",
              "Garfield Heights    1\n",
              "Poplar Branch       1\n",
              "Metaline Falls      1\n",
              "Wanette             1\n",
              "                   ..\n",
              "Cobbs Creek         1\n",
              "Stryker             1\n",
              "Laurel Fork         1\n",
              "Rivesville          1\n",
              "Cotton Valley       1\n",
              "Name: City, Length: 1306, dtype: int64"
            ]
          },
          "metadata": {
            "tags": []
          },
          "execution_count": 33
        }
      ]
    },
    {
      "cell_type": "code",
      "metadata": {
        "colab": {
          "base_uri": "https://localhost:8080/",
          "height": 351
        },
        "id": "TsupW5HYQsn3",
        "outputId": "52127a0c-0018-454f-b93c-97285db13bb7"
      },
      "source": [
        "sns.distplot(cities_by_accident)"
      ],
      "execution_count": null,
      "outputs": [
        {
          "output_type": "stream",
          "text": [
            "/usr/local/lib/python3.7/dist-packages/seaborn/distributions.py:2557: FutureWarning: `distplot` is a deprecated function and will be removed in a future version. Please adapt your code to use either `displot` (a figure-level function with similar flexibility) or `histplot` (an axes-level function for histograms).\n",
            "  warnings.warn(msg, FutureWarning)\n"
          ],
          "name": "stderr"
        },
        {
          "output_type": "execute_result",
          "data": {
            "text/plain": [
              "<matplotlib.axes._subplots.AxesSubplot at 0x7f3404d517d0>"
            ]
          },
          "metadata": {
            "tags": []
          },
          "execution_count": 37
        },
        {
          "output_type": "display_data",
          "data": {
            "image/png": "[encoded data removed]",
            "text/plain": [
              "<Figure size 432x288 with 1 Axes>"
            ]
          },
          "metadata": {
            "tags": []
          }
        }
      ]
    },
    {
      "cell_type": "code",
      "metadata": {
        "colab": {
          "base_uri": "https://localhost:8080/",
          "height": 301
        },
        "id": "jahUUpgDPShH",
        "outputId": "999194ab-364b-402f-e5aa-e25984e1b5f9"
      },
      "source": [
        "sns.histplot(cities_by_accident, log_scale=True)"
      ],
      "execution_count": null,
      "outputs": [
        {
          "output_type": "execute_result",
          "data": {
            "text/plain": [
              "<matplotlib.axes._subplots.AxesSubplot at 0x7f34056a3390>"
            ]
          },
          "metadata": {
            "tags": []
          },
          "execution_count": 32
        },
        {
          "output_type": "display_data",
          "data": {
            "image/png": "[encoded data removed]",
            "text/plain": [
              "<Figure size 432x288 with 1 Axes>"
            ]
          },
          "metadata": {
            "tags": []
          }
        }
      ]
    },
    {
      "cell_type": "markdown",
      "source": [
        "Over 1200 cities have reported only one accident during the entire period. This could either be very good news or it could be a result of missing data. Let’s break cities by accidents into two groups and see their respective distributions-\n",
        "\n",
        "* High accident cities where the number of accidents is greater and equal to 1000.\n",
        "\n",
        "* Low accident cities where the number is less than 1000.\n",
        "\n",
        "\n",
        "\n"
      ],
      "metadata": {
        "id": "-gP4CLPN7sdI"
      }
    },
    {
      "cell_type": "code",
      "metadata": {
        "id": "7FnqR63sRSgT"
      },
      "source": [
        "high_accident_cities = cities_by_accident[cities_by_accident >= 1000]\n",
        "low_accident_cities = cities_by_accident[cities_by_accident < 1000]\n"
      ],
      "execution_count": null,
      "outputs": []
    },
    {
      "cell_type": "markdown",
      "source": [
        "What is the percentage of high accident cities?\n"
      ],
      "metadata": {
        "id": "z7ZPP34N77FF"
      }
    },
    {
      "cell_type": "code",
      "metadata": {
        "colab": {
          "base_uri": "https://localhost:8080/"
        },
        "id": "lFbZOcfgRSNS",
        "outputId": "4e365916-ced0-4291-f24c-1f2d78f5cb6c"
      },
      "source": [
        "len(high_accident_cities) / len(cities)"
      ],
      "execution_count": null,
      "outputs": [
        {
          "output_type": "execute_result",
          "data": {
            "text/plain": [
              "0.04351145038167939"
            ]
          },
          "metadata": {
            "tags": []
          },
          "execution_count": 40
        }
      ]
    },
    {
      "cell_type": "markdown",
      "source": [
        "4.35% of the total number of cities have an accident number greater than 1000."
      ],
      "metadata": {
        "id": "8MUPfZmr7-E8"
      }
    },
    {
      "cell_type": "markdown",
      "source": [
        "The distribution of high accident cities look as-"
      ],
      "metadata": {
        "id": "yEVYCTbk8Ape"
      }
    },
    {
      "cell_type": "code",
      "metadata": {
        "colab": {
          "base_uri": "https://localhost:8080/",
          "height": 351
        },
        "id": "9QeHKVvKRzK0",
        "outputId": "9fadf951-cd2f-4661-b4e9-7240ade21beb"
      },
      "source": [
        "sns.distplot(high_accident_cities)"
      ],
      "execution_count": null,
      "outputs": [
        {
          "output_type": "stream",
          "text": [
            "/usr/local/lib/python3.7/dist-packages/seaborn/distributions.py:2557: FutureWarning: `distplot` is a deprecated function and will be removed in a future version. Please adapt your code to use either `displot` (a figure-level function with similar flexibility) or `histplot` (an axes-level function for histograms).\n",
            "  warnings.warn(msg, FutureWarning)\n"
          ],
          "name": "stderr"
        },
        {
          "output_type": "execute_result",
          "data": {
            "text/plain": [
              "<matplotlib.axes._subplots.AxesSubplot at 0x7f33f5c774d0>"
            ]
          },
          "metadata": {
            "tags": []
          },
          "execution_count": 41
        },
        {
          "output_type": "display_data",
          "data": {
            "image/png": "[encoded data removed]",
            "text/plain": [
              "<Figure size 432x288 with 1 Axes>"
            ]
          },
          "metadata": {
            "tags": []
          }
        }
      ]
    },
    {
      "cell_type": "markdown",
      "source": [
        "Less than 150 cities (out of 11,790) reported more than 10000 accidents during the period between February  and December . \n",
        "\n",
        "Similarly, the cities with the low number of accidents are picturized as-"
      ],
      "metadata": {
        "id": "1p1XrbZX8PxY"
      }
    },
    {
      "cell_type": "code",
      "metadata": {
        "colab": {
          "base_uri": "https://localhost:8080/",
          "height": 351
        },
        "id": "r2Es6xOzRy35",
        "outputId": "487bda9d-1e9a-4551-9f45-33463ddabe8d"
      },
      "source": [
        "sns.distplot(low_accident_cities)"
      ],
      "execution_count": null,
      "outputs": [
        {
          "output_type": "stream",
          "text": [
            "/usr/local/lib/python3.7/dist-packages/seaborn/distributions.py:2557: FutureWarning: `distplot` is a deprecated function and will be removed in a future version. Please adapt your code to use either `displot` (a figure-level function with similar flexibility) or `histplot` (an axes-level function for histograms).\n",
            "  warnings.warn(msg, FutureWarning)\n"
          ],
          "name": "stderr"
        },
        {
          "output_type": "execute_result",
          "data": {
            "text/plain": [
              "<matplotlib.axes._subplots.AxesSubplot at 0x7f33f5bae2d0>"
            ]
          },
          "metadata": {
            "tags": []
          },
          "execution_count": 42
        },
        {
          "output_type": "display_data",
          "data": {
            "image/png": "[encoded data removed]",
            "text/plain": [
              "<Figure size 432x288 with 1 Axes>"
            ]
          },
          "metadata": {
            "tags": []
          }
        }
      ]
    },
    {
      "cell_type": "markdown",
      "source": [
        "* Over 1200 cities have had just one accident in 4years- needs further investigation.\n",
        "* The majority of them have witnessed between 10–100 accidents during the period.\n",
        "* Accidents by cities follow an exponentially decreasing distribution."
      ],
      "metadata": {
        "id": "1foBwNP68kdr"
      }
    },
    {
      "cell_type": "markdown",
      "metadata": {
        "id": "oVt_jQkjwAK9"
      },
      "source": [
        "Which 5 states have the highest number of accidents?"
      ]
    },
    {
      "cell_type": "markdown",
      "metadata": {
        "id": "yd7v4ofCsFsZ"
      },
      "source": [
        "**State**\n",
        "\n",
        "\n",
        "The column lists down the name of the US state found in the address of the accident. "
      ]
    },
    {
      "cell_type": "code",
      "metadata": {
        "colab": {
          "base_uri": "https://localhost:8080/"
        },
        "id": "4uwmOk_nsIeC",
        "outputId": "5210612d-3f53-4a69-9316-583fa6ffee27"
      },
      "source": [
        "df.State"
      ],
      "execution_count": null,
      "outputs": [
        {
          "output_type": "execute_result",
          "data": {
            "text/plain": [
              "0          SC\n",
              "1          NC\n",
              "2          CA\n",
              "3          NV\n",
              "4          FL\n",
              "           ..\n",
              "2906605    TX\n",
              "2906606    CA\n",
              "2906607    FL\n",
              "2906608    UT\n",
              "2906609    CO\n",
              "Name: State, Length: 2906610, dtype: object"
            ]
          },
          "metadata": {
            "tags": []
          },
          "execution_count": 82
        }
      ]
    },
    {
      "cell_type": "code",
      "metadata": {
        "colab": {
          "base_uri": "https://localhost:8080/"
        },
        "id": "z-InAgnIsT_7",
        "outputId": "1ded9c4e-d71d-49ec-9542-1ad223afa24a"
      },
      "source": [
        "states = df.State.unique()\n",
        "len(states)"
      ],
      "execution_count": null,
      "outputs": [
        {
          "output_type": "execute_result",
          "data": {
            "text/plain": [
              "49"
            ]
          },
          "metadata": {
            "tags": []
          },
          "execution_count": 83
        }
      ]
    },
    {
      "cell_type": "code",
      "metadata": {
        "colab": {
          "base_uri": "https://localhost:8080/"
        },
        "id": "-J0FZ6RbsjN3",
        "outputId": "b88878ce-f109-49ab-84e5-16cfca40a2bc"
      },
      "source": [
        "states_by_accident = df.State.value_counts()\n",
        "states_by_accident"
      ],
      "execution_count": null,
      "outputs": [
        {
          "output_type": "execute_result",
          "data": {
            "text/plain": [
              "CA    730744\n",
              "FL    263300\n",
              "TX    226640\n",
              "NY    126176\n",
              "NC    122797\n",
              "SC    120462\n",
              "OR     98352\n",
              "PA     89745\n",
              "VA     89730\n",
              "MN     79712\n",
              "IL     77626\n",
              "GA     69536\n",
              "MI     67073\n",
              "AZ     61707\n",
              "TN     55495\n",
              "MD     52755\n",
              "NJ     50214\n",
              "LA     50103\n",
              "WA     49455\n",
              "OH     47836\n",
              "UT     46897\n",
              "CO     37280\n",
              "OK     35105\n",
              "AL     33290\n",
              "MO     28674\n",
              "MA     25121\n",
              "IN     24993\n",
              "CT     24054\n",
              "KY     15296\n",
              "WI     14669\n",
              "NE     13678\n",
              "IA      9492\n",
              "RI      8314\n",
              "NV      7812\n",
              "KS      7444\n",
              "NH      6250\n",
              "MS      5419\n",
              "DC      5201\n",
              "AR      4726\n",
              "DE      4625\n",
              "ID      4165\n",
              "NM      3973\n",
              "WV      3421\n",
              "MT      3333\n",
              "ME      2266\n",
              "VT       555\n",
              "ND       463\n",
              "WY       419\n",
              "SD       217\n",
              "Name: State, dtype: int64"
            ]
          },
          "metadata": {
            "tags": []
          },
          "execution_count": 84
        }
      ]
    },
    {
      "cell_type": "markdown",
      "source": [
        "Let’s look at the five ten states by the number of accidents. "
      ],
      "metadata": {
        "id": "nLF7X9Ot9oN1"
      }
    },
    {
      "cell_type": "code",
      "metadata": {
        "colab": {
          "base_uri": "https://localhost:8080/"
        },
        "id": "RIH0v2kVswbT",
        "outputId": "66e4a1a9-2953-4560-ac2e-9e0247b7474f"
      },
      "source": [
        "states_by_accident[:5]"
      ],
      "execution_count": null,
      "outputs": [
        {
          "output_type": "execute_result",
          "data": {
            "text/plain": [
              "CA    730744\n",
              "FL    263300\n",
              "TX    226640\n",
              "NY    126176\n",
              "NC    122797\n",
              "Name: State, dtype: int64"
            ]
          },
          "metadata": {
            "tags": []
          },
          "execution_count": 86
        }
      ]
    },
    {
      "cell_type": "markdown",
      "metadata": {
        "id": "gy5CJjUlwsKx"
      },
      "source": [
        "Among the top 100 cities in number of accidents, which states do they belong to most frequently.\n",
        "\n",
        "  The cities with most number of accidents are **California**, **Florida**, **Texas**, **New York**, **North Carolina**."
      ]
    },
    {
      "cell_type": "code",
      "metadata": {
        "colab": {
          "base_uri": "https://localhost:8080/"
        },
        "id": "IKmd9PMswrHc",
        "outputId": "24e2a366-fa4d-432b-b3e5-bd66b7e21132"
      },
      "source": [
        "states_by_accident[:100]"
      ],
      "execution_count": null,
      "outputs": [
        {
          "output_type": "execute_result",
          "data": {
            "text/plain": [
              "CA    730744\n",
              "FL    263300\n",
              "TX    226640\n",
              "NY    126176\n",
              "NC    122797\n",
              "SC    120462\n",
              "OR     98352\n",
              "PA     89745\n",
              "VA     89730\n",
              "MN     79712\n",
              "IL     77626\n",
              "GA     69536\n",
              "MI     67073\n",
              "AZ     61707\n",
              "TN     55495\n",
              "MD     52755\n",
              "NJ     50214\n",
              "LA     50103\n",
              "WA     49455\n",
              "OH     47836\n",
              "UT     46897\n",
              "CO     37280\n",
              "OK     35105\n",
              "AL     33290\n",
              "MO     28674\n",
              "MA     25121\n",
              "IN     24993\n",
              "CT     24054\n",
              "KY     15296\n",
              "WI     14669\n",
              "NE     13678\n",
              "IA      9492\n",
              "RI      8314\n",
              "NV      7812\n",
              "KS      7444\n",
              "NH      6250\n",
              "MS      5419\n",
              "DC      5201\n",
              "AR      4726\n",
              "DE      4625\n",
              "ID      4165\n",
              "NM      3973\n",
              "WV      3421\n",
              "MT      3333\n",
              "ME      2266\n",
              "VT       555\n",
              "ND       463\n",
              "WY       419\n",
              "SD       217\n",
              "Name: State, dtype: int64"
            ]
          },
          "metadata": {
            "tags": []
          },
          "execution_count": 94
        }
      ]
    },
    {
      "cell_type": "markdown",
      "metadata": {
        "id": "UQtKsES2Xcg_"
      },
      "source": [
        "**Start Time**\n",
        "\n",
        "This column records the start time of the accident in the local time zone."
      ]
    },
    {
      "cell_type": "code",
      "metadata": {
        "colab": {
          "base_uri": "https://localhost:8080/"
        },
        "id": "YQ2rD7CsXkIv",
        "outputId": "97e973ab-ca83-4c48-cbd8-28ca0c4b064b"
      },
      "source": [
        "df.Start_Time"
      ],
      "execution_count": null,
      "outputs": [
        {
          "output_type": "execute_result",
          "data": {
            "text/plain": [
              "0          2019-05-21 08:29:55\n",
              "1          2019-10-07 17:43:09\n",
              "2          2020-12-13 21:53:00\n",
              "3          2018-04-17 16:51:23\n",
              "4          2016-08-31 17:40:49\n",
              "                  ...         \n",
              "2906605    2018-06-28 08:49:01\n",
              "2906606    2019-01-10 02:01:01\n",
              "2906607    2020-11-23 12:52:00\n",
              "2906608    2019-12-29 22:38:00\n",
              "2906609    2018-03-26 13:35:03\n",
              "Name: Start_Time, Length: 2906610, dtype: object"
            ]
          },
          "metadata": {
            "tags": []
          },
          "execution_count": 43
        }
      ]
    },
    {
      "cell_type": "code",
      "metadata": {
        "id": "kXPtLUFwXkGm"
      },
      "source": [
        "df.Start_Time = pd.to_datetime(df.Start_Time)"
      ],
      "execution_count": null,
      "outputs": []
    },
    {
      "cell_type": "code",
      "metadata": {
        "colab": {
          "base_uri": "https://localhost:8080/"
        },
        "id": "ekQ0Xm8nYlAO",
        "outputId": "3a33fc8d-99c0-4794-90ca-4c675798b6df"
      },
      "source": [
        "df.Start_Time[0]"
      ],
      "execution_count": null,
      "outputs": [
        {
          "output_type": "execute_result",
          "data": {
            "text/plain": [
              "Timestamp('2019-05-21 08:29:55')"
            ]
          },
          "metadata": {
            "tags": []
          },
          "execution_count": 50
        }
      ]
    },
    {
      "cell_type": "code",
      "metadata": {
        "colab": {
          "base_uri": "https://localhost:8080/",
          "height": 297
        },
        "id": "MYf_IY06ZOeZ",
        "outputId": "d821efca-506a-4b90-b352-eaf85becf0df"
      },
      "source": [
        "sns.histplot(df.Start_Time.dt.hour, bins=24)"
      ],
      "execution_count": null,
      "outputs": [
        {
          "output_type": "execute_result",
          "data": {
            "text/plain": [
              "<matplotlib.axes._subplots.AxesSubplot at 0x7f33f5495e90>"
            ]
          },
          "metadata": {
            "tags": []
          },
          "execution_count": 52
        },
        {
          "output_type": "display_data",
          "data": {
            "image/png": "[encoded data removed]",
            "text/plain": [
              "<Figure size 432x288 with 1 Axes>"
            ]
          },
          "metadata": {
            "tags": []
          }
        }
      ]
    },
    {
      "cell_type": "markdown",
      "metadata": {
        "id": "zoZ-BUo5xyLH"
      },
      "source": [
        "What time of the day are accidents most frequent in?"
      ]
    },
    {
      "cell_type": "markdown",
      "source": [
        "There are two peaks of time- one in the morning in between **6 am to 9 am** and another between **3 pm and 6 pm.** This is consistent with the assumption that rush hours in the morning and evening could lead to more accidents."
      ],
      "metadata": {
        "id": "611D8mq2-B5j"
      }
    },
    {
      "cell_type": "code",
      "metadata": {
        "colab": {
          "base_uri": "https://localhost:8080/",
          "height": 352
        },
        "id": "KOFoJzfWXj-C",
        "outputId": "b15c414f-1c9d-48f4-962c-d66188477db3"
      },
      "source": [
        "sns.distplot(df.Start_Time.dt.hour, bins=24, kde=False, norm_hist=True)"
      ],
      "execution_count": null,
      "outputs": [
        {
          "output_type": "stream",
          "text": [
            "/usr/local/lib/python3.7/dist-packages/seaborn/distributions.py:2557: FutureWarning: `distplot` is a deprecated function and will be removed in a future version. Please adapt your code to use either `displot` (a figure-level function with similar flexibility) or `histplot` (an axes-level function for histograms).\n",
            "  warnings.warn(msg, FutureWarning)\n"
          ],
          "name": "stderr"
        },
        {
          "output_type": "execute_result",
          "data": {
            "text/plain": [
              "<matplotlib.axes._subplots.AxesSubplot at 0x7f33f61eaa90>"
            ]
          },
          "metadata": {
            "tags": []
          },
          "execution_count": 45
        },
        {
          "output_type": "display_data",
          "data": {
            "image/png": "[encoded data removed]",
            "text/plain": [
              "<Figure size 432x288 with 1 Axes>"
            ]
          },
          "metadata": {
            "tags": []
          }
        }
      ]
    },
    {
      "cell_type": "markdown",
      "metadata": {
        "id": "oUVhi2VVZ0k2"
      },
      "source": [
        "- A high percentage of accidents occurs between 6 am to 10 am ( probably people in a hurry to get to work  or maybe there is a lot of traffic which might cause more number of accidents.)"
      ]
    },
    {
      "cell_type": "code",
      "metadata": {
        "colab": {
          "base_uri": "https://localhost:8080/",
          "height": 352
        },
        "id": "S5VJCrbKXj5Z",
        "outputId": "c7315ee2-0192-4dbb-af84-0d25f29ed950"
      },
      "source": [
        "sns.distplot(df.Start_Time.dt.dayofweek, bins=7, kde=False, norm_hist=True)"
      ],
      "execution_count": null,
      "outputs": [
        {
          "output_type": "stream",
          "text": [
            "/usr/local/lib/python3.7/dist-packages/seaborn/distributions.py:2557: FutureWarning: `distplot` is a deprecated function and will be removed in a future version. Please adapt your code to use either `displot` (a figure-level function with similar flexibility) or `histplot` (an axes-level function for histograms).\n",
            "  warnings.warn(msg, FutureWarning)\n"
          ],
          "name": "stderr"
        },
        {
          "output_type": "execute_result",
          "data": {
            "text/plain": [
              "<matplotlib.axes._subplots.AxesSubplot at 0x7f33f5cbc450>"
            ]
          },
          "metadata": {
            "tags": []
          },
          "execution_count": 46
        },
        {
          "output_type": "display_data",
          "data": {
            "image/png": "[encoded data removed]",
            "text/plain": [
              "<Figure size 432x288 with 1 Axes>"
            ]
          },
          "metadata": {
            "tags": []
          }
        }
      ]
    },
    {
      "cell_type": "markdown",
      "metadata": {
        "id": "_XAKTLnmaxvV"
      },
      "source": [
        "Is the distribution of accidents by hour the same on weekends as on weekdays."
      ]
    },
    {
      "cell_type": "code",
      "metadata": {
        "colab": {
          "base_uri": "https://localhost:8080/",
          "height": 352
        },
        "id": "E375UsUvXj2V",
        "outputId": "6a0f49eb-1275-4aab-fb94-db712529b05d"
      },
      "source": [
        "sundays_start_time = df.Start_Time[df.Start_Time.dt.dayofweek == 6]\n",
        "sns.distplot(sundays_start_time.dt.hour, bins=24, kde=False, norm_hist=True)"
      ],
      "execution_count": null,
      "outputs": [
        {
          "output_type": "stream",
          "text": [
            "/usr/local/lib/python3.7/dist-packages/seaborn/distributions.py:2557: FutureWarning: `distplot` is a deprecated function and will be removed in a future version. Please adapt your code to use either `displot` (a figure-level function with similar flexibility) or `histplot` (an axes-level function for histograms).\n",
            "  warnings.warn(msg, FutureWarning)\n"
          ],
          "name": "stderr"
        },
        {
          "output_type": "execute_result",
          "data": {
            "text/plain": [
              "<matplotlib.axes._subplots.AxesSubplot at 0x7f33f5964390>"
            ]
          },
          "metadata": {
            "tags": []
          },
          "execution_count": 47
        },
        {
          "output_type": "display_data",
          "data": {
            "image/png": "[encoded data removed]",
            "text/plain": [
              "<Figure size 432x288 with 1 Axes>"
            ]
          },
          "metadata": {
            "tags": []
          }
        }
      ]
    },
    {
      "cell_type": "markdown",
      "source": [
        "The distribution for Sunday sees a peak between 10 am and 2 pm. This could be due to people going out for leisurely activities on Sundays."
      ],
      "metadata": {
        "id": "LDmTqT14-iC5"
      }
    },
    {
      "cell_type": "code",
      "metadata": {
        "colab": {
          "base_uri": "https://localhost:8080/",
          "height": 352
        },
        "id": "2W5txkNFPSZS",
        "outputId": "aee79b1a-37c2-445e-a577-435451cba532"
      },
      "source": [
        "monday_start_time = df.Start_Time[df.Start_Time.dt.dayofweek == 0]\n",
        "sns.distplot(monday_start_time.dt.hour, bins=24, kde=False, norm_hist=True)"
      ],
      "execution_count": null,
      "outputs": [
        {
          "output_type": "stream",
          "text": [
            "/usr/local/lib/python3.7/dist-packages/seaborn/distributions.py:2557: FutureWarning: `distplot` is a deprecated function and will be removed in a future version. Please adapt your code to use either `displot` (a figure-level function with similar flexibility) or `histplot` (an axes-level function for histograms).\n",
            "  warnings.warn(msg, FutureWarning)\n"
          ],
          "name": "stderr"
        },
        {
          "output_type": "execute_result",
          "data": {
            "text/plain": [
              "<matplotlib.axes._subplots.AxesSubplot at 0x7f33f58d46d0>"
            ]
          },
          "metadata": {
            "tags": []
          },
          "execution_count": 48
        },
        {
          "output_type": "display_data",
          "data": {
            "image/png": "[encoded data removed]",
            "text/plain": [
              "<Figure size 432x288 with 1 Axes>"
            ]
          },
          "metadata": {
            "tags": []
          }
        }
      ]
    },
    {
      "cell_type": "markdown",
      "source": [
        "While Monday follows the general 24-hour pattern- two peaks coinciding with work rush"
      ],
      "metadata": {
        "id": "XEqSg-Hl-mCD"
      }
    },
    {
      "cell_type": "markdown",
      "source": [
        "If we plot for the monthly distribution of accidents, there seems to be a steady upward curve from the second half of the year, as shown below-"
      ],
      "metadata": {
        "id": "7KICeJ_a-_Vx"
      }
    },
    {
      "cell_type": "code",
      "metadata": {
        "colab": {
          "base_uri": "https://localhost:8080/",
          "height": 352
        },
        "id": "G1P9B0ZYcNLv",
        "outputId": "5151a153-fd33-4813-8f89-168f924b1ad8"
      },
      "source": [
        "sns.distplot(df.Start_Time.dt.month, bins=12, kde=False, norm_hist=True)"
      ],
      "execution_count": null,
      "outputs": [
        {
          "output_type": "stream",
          "text": [
            "/usr/local/lib/python3.7/dist-packages/seaborn/distributions.py:2557: FutureWarning: `distplot` is a deprecated function and will be removed in a future version. Please adapt your code to use either `displot` (a figure-level function with similar flexibility) or `histplot` (an axes-level function for histograms).\n",
            "  warnings.warn(msg, FutureWarning)\n"
          ],
          "name": "stderr"
        },
        {
          "output_type": "execute_result",
          "data": {
            "text/plain": [
              "<matplotlib.axes._subplots.AxesSubplot at 0x7f33f53adb10>"
            ]
          },
          "metadata": {
            "tags": []
          },
          "execution_count": 54
        },
        {
          "output_type": "display_data",
          "data": {
            "image/png": "[encoded data removed]",
            "text/plain": [
              "<Figure size 432x288 with 1 Axes>"
            ]
          },
          "metadata": {
            "tags": []
          }
        }
      ]
    },
    {
      "cell_type": "markdown",
      "source": [
        "This could possibly be due to summer break and then the new school term around August-September."
      ],
      "metadata": {
        "id": "LldasKHm_HJJ"
      }
    },
    {
      "cell_type": "markdown",
      "metadata": {
        "id": "GZJ_MCBPc0aR"
      },
      "source": [
        "Are there more accidents in warmer or colder areas?\n",
        "\n",
        "There are more accidents in November and December (winter season)"
      ]
    },
    {
      "cell_type": "code",
      "metadata": {
        "colab": {
          "base_uri": "https://localhost:8080/"
        },
        "id": "Fp0N244ldXRk",
        "outputId": "eac31cbe-2651-4d93-ec7b-a87a50ec26cc"
      },
      "source": [
        "df.Start_Time.dt.year"
      ],
      "execution_count": null,
      "outputs": [
        {
          "output_type": "execute_result",
          "data": {
            "text/plain": [
              "0          2019\n",
              "1          2019\n",
              "2          2020\n",
              "3          2018\n",
              "4          2016\n",
              "           ... \n",
              "2906605    2018\n",
              "2906606    2019\n",
              "2906607    2020\n",
              "2906608    2019\n",
              "2906609    2018\n",
              "Name: Start_Time, Length: 2906610, dtype: int64"
            ]
          },
          "metadata": {
            "tags": []
          },
          "execution_count": 55
        }
      ]
    },
    {
      "cell_type": "code",
      "metadata": {
        "colab": {
          "base_uri": "https://localhost:8080/",
          "height": 354
        },
        "id": "8ZA-taNSPSWY",
        "outputId": "f9b86026-8fd8-471f-d841-289aefeb5938"
      },
      "source": [
        "df_2019 = df[df.Start_Time.dt.year == 2019]\n",
        "sns.distplot(df_2019.Start_Time.dt.month, bins=12, kde=False, norm_hist=True)"
      ],
      "execution_count": null,
      "outputs": [
        {
          "output_type": "stream",
          "text": [
            "/usr/local/lib/python3.7/dist-packages/seaborn/distributions.py:2557: FutureWarning: `distplot` is a deprecated function and will be removed in a future version. Please adapt your code to use either `displot` (a figure-level function with similar flexibility) or `histplot` (an axes-level function for histograms).\n",
            "  warnings.warn(msg, FutureWarning)\n"
          ],
          "name": "stderr"
        },
        {
          "output_type": "execute_result",
          "data": {
            "text/plain": [
              "<matplotlib.axes._subplots.AxesSubplot at 0x7f33f53cae10>"
            ]
          },
          "metadata": {
            "tags": []
          },
          "execution_count": 58
        },
        {
          "output_type": "display_data",
          "data": {
            "image/png": "[encoded data removed]",
            "text/plain": [
              "<Figure size 432x288 with 1 Axes>"
            ]
          },
          "metadata": {
            "tags": []
          }
        }
      ]
    },
    {
      "cell_type": "markdown",
      "source": [
        "2019 does not show a consistent increase in accidents over the months. So, the overall picture might be misleading due to the significant numbers missing. It could also be attributed to data mismatch if the sources of the collection are varied. This would need further investigation."
      ],
      "metadata": {
        "id": "Pf_uB8Ip_Uoh"
      }
    },
    {
      "cell_type": "code",
      "metadata": {
        "colab": {
          "base_uri": "https://localhost:8080/",
          "height": 352
        },
        "id": "gGQDziRVePRE",
        "outputId": "f03082fa-2df1-4272-ebeb-9d967329cc2a"
      },
      "source": [
        "df_2018 = df[df.Start_Time.dt.year == 2018]\n",
        "sns.distplot(df_2018.Start_Time.dt.month, bins=12, kde=False, norm_hist=True)"
      ],
      "execution_count": null,
      "outputs": [
        {
          "output_type": "stream",
          "text": [
            "/usr/local/lib/python3.7/dist-packages/seaborn/distributions.py:2557: FutureWarning: `distplot` is a deprecated function and will be removed in a future version. Please adapt your code to use either `displot` (a figure-level function with similar flexibility) or `histplot` (an axes-level function for histograms).\n",
            "  warnings.warn(msg, FutureWarning)\n"
          ],
          "name": "stderr"
        },
        {
          "output_type": "execute_result",
          "data": {
            "text/plain": [
              "<matplotlib.axes._subplots.AxesSubplot at 0x7f33f5886550>"
            ]
          },
          "metadata": {
            "tags": []
          },
          "execution_count": 61
        },
        {
          "output_type": "display_data",
          "data": {
            "image/png": "[encoded data removed]",
            "text/plain": [
              "<Figure size 432x288 with 1 Axes>"
            ]
          },
          "metadata": {
            "tags": []
          }
        }
      ]
    },
    {
      "cell_type": "code",
      "metadata": {
        "colab": {
          "base_uri": "https://localhost:8080/",
          "height": 352
        },
        "id": "6sY1KSw-ekf4",
        "outputId": "bc260fd9-03d7-49d7-ac75-4e8d81c466bc"
      },
      "source": [
        "df_2017 = df[df.Start_Time.dt.year == 2017]\n",
        "sns.distplot(df_2017.Start_Time.dt.month, bins=12, kde=False, norm_hist=True)"
      ],
      "execution_count": null,
      "outputs": [
        {
          "output_type": "stream",
          "text": [
            "/usr/local/lib/python3.7/dist-packages/seaborn/distributions.py:2557: FutureWarning: `distplot` is a deprecated function and will be removed in a future version. Please adapt your code to use either `displot` (a figure-level function with similar flexibility) or `histplot` (an axes-level function for histograms).\n",
            "  warnings.warn(msg, FutureWarning)\n"
          ],
          "name": "stderr"
        },
        {
          "output_type": "execute_result",
          "data": {
            "text/plain": [
              "<matplotlib.axes._subplots.AxesSubplot at 0x7f33f50bd210>"
            ]
          },
          "metadata": {
            "tags": []
          },
          "execution_count": 63
        },
        {
          "output_type": "display_data",
          "data": {
            "image/png": "[encoded data removed]",
            "text/plain": [
              "<Figure size 432x288 with 1 Axes>"
            ]
          },
          "metadata": {
            "tags": []
          }
        }
      ]
    },
    {
      "cell_type": "code",
      "metadata": {
        "colab": {
          "base_uri": "https://localhost:8080/",
          "height": 352
        },
        "id": "cNX2H79befeM",
        "outputId": "5dedd34e-3885-4e97-8ec3-5d5d83653c66"
      },
      "source": [
        "df_2016 = df[df.Start_Time.dt.year == 2016]\n",
        "sns.distplot(df_2016.Start_Time.dt.month, bins=12, kde=False, norm_hist=True)"
      ],
      "execution_count": null,
      "outputs": [
        {
          "output_type": "stream",
          "text": [
            "/usr/local/lib/python3.7/dist-packages/seaborn/distributions.py:2557: FutureWarning: `distplot` is a deprecated function and will be removed in a future version. Please adapt your code to use either `displot` (a figure-level function with similar flexibility) or `histplot` (an axes-level function for histograms).\n",
            "  warnings.warn(msg, FutureWarning)\n"
          ],
          "name": "stderr"
        },
        {
          "output_type": "execute_result",
          "data": {
            "text/plain": [
              "<matplotlib.axes._subplots.AxesSubplot at 0x7f33f512b6d0>"
            ]
          },
          "metadata": {
            "tags": []
          },
          "execution_count": 62
        },
        {
          "output_type": "display_data",
          "data": {
            "image/png": "[encoded data removed]",
            "text/plain": [
              "<Figure size 432x288 with 1 Axes>"
            ]
          },
          "metadata": {
            "tags": []
          }
        }
      ]
    },
    {
      "cell_type": "markdown",
      "source": [
        "Clearly, there is data missing for the month of January (data was collected from February 2016) and July."
      ],
      "metadata": {
        "id": "4gBZUmhm_bZZ"
      }
    },
    {
      "cell_type": "markdown",
      "metadata": {
        "id": "oW3ljdXveBQ5"
      },
      "source": [
        "Can you explain the month-wise trend of accidents?\n",
        "\n",
        "- Much data is missing for 2016, maybe even 2017\n"
      ]
    },
    {
      "cell_type": "markdown",
      "metadata": {
        "id": "oC9PenZrfrSr"
      },
      "source": [
        "**Start Latitude & Longitude**"
      ]
    },
    {
      "cell_type": "code",
      "metadata": {
        "colab": {
          "base_uri": "https://localhost:8080/"
        },
        "id": "U92S9C9GeyZd",
        "outputId": "810cf769-1b9a-4c2a-be32-150153d2bd8d"
      },
      "source": [
        "df.Start_Lat"
      ],
      "execution_count": null,
      "outputs": [
        {
          "output_type": "execute_result",
          "data": {
            "text/plain": [
              "0          34.808868\n",
              "1          35.090080\n",
              "2          37.145730\n",
              "3          39.110390\n",
              "4          26.102942\n",
              "             ...    \n",
              "2906605    29.813824\n",
              "2906606    34.068890\n",
              "2906607    25.702200\n",
              "2906608    40.660140\n",
              "2906609    38.831749\n",
              "Name: Start_Lat, Length: 2906610, dtype: float64"
            ]
          },
          "metadata": {
            "tags": []
          },
          "execution_count": 67
        }
      ]
    },
    {
      "cell_type": "code",
      "metadata": {
        "colab": {
          "base_uri": "https://localhost:8080/"
        },
        "id": "0AAv14BAfxGC",
        "outputId": "6d85709a-6fe9-4ad3-c5af-d9874922c67d"
      },
      "source": [
        "df.Start_Lng"
      ],
      "execution_count": null,
      "outputs": [
        {
          "output_type": "execute_result",
          "data": {
            "text/plain": [
              "0          -82.269157\n",
              "1          -80.745560\n",
              "2         -121.985052\n",
              "3         -119.773781\n",
              "4          -80.265091\n",
              "              ...    \n",
              "2906605    -95.399437\n",
              "2906606   -117.342010\n",
              "2906607    -80.335556\n",
              "2906608   -111.952460\n",
              "2906609   -104.748161\n",
              "Name: Start_Lng, Length: 2906610, dtype: float64"
            ]
          },
          "metadata": {
            "tags": []
          },
          "execution_count": 68
        }
      ]
    },
    {
      "cell_type": "code",
      "metadata": {
        "colab": {
          "base_uri": "https://localhost:8080/",
          "height": 299
        },
        "id": "Cumw4h7emQN2",
        "outputId": "127123db-43c4-45cb-8a08-1702bba673fe"
      },
      "source": [
        "sns.scatterplot(x=df.Start_Lng, y= df.Start_Lat)"
      ],
      "execution_count": null,
      "outputs": [
        {
          "output_type": "execute_result",
          "data": {
            "text/plain": [
              "<matplotlib.axes._subplots.AxesSubplot at 0x7f33e7b79510>"
            ]
          },
          "metadata": {
            "tags": []
          },
          "execution_count": 78
        },
        {
          "output_type": "display_data",
          "data": {
            "image/png": "[encoded data removed]",
            "text/plain": [
              "<Figure size 432x288 with 1 Axes>"
            ]
          },
          "metadata": {
            "tags": []
          }
        }
      ]
    },
    {
      "cell_type": "code",
      "metadata": {
        "id": "j3wnnJNJfxDb"
      },
      "source": [
        "sample_df = df.sample(int(0.1 * len(df)))"
      ],
      "execution_count": null,
      "outputs": []
    },
    {
      "cell_type": "code",
      "metadata": {
        "colab": {
          "base_uri": "https://localhost:8080/",
          "height": 299
        },
        "id": "wNDnLs9DfxBr",
        "outputId": "1e01dcb8-3ce4-4152-8838-08f80cb8a1c9"
      },
      "source": [
        "sns.scatterplot(x=sample_df.Start_Lng, y=sample_df.Start_Lat, size=0.001)"
      ],
      "execution_count": null,
      "outputs": [
        {
          "output_type": "execute_result",
          "data": {
            "text/plain": [
              "<matplotlib.axes._subplots.AxesSubplot at 0x7f33f503dc90>"
            ]
          },
          "metadata": {
            "tags": []
          },
          "execution_count": 70
        },
        {
          "output_type": "display_data",
          "data": {
            "image/png": "[encoded data removed]",
            "text/plain": [
              "<Figure size 432x288 with 1 Axes>"
            ]
          },
          "metadata": {
            "tags": []
          }
        }
      ]
    },
    {
      "cell_type": "code",
      "metadata": {
        "id": "XttRw2zMfw81"
      },
      "source": [
        "import folium"
      ],
      "execution_count": null,
      "outputs": []
    },
    {
      "cell_type": "code",
      "metadata": {
        "colab": {
          "base_uri": "https://localhost:8080/"
        },
        "id": "SiU8e-Ahfw4j",
        "outputId": "2c01b0cd-879a-41b8-b4ab-7df1f809bc93"
      },
      "source": [
        "lat, lon = df.Start_Lat[0], df.Start_Lng[0]\n",
        "lat, lon"
      ],
      "execution_count": null,
      "outputs": [
        {
          "output_type": "execute_result",
          "data": {
            "text/plain": [
              "(34.808868, -82.26915699999998)"
            ]
          },
          "metadata": {
            "tags": []
          },
          "execution_count": 72
        }
      ]
    },
    {
      "cell_type": "code",
      "metadata": {
        "colab": {
          "base_uri": "https://localhost:8080/",
          "height": 712
        },
        "id": "obgcBtY_obMP",
        "outputId": "a2503bad-3324-4b0e-94ce-db29627e137e"
      },
      "source": [
        "map = folium.Map()\n",
        "marker = folium.Marker((lat,lon))\n",
        "marker.add_to(map)\n",
        "map"
      ],
      "execution_count": null,
      "outputs": [
        {
          "output_type": "execute_result",
          "data": {
            "text/html": [
              "<div style=\"width:100%;\"><div style=\"position:relative;width:100%;height:0;padding-bottom:60%;\"><span style=\"color:#565656\">Make this Notebook Trusted to load map: File -> Trust Notebook</span><iframe src=\"about:blank\" style=\"position:absolute;width:100%;height:100%;left:0;top:0;border:none !important;\" data-html=%3C%21DOCTYPE%20html%3E%0A%3Chead%3E%20%20%20%20%0A%20%20%20%20%3Cmeta%20http-equiv%3D%22content-type%22%20content%3D%22text/html%3B%20charset%3DUTF-8%22%20/%3E%0A%20%20%20%20%3Cscript%3EL_PREFER_CANVAS%3Dfalse%3B%20L_NO_TOUCH%3Dfalse%3B%20L_DISABLE_3D%3Dfalse%3B%3C/script%3E%0A%20%20%20%20%3Cscript%20src%3D%22https%3A//cdn.jsdelivr.net/npm/leaflet%401.4.0/dist/leaflet.js%22%3E%3C/script%3E%0A%20%20%20%20%3Cscript%20src%3D%22https%3A//code.jquery.com/jquery-1.12.4.min.js%22%3E%3C/script%3E%0A%20%20%20%20%3Cscript%20src%3D%22https%3A//maxcdn.bootstrapcdn.com/bootstrap/3.2.0/js/bootstrap.min.js%22%3E%3C/script%3E%0A%20%20%20%20%3Cscript%20src%3D%22https%3A//cdnjs.cloudflare.com/ajax/libs/Leaflet.awesome-markers/2.0.2/leaflet.awesome-markers.js%22%3E%3C/script%3E%0A%20%20%20%20%3Clink%20rel%3D%22stylesheet%22%20href%3D%22https%3A//cdn.jsdelivr.net/npm/leaflet%401.4.0/dist/leaflet.css%22/%3E%0A%20%20%20%20%3Clink%20rel%3D%22stylesheet%22%20href%3D%22https%3A//maxcdn.bootstrapcdn.com/bootstrap/3.2.0/css/bootstrap.min.css%22/%3E%0A%20%20%20%20%3Clink%20rel%3D%22stylesheet%22%20href%3D%22https%3A//maxcdn.bootstrapcdn.com/bootstrap/3.2.0/css/bootstrap-theme.min.css%22/%3E%0A%20%20%20%20%3Clink%20rel%3D%22stylesheet%22%20href%3D%22https%3A//maxcdn.bootstrapcdn.com/font-awesome/4.6.3/css/font-awesome.min.css%22/%3E%0A%20%20%20%20%3Clink%20rel%3D%22stylesheet%22%20href%3D%22https%3A//cdnjs.cloudflare.com/ajax/libs/Leaflet.awesome-markers/2.0.2/leaflet.awesome-markers.css%22/%3E%0A%20%20%20%20%3Clink%20rel%3D%22stylesheet%22%20href%3D%22https%3A//rawcdn.githack.com/python-visualization/folium/master/folium/templates/leaflet.awesome.rotate.css%22/%3E%0A%20%20%20%20%3Cstyle%3Ehtml%2C%20body%20%7Bwidth%3A%20100%25%3Bheight%3A%20100%25%3Bmargin%3A%200%3Bpadding%3A%200%3B%7D%3C/style%3E%0A%20%20%20%20%3Cstyle%3E%23map%20%7Bposition%3Aabsolute%3Btop%3A0%3Bbottom%3A0%3Bright%3A0%3Bleft%3A0%3B%7D%3C/style%3E%0A%20%20%20%20%0A%20%20%20%20%3Cmeta%20name%3D%22viewport%22%20content%3D%22width%3Ddevice-width%2C%0A%20%20%20%20%20%20%20%20initial-scale%3D1.0%2C%20maximum-scale%3D1.0%2C%20user-scalable%3Dno%22%20/%3E%0A%20%20%20%20%3Cstyle%3E%23map_0ff883a8483845048951a95ebad41da0%20%7B%0A%20%20%20%20%20%20%20%20position%3A%20relative%3B%0A%20%20%20%20%20%20%20%20width%3A%20100.0%25%3B%0A%20%20%20%20%20%20%20%20height%3A%20100.0%25%3B%0A%20%20%20%20%20%20%20%20left%3A%200.0%25%3B%0A%20%20%20%20%20%20%20%20top%3A%200.0%25%3B%0A%20%20%20%20%20%20%20%20%7D%0A%20%20%20%20%3C/style%3E%0A%3C/head%3E%0A%3Cbody%3E%20%20%20%20%0A%20%20%20%20%0A%20%20%20%20%3Cdiv%20class%3D%22folium-map%22%20id%3D%22map_0ff883a8483845048951a95ebad41da0%22%20%3E%3C/div%3E%0A%3C/body%3E%0A%3Cscript%3E%20%20%20%20%0A%20%20%20%20%0A%20%20%20%20%0A%20%20%20%20%20%20%20%20var%20bounds%20%3D%20null%3B%0A%20%20%20%20%0A%0A%20%20%20%20var%20map_0ff883a8483845048951a95ebad41da0%20%3D%20L.map%28%0A%20%20%20%20%20%20%20%20%27map_0ff883a8483845048951a95ebad41da0%27%2C%20%7B%0A%20%20%20%20%20%20%20%20center%3A%20%5B0%2C%200%5D%2C%0A%20%20%20%20%20%20%20%20zoom%3A%201%2C%0A%20%20%20%20%20%20%20%20maxBounds%3A%20bounds%2C%0A%20%20%20%20%20%20%20%20layers%3A%20%5B%5D%2C%0A%20%20%20%20%20%20%20%20worldCopyJump%3A%20false%2C%0A%20%20%20%20%20%20%20%20crs%3A%20L.CRS.EPSG3857%2C%0A%20%20%20%20%20%20%20%20zoomControl%3A%20true%2C%0A%20%20%20%20%20%20%20%20%7D%29%3B%0A%0A%0A%20%20%20%20%0A%20%20%20%20var%20tile_layer_be0769a499af4c6eaab25ee97e62af4f%20%3D%20L.tileLayer%28%0A%20%20%20%20%20%20%20%20%27https%3A//%7Bs%7D.tile.openstreetmap.org/%7Bz%7D/%7Bx%7D/%7By%7D.png%27%2C%0A%20%20%20%20%20%20%20%20%7B%0A%20%20%20%20%20%20%20%20%22attribution%22%3A%20null%2C%0A%20%20%20%20%20%20%20%20%22detectRetina%22%3A%20false%2C%0A%20%20%20%20%20%20%20%20%22maxNativeZoom%22%3A%2018%2C%0A%20%20%20%20%20%20%20%20%22maxZoom%22%3A%2018%2C%0A%20%20%20%20%20%20%20%20%22minZoom%22%3A%200%2C%0A%20%20%20%20%20%20%20%20%22noWrap%22%3A%20false%2C%0A%20%20%20%20%20%20%20%20%22opacity%22%3A%201%2C%0A%20%20%20%20%20%20%20%20%22subdomains%22%3A%20%22abc%22%2C%0A%20%20%20%20%20%20%20%20%22tms%22%3A%20false%0A%7D%29.addTo%28map_0ff883a8483845048951a95ebad41da0%29%3B%0A%20%20%20%20%0A%20%20%20%20%20%20%20%20var%20marker_616a8a6423b241e38939dbcc759fae93%20%3D%20L.marker%28%0A%20%20%20%20%20%20%20%20%20%20%20%20%5B34.808868%2C%20-82.26915699999998%5D%2C%0A%20%20%20%20%20%20%20%20%20%20%20%20%7B%0A%20%20%20%20%20%20%20%20%20%20%20%20%20%20%20%20icon%3A%20new%20L.Icon.Default%28%29%2C%0A%20%20%20%20%20%20%20%20%20%20%20%20%20%20%20%20%7D%0A%20%20%20%20%20%20%20%20%20%20%20%20%29.addTo%28map_0ff883a8483845048951a95ebad41da0%29%3B%0A%20%20%20%20%20%20%20%20%0A%3C/script%3E onload=\"this.contentDocument.open();this.contentDocument.write(    decodeURIComponent(this.getAttribute('data-html')));this.contentDocument.close();\" allowfullscreen webkitallowfullscreen mozallowfullscreen></iframe></div></div>"
            ],
            "text/plain": [
              "<folium.folium.Map at 0x7f33e7af5d90>"
            ]
          },
          "metadata": {
            "tags": []
          },
          "execution_count": 79
        }
      ]
    },
    {
      "cell_type": "markdown",
      "metadata": {
        "id": "JSLBKwWWpEVJ"
      },
      "source": [
        "This is for 1 accident"
      ]
    },
    {
      "cell_type": "code",
      "metadata": {
        "colab": {
          "base_uri": "https://localhost:8080/"
        },
        "id": "9w4FAHwygAJj",
        "outputId": "591eb672-55bb-4db7-8f60-ed16e2411033"
      },
      "source": [
        "for x in df[['Start_Lat', 'Start_Lng']].sample(100).iteritems():\n",
        "    print(x[1])"
      ],
      "execution_count": null,
      "outputs": [
        {
          "output_type": "stream",
          "text": [
            "401067     35.249520\n",
            "337127     34.067550\n",
            "1421095    29.729680\n",
            "1429238    32.694290\n",
            "292558     37.881960\n",
            "             ...    \n",
            "299176     33.974655\n",
            "1380781    33.305397\n",
            "1836007    40.599602\n",
            "2194968    35.051735\n",
            "2655002    40.593029\n",
            "Name: Start_Lat, Length: 100, dtype: float64\n",
            "401067     -80.781060\n",
            "337127    -117.527710\n",
            "1421095    -95.346200\n",
            "1429238    -96.637466\n",
            "292558     -78.028590\n",
            "              ...    \n",
            "299176    -118.280991\n",
            "1380781    -80.751160\n",
            "1836007   -112.425987\n",
            "2194968    -89.926193\n",
            "2655002    -74.235466\n",
            "Name: Start_Lng, Length: 100, dtype: float64\n"
          ],
          "name": "stdout"
        }
      ]
    },
    {
      "cell_type": "code",
      "metadata": {
        "colab": {
          "base_uri": "https://localhost:8080/"
        },
        "id": "_wQNSsSQgAHM",
        "outputId": "9b4244e3-0e7e-4855-e1b4-ce970ad3f42c"
      },
      "source": [
        "zip(list(df.Start_Lat), list(df.Start_Lng))"
      ],
      "execution_count": null,
      "outputs": [
        {
          "output_type": "execute_result",
          "data": {
            "text/plain": [
              "<zip at 0x7f33fa1afaa0>"
            ]
          },
          "metadata": {
            "tags": []
          },
          "execution_count": 74
        }
      ]
    },
    {
      "cell_type": "code",
      "metadata": {
        "id": "mFpFt5sNgADy"
      },
      "source": [
        "from folium.plugins import HeatMap"
      ],
      "execution_count": null,
      "outputs": []
    },
    {
      "cell_type": "code",
      "metadata": {
        "id": "E6mije87f_6Z"
      },
      "source": [
        "sample_df = df.sample(int(0.001 * len(df)))\n",
        "lat_lon_pairs = list(zip(list(sample_df.Start_Lat), list(sample_df.Start_Lng)))"
      ],
      "execution_count": null,
      "outputs": []
    },
    {
      "cell_type": "code",
      "metadata": {
        "colab": {
          "base_uri": "https://localhost:8080/",
          "height": 712
        },
        "id": "505vQvl2gJ8x",
        "outputId": "324e6966-2f96-4356-949b-d8951a195066"
      },
      "source": [
        "map = folium.Map()\n",
        "HeatMap(lat_lon_pairs).add_to(map)\n",
        "map"
      ],
      "execution_count": null,
      "outputs": [
        {
          "output_type": "execute_result",
          "data": {
            "text/html": [
              "<div style=\"width:100%;\"><div style=\"position:relative;width:100%;height:0;padding-bottom:60%;\"><span style=\"color:#565656\">Make this Notebook Trusted to load map: File -> Trust Notebook</span><iframe src=\"about:blank\" style=\"position:absolute;width:100%;height:100%;left:0;top:0;border:none !important;\" data-html=%3C%21DOCTYPE%20html%3E%0A%3Chead%3E%20%20%20%20%0A%20%20%20%20%3Cmeta%20http-equiv%3D%22content-type%22%20content%3D%22text/html%3B%20charset%3DUTF-8%22%20/%3E%0A%20%20%20%20%3Cscript%3EL_PREFER_CANVAS%3Dfalse%3B%20L_NO_TOUCH%3Dfalse%3B%20L_DISABLE_3D%3Dfalse%3B%3C/script%3E%0A%20%20%20%20%3Cscript%20src%3D%22https%3A//cdn.jsdelivr.net/npm/leaflet%401.4.0/dist/leaflet.js%22%3E%3C/script%3E%0A%20%20%20%20%3Cscript%20src%3D%22https%3A//code.jquery.com/jquery-1.12.4.min.js%22%3E%3C/script%3E%0A%20%20%20%20%3Cscript%20src%3D%22https%3A//maxcdn.bootstrapcdn.com/bootstrap/3.2.0/js/bootstrap.min.js%22%3E%3C/script%3E%0A%20%20%20%20%3Cscript%20src%3D%22https%3A//cdnjs.cloudflare.com/ajax/libs/Leaflet.awesome-markers/2.0.2/leaflet.awesome-markers.js%22%3E%3C/script%3E%0A%20%20%20%20%3Clink%20rel%3D%22stylesheet%22%20href%3D%22https%3A//cdn.jsdelivr.net/npm/leaflet%401.4.0/dist/leaflet.css%22/%3E%0A%20%20%20%20%3Clink%20rel%3D%22stylesheet%22%20href%3D%22https%3A//maxcdn.bootstrapcdn.com/bootstrap/3.2.0/css/bootstrap.min.css%22/%3E%0A%20%20%20%20%3Clink%20rel%3D%22stylesheet%22%20href%3D%22https%3A//maxcdn.bootstrapcdn.com/bootstrap/3.2.0/css/bootstrap-theme.min.css%22/%3E%0A%20%20%20%20%3Clink%20rel%3D%22stylesheet%22%20href%3D%22https%3A//maxcdn.bootstrapcdn.com/font-awesome/4.6.3/css/font-awesome.min.css%22/%3E%0A%20%20%20%20%3Clink%20rel%3D%22stylesheet%22%20href%3D%22https%3A//cdnjs.cloudflare.com/ajax/libs/Leaflet.awesome-markers/2.0.2/leaflet.awesome-markers.css%22/%3E%0A%20%20%20%20%3Clink%20rel%3D%22stylesheet%22%20href%3D%22https%3A//rawcdn.githack.com/python-visualization/folium/master/folium/templates/leaflet.awesome.rotate.css%22/%3E%0A%20%20%20%20%3Cstyle%3Ehtml%2C%20body%20%7Bwidth%3A%20100%25%3Bheight%3A%20100%25%3Bmargin%3A%200%3Bpadding%3A%200%3B%7D%3C/style%3E%0A%20%20%20%20%3Cstyle%3E%23map%20%7Bposition%3Aabsolute%3Btop%3A0%3Bbottom%3A0%3Bright%3A0%3Bleft%3A0%3B%7D%3C/style%3E%0A%20%20%20%20%0A%20%20%20%20%3Cmeta%20name%3D%22viewport%22%20content%3D%22width%3Ddevice-width%2C%0A%20%20%20%20%20%20%20%20initial-scale%3D1.0%2C%20maximum-scale%3D1.0%2C%20user-scalable%3Dno%22%20/%3E%0A%20%20%20%20%3Cstyle%3E%23map_299b3e4858794a6d9b6bf6e36478e739%20%7B%0A%20%20%20%20%20%20%20%20position%3A%20relative%3B%0A%20%20%20%20%20%20%20%20width%3A%20100.0%25%3B%0A%20%20%20%20%20%20%20%20height%3A%20100.0%25%3B%0A%20%20%20%20%20%20%20%20left%3A%200.0%25%3B%0A%20%20%20%20%20%20%20%20top%3A%200.0%25%3B%0A%20%20%20%20%20%20%20%20%7D%0A%20%20%20%20%3C/style%3E%0A%20%20%20%20%3Cscript%20src%3D%22https%3A//leaflet.github.io/Leaflet.heat/dist/leaflet-heat.js%22%3E%3C/script%3E%0A%3C/head%3E%0A%3Cbody%3E%20%20%20%20%0A%20%20%20%20%0A%20%20%20%20%3Cdiv%20class%3D%22folium-map%22%20id%3D%22map_299b3e4858794a6d9b6bf6e36478e739%22%20%3E%3C/div%3E%0A%3C/body%3E%0A%3Cscript%3E%20%20%20%20%0A%20%20%20%20%0A%20%20%20%20%0A%20%20%20%20%20%20%20%20var%20bounds%20%3D%20null%3B%0A%20%20%20%20%0A%0A%20%20%20%20var%20map_299b3e4858794a6d9b6bf6e36478e739%20%3D%20L.map%28%0A%20%20%20%20%20%20%20%20%27map_299b3e4858794a6d9b6bf6e36478e739%27%2C%20%7B%0A%20%20%20%20%20%20%20%20center%3A%20%5B0%2C%200%5D%2C%0A%20%20%20%20%20%20%20%20zoom%3A%201%2C%0A%20%20%20%20%20%20%20%20maxBounds%3A%20bounds%2C%0A%20%20%20%20%20%20%20%20layers%3A%20%5B%5D%2C%0A%20%20%20%20%20%20%20%20worldCopyJump%3A%20false%2C%0A%20%20%20%20%20%20%20%20crs%3A%20L.CRS.EPSG3857%2C%0A%20%20%20%20%20%20%20%20zoomControl%3A%20true%2C%0A%20%20%20%20%20%20%20%20%7D%29%3B%0A%0A%0A%20%20%20%20%0A%20%20%20%20var%20tile_layer_9b3e5311eb1b46cbbe9659fb1653de9a%20%3D%20L.tileLayer%28%0A%20%20%20%20%20%20%20%20%27https%3A//%7Bs%7D.tile.openstreetmap.org/%7Bz%7D/%7Bx%7D/%7By%7D.png%27%2C%0A%20%20%20%20%20%20%20%20%7B%0A%20%20%20%20%20%20%20%20%22attribution%22%3A%20null%2C%0A%20%20%20%20%20%20%20%20%22detectRetina%22%3A%20false%2C%0A%20%20%20%20%20%20%20%20%22maxNativeZoom%22%3A%2018%2C%0A%20%20%20%20%20%20%20%20%22maxZoom%22%3A%2018%2C%0A%20%20%20%20%20%20%20%20%22minZoom%22%3A%200%2C%0A%20%20%20%20%20%20%20%20%22noWrap%22%3A%20false%2C%0A%20%20%20%20%20%20%20%20%22opacity%22%3A%201%2C%0A%20%20%20%20%20%20%20%20%22subdomains%22%3A%20%22abc%22%2C%0A%20%20%20%20%20%20%20%20%22tms%22%3A%20false%0A%7D%29.addTo%28map_299b3e4858794a6d9b6bf6e36478e739%29%3B%0A%20%20%20%20%0A%20%20%20%20%20%20%20%20%20%20%20%20var%20heat_map_7f207917e054425593ec56c69047406f%20%3D%20L.heatLayer%28%0A%20%20%20%20%20%20%20%20%20%20%20%20%20%20%20%20%5B%5B34.837478999999995%2C%20-82.28756%5D%2C%20%5B32.93336%2C%20-97.31558%5D%2C%20%5B40.073288%2C%20-76.719543%5D%2C%20%5B29.92663%2C%20-95.179565%5D%2C%20%5B41.042881%2C%20-81.564636%5D%2C%20%5B42.353912%2C%20-73.577461%5D%2C%20%5B39.09902%2C%20-94.60963%5D%2C%20%5B33.96385%2C%20-118.36992%5D%2C%20%5B42.927174%2C%20-85.634857%5D%2C%20%5B33.870213%2C%20-117.703827%5D%2C%20%5B47.39603%2C%20-121.509554%5D%2C%20%5B37.065521%2C%20-80.707207%5D%2C%20%5B36.340881%2C%20-82.379227%5D%2C%20%5B34.31171%2C%20-117.47612%5D%2C%20%5B42.694115%2C%20-73.830246%5D%2C%20%5B40.960561%2C%20-73.850365%5D%2C%20%5B42.944817%2C%20-83.681488%5D%2C%20%5B40.766102%2C%20-111.939087%5D%2C%20%5B44.966642%2C%20-93.224599%5D%2C%20%5B44.069369%2C%20-73.45599%5D%2C%20%5B36.355079%2C%20-119.42807%5D%2C%20%5B33.996487%2C%20-118.280687%5D%2C%20%5B40.03191%2C%20-76.491539%5D%2C%20%5B30.364691%2C%20-81.668867%5D%2C%20%5B34.26838%2C%20-118.43548%5D%2C%20%5B37.57674%2C%20-122.35132%5D%2C%20%5B35.811337%2C%20-78.565742%5D%2C%20%5B39.307168%2C%20-76.765849%5D%2C%20%5B30.26247%2C%20-97.721832%5D%2C%20%5B35.43263599999999%2C%20-80.906677%5D%2C%20%5B34.32928%2C%20-81.6059%5D%2C%20%5B26.934624%2C%20-80.150359%5D%2C%20%5B32.820967%2C%20-96.633514%5D%2C%20%5B30.2651%2C%20-97.732536%5D%2C%20%5B44.94543%2C%20-122.99015%5D%2C%20%5B34.570644%2C%20-79.537987%5D%2C%20%5B33.94964%2C%20-118.229259%5D%2C%20%5B35.23058599999999%2C%20-112.590961%5D%2C%20%5B32.803490000000004%2C%20-96.793289%5D%2C%20%5B28.380914%2C%20-81.501313%5D%2C%20%5B32.75985%2C%20-96.794273%5D%2C%20%5B36.97457100000001%2C%20-121.914177%5D%2C%20%5B33.8501%2C%20-117.875681%5D%2C%20%5B34.803982%2C%20-82.37545%5D%2C%20%5B34.065555%2C%20-117.200775%5D%2C%20%5B35.804871%2C%20-78.59597%5D%2C%20%5B39.52033%2C%20-76.19893%5D%2C%20%5B35.657612%2C%20-78.848473%5D%2C%20%5B33.994477%2C%20-117.911249%5D%2C%20%5B35.643931%2C%20-121.185451%5D%2C%20%5B47.022632%2C%20-122.909642%5D%2C%20%5B42.345379%2C%20-71.09449000000002%5D%2C%20%5B45.360826%2C%20-122.761028%5D%2C%20%5B33.633801%2C%20-117.761162%5D%2C%20%5B41.877079%2C%20-87.725533%5D%2C%20%5B29.729074%2C%20-95.519577%5D%2C%20%5B40.355978%2C%20-76.716442%5D%2C%20%5B34.101085999999995%2C%20-117.199576%5D%2C%20%5B37.82671%2C%20-122.287863%5D%2C%20%5B39.824667%2C%20-110.949533%5D%2C%20%5B41.234299%2C%20-73.04164899999998%5D%2C%20%5B30.33441%2C%20-97.738968%5D%2C%20%5B39.370075%2C%20-76.51405600000002%5D%2C%20%5B42.997908%2C%20-123.31962%5D%2C%20%5B34.14959%2C%20-83.6492%5D%2C%20%5B38.505627%2C%20-121.45596299999998%5D%2C%20%5B39.099282%2C%20-76.72057%5D%2C%20%5B41.02327%2C%20-76.31607%5D%2C%20%5B28.448675%2C%20-81.26469399999998%5D%2C%20%5B45.428769%2C%20-122.755319%5D%2C%20%5B47.161294%2C%20-122.43422%5D%2C%20%5B34.153042%2C%20-118.37603%5D%2C%20%5B39.75599%2C%20-105.14436%5D%2C%20%5B34.02502%2C%20-117.73398%5D%2C%20%5B27.802931%2C%20-82.662903%5D%2C%20%5B37.119961%2C%20-121.976044%5D%2C%20%5B38.494809%2C%20-120.935529%5D%2C%20%5B45.103265%2C%20-122.891424%5D%2C%20%5B33.846608%2C%20-118.20538700000002%5D%2C%20%5B30.446274%2C%20-97.909668%5D%2C%20%5B42.090286%2C%20-71.427399%5D%2C%20%5B37.361292%2C%20-118.418348%5D%2C%20%5B38.258266%2C%20-85.739861%5D%2C%20%5B26.045011%2C%20-80.162547%5D%2C%20%5B40.071521%2C%20-76.32525%5D%2C%20%5B33.93098%2C%20-118.37012%5D%2C%20%5B33.88043%2C%20-118.10388%5D%2C%20%5B38.771065%2C%20-90.405586%5D%2C%20%5B26.085449%2C%20-80.199501%5D%2C%20%5B41.25170900000001%2C%20-111.969788%5D%2C%20%5B34.221199%2C%20-118.473267%5D%2C%20%5B38.614308%2C%20-121.423084%5D%2C%20%5B40.654373%2C%20-111.901726%5D%2C%20%5B30.23033%2C%20-97.78805%5D%2C%20%5B39.399448%2C%20-123.809152%5D%2C%20%5B39.819532%2C%20-84.20093100000003%5D%2C%20%5B39.68949%2C%20-105.02508%5D%2C%20%5B34.628098%2C%20-86.915695%5D%2C%20%5B32.69625%2C%20-117.09504%5D%2C%20%5B43.483833%2C%20-75.335976%5D%2C%20%5B38.580147%2C%20-77.323647%5D%2C%20%5B30.445286%2C%20-97.861916%5D%2C%20%5B26.008129%2C%20-80.279653%5D%2C%20%5B33.776976%2C%20-117.900164%5D%2C%20%5B33.429256%2C%20-86.708605%5D%2C%20%5B28.831941%2C%20-81.319866%5D%2C%20%5B44.028943%2C%20-116.950482%5D%2C%20%5B33.733395%2C%20-117.815468%5D%2C%20%5B45.070928%2C%20-93.307968%5D%2C%20%5B26.486254%2C%20-81.785179%5D%2C%20%5B33.509659%2C%20-86.819923%5D%2C%20%5B41.787254%2C%20-72.65790600000003%5D%2C%20%5B34.078495000000004%2C%20-80.942581%5D%2C%20%5B37.548064%2C%20-122.291312%5D%2C%20%5B29.812897%2C%20-95.429428%5D%2C%20%5B39.28708%2C%20-76.54283000000002%5D%2C%20%5B38.655453%2C%20-121.029808%5D%2C%20%5B42.891373%2C%20-85.678833%5D%2C%20%5B33.89498%2C%20-117.499305%5D%2C%20%5B33.806641%2C%20-112.119408%5D%2C%20%5B34.390789%2C%20-117.576324%5D%2C%20%5B29.643473%2C%20-81.27203%5D%2C%20%5B34.140965%2C%20-118.709625%5D%2C%20%5B34.23785%2C%20-82.06845899999998%5D%2C%20%5B41.172798%2C%20-84.955772%5D%2C%20%5B42.927132%2C%20-85.613457%5D%2C%20%5B35.080116%2C%20-106.607025%5D%2C%20%5B37.053673%2C%20-120.966621%5D%2C%20%5B41.151218%2C%20-96.213799%5D%2C%20%5B39.75782%2C%20-83.303154%5D%2C%20%5B44.89006%2C%20-93.28835%5D%2C%20%5B43.042068%2C%20-83.694099%5D%2C%20%5B38.815639%2C%20-77.138138%5D%2C%20%5B33.301102%2C%20-87.568703%5D%2C%20%5B35.250923%2C%20-80.812469%5D%2C%20%5B41.043437%2C%20-73.57226%5D%2C%20%5B39.11271%2C%20-84.5159%5D%2C%20%5B36.095974%2C%20-95.922432%5D%2C%20%5B32.677319%2C%20-97.124191%5D%2C%20%5B41.318073%2C%20-73.990875%5D%2C%20%5B34.083220000000004%2C%20-118.22836%5D%2C%20%5B45.35702%2C%20-118.26195%5D%2C%20%5B41.64957%2C%20-93.62638%5D%2C%20%5B43.15155%2C%20-77.596237%5D%2C%20%5B35.087959999999995%2C%20-92.41883%5D%2C%20%5B36.109486%2C%20-86.727959%5D%2C%20%5B29.742502%2C%20-95.363838%5D%2C%20%5B37.700909%2C%20-121.773834%5D%2C%20%5B40.71756%2C%20-111.83626%5D%2C%20%5B41.259651%2C%20-96.026871%5D%2C%20%5B38.57852000000001%2C%20-90.44659%5D%2C%20%5B35.78655999999999%2C%20-78.731018%5D%2C%20%5B26.54199%2C%20-81.63541%5D%2C%20%5B30.205441%2C%20-97.757843%5D%2C%20%5B33.202669%2C%20-87.566916%5D%2C%20%5B35.464287%2C%20-97.530113%5D%2C%20%5B41.755798%2C%20-87.94479399999999%5D%2C%20%5B29.859484%2C%20-95.343119%5D%2C%20%5B39.723457%2C%20-105.011526%5D%2C%20%5B29.864826%2C%20-95.569336%5D%2C%20%5B33.941074%2C%20-84.504333%5D%2C%20%5B33.822744%2C%20-117.281071%5D%2C%20%5B45.667217%2C%20-122.552505%5D%2C%20%5B33.439178000000005%2C%20-80.087677%5D%2C%20%5B41.91572%2C%20-87.66838%5D%2C%20%5B39.04708%2C%20-94.43899%5D%2C%20%5B42.774422%2C%20-71.986008%5D%2C%20%5B41.874138%2C%20-87.646027%5D%2C%20%5B30.46633%2C%20-91.105469%5D%2C%20%5B42.502293%2C%20-71.118759%5D%2C%20%5B32.772420000000004%2C%20-117.12853%5D%2C%20%5B34.955635%2C%20-82.143349%5D%2C%20%5B37.52133900000001%2C%20-77.32826999999997%5D%2C%20%5B42.30529%2C%20-87.98703%5D%2C%20%5B35.83407000000001%2C%20-78.63489%5D%2C%20%5B44.943584%2C%20-93.348053%5D%2C%20%5B36.846114%2C%20-76.17583%5D%2C%20%5B43.87528%2C%20-93.27681%5D%2C%20%5B47.46714%2C%20-122.216904%5D%2C%20%5B42.313648%2C%20-83.09108%5D%2C%20%5B33.984653%2C%20-84.542091%5D%2C%20%5B33.28969%2C%20-83.946487%5D%2C%20%5B30.332652000000003%2C%20-97.808069%5D%2C%20%5B34.222916%2C%20-119.146805%5D%2C%20%5B45.506433%2C%20-122.715429%5D%2C%20%5B41.847244%2C%20-87.646461%5D%2C%20%5B30.31516%2C%20-81.78024%5D%2C%20%5B28.377274%2C%20-81.50460799999998%5D%2C%20%5B34.557827%2C%20-117.287689%5D%2C%20%5B39.939278%2C%20-75.19669300000002%5D%2C%20%5B30.365515%2C%20-97.718246%5D%2C%20%5B34.775146%2C%20-82.463272%5D%2C%20%5B35.175762%2C%20-80.910004%5D%2C%20%5B39.54361%2C%20-76.087921%5D%2C%20%5B34.126409%2C%20-117.916033%5D%2C%20%5B33.912085999999995%2C%20-84.379356%5D%2C%20%5B41.13961%2C%20-96.239349%5D%2C%20%5B33.21816%2C%20-111.87208%5D%2C%20%5B42.907513%2C%20-87.935875%5D%2C%20%5B32.661028%2C%20-117.077096%5D%2C%20%5B37.891129%2C%20-122.060913%5D%2C%20%5B33.765846%2C%20-84.385971%5D%2C%20%5B39.736141%2C%20-84.98693100000001%5D%2C%20%5B30.398414%2C%20-87.307578%5D%2C%20%5B33.465810999999995%2C%20-111.943622%5D%2C%20%5B43.25047%2C%20-123.36003%5D%2C%20%5B35.62368400000001%2C%20-97.573181%5D%2C%20%5B40.976461%2C%20-73.69984000000002%5D%2C%20%5B30.207193%2C%20-97.815407%5D%2C%20%5B34.005972%2C%20-118.413666%5D%2C%20%5B37.82617%2C%20-122.27674%5D%2C%20%5B25.762175%2C%20-80.331523%5D%2C%20%5B28.387395%2C%20-81.42490600000002%5D%2C%20%5B43.23481%2C%20-75.285431%5D%2C%20%5B41.737751%2C%20-72.662849%5D%2C%20%5B38.92378400000001%2C%20-121.606633%5D%2C%20%5B34.1594%2C%20-118.22519%5D%2C%20%5B28.351889%2C%20-80.683121%5D%2C%20%5B32.781389000000004%2C%20-96.811619%5D%2C%20%5B36.17144%2C%20-95.911758%5D%2C%20%5B29.609039000000006%2C%20-95.228073%5D%2C%20%5B30.51803%2C%20-91.039932%5D%2C%20%5B32.80516%2C%20-117.15406000000002%5D%2C%20%5B34.19014%2C%20-82.224731%5D%2C%20%5B37.572556%2C%20-77.476807%5D%2C%20%5B34.152390000000004%2C%20-118.375252%5D%2C%20%5B34.044095%2C%20-118.169183%5D%2C%20%5B40.441551%2C%20-79.828477%5D%2C%20%5B44.96258%2C%20-91.42586%5D%2C%20%5B34.017132000000004%2C%20-117.096878%5D%2C%20%5B28.027182%2C%20-82.18695100000002%5D%2C%20%5B38.837128%2C%20-77.447281%5D%2C%20%5B37.949188%2C%20-121.166557%5D%2C%20%5B40.75895%2C%20-73.99948%5D%2C%20%5B41.425217%2C%20-81.520515%5D%2C%20%5B34.87976%2C%20-89.99106%5D%2C%20%5B32.95476%2C%20-117.1248%5D%2C%20%5B40.23778%2C%20-111.68886%5D%2C%20%5B34.060374%2C%20-118.001071%5D%2C%20%5B46.179756%2C%20-92.856415%5D%2C%20%5B30.26561%2C%20-97.734177%5D%2C%20%5B40.366287%2C%20-75.939598%5D%2C%20%5B44.86225%2C%20-93.24403%5D%2C%20%5B40.426703%2C%20-74.438485%5D%2C%20%5B33.866401%2C%20-117.717269%5D%2C%20%5B34.074711%2C%20-84.266144%5D%2C%20%5B33.742243%2C%20-117.833722%5D%2C%20%5B34.856949%2C%20-81.00874300000002%5D%2C%20%5B30.1628%2C%20-82.964752%5D%2C%20%5B42.496025%2C%20-83.358398%5D%2C%20%5B44.628805%2C%20-123.987328%5D%2C%20%5B38.99463%2C%20-76.88160500000002%5D%2C%20%5B41.87933%2C%20-87.63959%5D%2C%20%5B33.668186%2C%20-117.81928899999998%5D%2C%20%5B41.10118%2C%20-84.967012%5D%2C%20%5B33.105314%2C%20-117.0929%5D%2C%20%5B33.386070000000004%2C%20-111.896332%5D%2C%20%5B28.006479%2C%20-82.303917%5D%2C%20%5B29.672962%2C%20-95.254753%5D%2C%20%5B26.27846%2C%20-80.29722%5D%2C%20%5B44.95683%2C%20-122.99002%5D%2C%20%5B41.3595%2C%20-74.70418000000002%5D%2C%20%5B43.002716%2C%20-78.412003%5D%2C%20%5B35.36469%2C%20-119.04012%5D%2C%20%5B29.743584%2C%20-95.381821%5D%2C%20%5B34.23314%2C%20-79.79590999999998%5D%2C%20%5B35.24771%2C%20-80.80458%5D%2C%20%5B35.107178000000005%2C%20-106.703621%5D%2C%20%5B39.744137%2C%20-85.999105%5D%2C%20%5B43.173364%2C%20-70.865267%5D%2C%20%5B34.022890000000004%2C%20-112.80579%5D%2C%20%5B33.148014%2C%20-117.195923%5D%2C%20%5B29.367083%2C%20-98.438492%5D%2C%20%5B35.66835%2C%20-78.08013000000003%5D%2C%20%5B33.271049%2C%20-80.56910699999997%5D%2C%20%5B42.860105%2C%20-83.73998%5D%2C%20%5B39.710999%2C%20-123.300079%5D%2C%20%5B30.164465000000003%2C%20-97.692696%5D%2C%20%5B34.15453%2C%20-118.39248%5D%2C%20%5B39.638451%2C%20-104.779007%5D%2C%20%5B32.14022%2C%20-110.84063%5D%2C%20%5B33.956433000000004%2C%20-117.306314%5D%2C%20%5B35.904793%2C%20-78.658028%5D%2C%20%5B39.960312%2C%20-75.181198%5D%2C%20%5B39.17397%2C%20-84.49031%5D%2C%20%5B42.625091%2C%20-114.398492%5D%2C%20%5B33.914454%2C%20-117.286024%5D%2C%20%5B43.01467%2C%20-89.30215%5D%2C%20%5B37.079666%2C%20-119.334469%5D%2C%20%5B39.701626%2C%20-75.594261%5D%2C%20%5B33.82165%2C%20-117.87627%5D%2C%20%5B38.80252%2C%20-77.10923000000003%5D%2C%20%5B30.43257%2C%20-91.066452%5D%2C%20%5B40.18958%2C%20-75.10318000000002%5D%2C%20%5B38.540333%2C%20-85.77777900000002%5D%2C%20%5B36.24033%2C%20-119.260544%5D%2C%20%5B45.06151%2C%20-83.495704%5D%2C%20%5B25.684505%2C%20-80.40942700000002%5D%2C%20%5B36.169369%2C%20-86.67987099999998%5D%2C%20%5B45.58047%2C%20-122.54358%5D%2C%20%5B41.88511%2C%20-86.60136999999997%5D%2C%20%5B34.018522999999995%2C%20-118.169207%5D%2C%20%5B37.20427700000001%2C%20-121.895668%5D%2C%20%5B41.770287%2C%20-72.682253%5D%2C%20%5B30.433477000000003%2C%20-86.639545%5D%2C%20%5B35.455958%2C%20-97.512495%5D%2C%20%5B25.96752%2C%20-80.328575%5D%2C%20%5B32.366378999999995%2C%20-86.137939%5D%2C%20%5B37.45882%2C%20-122.137894%5D%2C%20%5B38.957434%2C%20-94.540643%5D%2C%20%5B28.428221%2C%20-81.404625%5D%2C%20%5B37.062385%2C%20-122.080036%5D%2C%20%5B34.063103000000005%2C%20-117.418205%5D%2C%20%5B40.110363%2C%20-75.29070300000002%5D%2C%20%5B29.596239%2C%20-90.753647%5D%2C%20%5B27.941801%2C%20-82.32959%5D%2C%20%5B34.72685300000001%2C%20-82.530673%5D%2C%20%5B29.918491%2C%20-90.104786%5D%2C%20%5B39.92666%2C%20-75.1159%5D%2C%20%5B37.08455%2C%20-94.53115%5D%2C%20%5B37.996431%2C%20-122.116998%5D%2C%20%5B42.641525%2C%20-83.238564%5D%2C%20%5B34.733433000000005%2C%20-82.34623%5D%2C%20%5B36.046282%2C%20-79.39841%5D%2C%20%5B29.606031%2C%20-98.440079%5D%2C%20%5B34.05664%2C%20-80.990835%5D%2C%20%5B43.758968%2C%20-88.475029%5D%2C%20%5B33.29633%2C%20-117.46181%5D%2C%20%5B33.849796000000005%2C%20-118.284836%5D%2C%20%5B33.94593%2C%20-118.17052%5D%2C%20%5B34.721672%2C%20-92.394126%5D%2C%20%5B40.764252%2C%20-73.840019%5D%2C%20%5B43.18645%2C%20-77.6138%5D%2C%20%5B45.08819%2C%20-123.96901%5D%2C%20%5B39.736004%2C%20-84.14344799999998%5D%2C%20%5B32.708657%2C%20-117.098223%5D%2C%20%5B38.935139%2C%20-94.704758%5D%2C%20%5B40.789188%2C%20-73.522247%5D%2C%20%5B41.41763%2C%20-88.37076%5D%2C%20%5B33.79483%2C%20-118.10495%5D%2C%20%5B33.582455%2C%20-111.891098%5D%2C%20%5B38.191684%2C%20-121.262658%5D%2C%20%5B33.990482%2C%20-117.924339%5D%2C%20%5B30.339614%2C%20-81.668018%5D%2C%20%5B30.01819%2C%20-95.262421%5D%2C%20%5B33.92477%2C%20-118.10397%5D%2C%20%5B45.572708%2C%20-93.216432%5D%2C%20%5B38.647957%2C%20-121.332058%5D%2C%20%5B42.380199%2C%20-87.946831%5D%2C%20%5B34.018005%2C%20-118.239665%5D%2C%20%5B38.187263%2C%20-85.785332%5D%2C%20%5B37.42955%2C%20-119.639235%5D%2C%20%5B45.385969%2C%20-122.578378%5D%2C%20%5B39.823602%2C%20-86.275841%5D%2C%20%5B43.59104%2C%20-119.96971%5D%2C%20%5B30.443689000000006%2C%20-91.178848%5D%2C%20%5B34.018883%2C%20-118.183723%5D%2C%20%5B38.59428%2C%20-90.21573%5D%2C%20%5B40.3769%2C%20-111.819092%5D%2C%20%5B41.303318%2C%20-75.768486%5D%2C%20%5B41.810325%2C%20-87.63153199999998%5D%2C%20%5B44.43069000000001%2C%20-124.053055%5D%2C%20%5B25.002528%2C%20-80.527574%5D%2C%20%5B37.8986%2C%20-122.07079%5D%2C%20%5B39.662051%2C%20-79.420411%5D%2C%20%5B36.07896%2C%20-79.78733100000002%5D%2C%20%5B40.454288%2C%20-111.914001%5D%2C%20%5B33.938768%2C%20-117.290911%5D%2C%20%5B30.27788%2C%20-97.73011%5D%2C%20%5B37.509331%2C%20-77.436981%5D%2C%20%5B34.85159%2C%20-82.45089%5D%2C%20%5B33.199905%2C%20-87.564392%5D%2C%20%5B25.896487%2C%20-80.264863%5D%2C%20%5B28.041679%2C%20-82.652451%5D%2C%20%5B35.83479699999999%2C%20-78.638512%5D%2C%20%5B29.417759000000004%2C%20-98.649483%5D%2C%20%5B36.993702%2C%20-121.498177%5D%2C%20%5B34.031776%2C%20-118.429665%5D%2C%20%5B32.699341%2C%20-117.141121%5D%2C%20%5B36.16988%2C%20-95.940315%5D%2C%20%5B37.878595%2C%20-122.183235%5D%2C%20%5B39.77561%2C%20-104.8655%5D%2C%20%5B37.879069%2C%20-121.262552%5D%2C%20%5B36.148968%2C%20-86.779579%5D%2C%20%5B37.982431%2C%20-121.249941%5D%2C%20%5B36.167625%2C%20-86.663239%5D%2C%20%5B35.608925%2C%20-97.480324%5D%2C%20%5B40.736398%2C%20-73.856124%5D%2C%20%5B40.567654%2C%20-75.51861600000002%5D%2C%20%5B30.049621%2C%20-97.69%5D%2C%20%5B48.705463%2C%20-114.869106%5D%2C%20%5B35.394051%2C%20-97.565514%5D%2C%20%5B44.858887%2C%20-93.32869%5D%2C%20%5B34.024305%2C%20-117.111388%5D%2C%20%5B39.884995%2C%20-75.103601%5D%2C%20%5B37.68449%2C%20-122.472237%5D%2C%20%5B34.072678%2C%20-118.466637%5D%2C%20%5B35.83990900000001%2C%20-78.601295%5D%2C%20%5B39.251755%2C%20-112.115494%5D%2C%20%5B40.027939%2C%20-76.22361%5D%2C%20%5B34.692612%2C%20-80.390259%5D%2C%20%5B39.746076%2C%20-84.220098%5D%2C%20%5B33.672382%2C%20-112.031075%5D%2C%20%5B33.194691%2C%20-80.595093%5D%2C%20%5B36.744965%2C%20-119.806777%5D%2C%20%5B37.152968%2C%20-121.65229%5D%2C%20%5B36.118931%2C%20-95.833267%5D%2C%20%5B37.70303%2C%20-97.31872%5D%2C%20%5B45.302312%2C%20-121.754843%5D%2C%20%5B37.4167%2C%20-122.21154%5D%2C%20%5B37.955734%2C%20-121.406117%5D%2C%20%5B34.023348%2C%20-117.811733%5D%2C%20%5B40.73631%2C%20-73.24465%5D%2C%20%5B33.831346999999994%2C%20-117.531152%5D%2C%20%5B47.198314%2C%20-110.379304%5D%2C%20%5B39.65454%2C%20-75.61676999999997%5D%2C%20%5B32.72374%2C%20-117.102747%5D%2C%20%5B43.214272%2C%20-77.430252%5D%2C%20%5B44.870553%2C%20-123.002048%5D%2C%20%5B40.03945%2C%20-85.71633%5D%2C%20%5B41.89614%2C%20-88.09206999999998%5D%2C%20%5B35.606587%2C%20-120.692179%5D%2C%20%5B30.152901%2C%20-97.670425%5D%2C%20%5B41.175262%2C%20-73.15377%5D%2C%20%5B38.07739%2C%20-122.54463%5D%2C%20%5B37.76778%2C%20-121.462303%5D%2C%20%5B30.35428%2C%20-81.66861%5D%2C%20%5B42.053616%2C%20-87.868652%5D%2C%20%5B34.986346999999995%2C%20-82.020218%5D%2C%20%5B34.599468%2C%20-82.205261%5D%2C%20%5B42.46492%2C%20-87.90339%5D%2C%20%5B34.489403%2C%20-118.137314%5D%2C%20%5B39.982273%2C%20-76.872093%5D%2C%20%5B40.725864%2C%20-111.986282%5D%2C%20%5B33.948593%2C%20-84.13787099999998%5D%2C%20%5B36.193548%2C%20-115.323778%5D%2C%20%5B40.907318%2C%20-73.138733%5D%2C%20%5B29.965588%2C%20-95.539497%5D%2C%20%5B34.913952%2C%20-82.107651%5D%2C%20%5B41.244145%2C%20-73.106449%5D%2C%20%5B32.294186%2C%20-111.029861%5D%2C%20%5B38.000881%2C%20-84.520302%5D%2C%20%5B42.38791%2C%20-123.34122%5D%2C%20%5B28.330999%2C%20-82.666298%5D%2C%20%5B40.839596%2C%20-73.929291%5D%2C%20%5B28.067402%2C%20-82.747398%5D%2C%20%5B41.04019%2C%20-81.6084%5D%2C%20%5B33.80523%2C%20-118.28834%5D%2C%20%5B44.629354%2C%20-123.96108999999998%5D%2C%20%5B38.610843%2C%20-121.410723%5D%2C%20%5B32.13519%2C%20-81.24031%5D%2C%20%5B33.41073%2C%20-112.00133999999998%5D%2C%20%5B33.636292%2C%20-84.49218%5D%2C%20%5B44.996498%2C%20-93.282806%5D%2C%20%5B36.160629%2C%20-95.83342%5D%2C%20%5B42.86246%2C%20-73.773648%5D%2C%20%5B42.152969%2C%20-87.88374300000002%5D%2C%20%5B36.323086%2C%20-86.704422%5D%2C%20%5B33.892720000000004%2C%20-118.283021%5D%2C%20%5B28.827089%2C%20-81.806641%5D%2C%20%5B29.491177%2C%20-98.439178%5D%2C%20%5B35.05231%2C%20-89.81294%5D%2C%20%5B38.18661%2C%20-85.78381999999998%5D%2C%20%5B36.853664%2C%20-120.776449%5D%2C%20%5B37.717751%2C%20-121.532149%5D%2C%20%5B34.054497999999995%2C%20-118.257303%5D%2C%20%5B27.82623%2C%20-82.66632%5D%2C%20%5B33.948133%2C%20-118.101127%5D%2C%20%5B35.441353%2C%20-97.561295%5D%2C%20%5B26.524611%2C%20-81.588013%5D%2C%20%5B29.499240000000004%2C%20-95.11167%5D%2C%20%5B36.971111%2C%20-121.4188%5D%2C%20%5B28.572456%2C%20-81.452177%5D%2C%20%5B30.274447%2C%20-82.797271%5D%2C%20%5B37.92842%2C%20-122.38362%5D%2C%20%5B40.21681%2C%20-76.07718%5D%2C%20%5B37.721184%2C%20-77.448792%5D%2C%20%5B38.62905%2C%20-90.22213%5D%2C%20%5B35.032188%2C%20-85.319687%5D%2C%20%5B38.760812%2C%20-76.993604%5D%2C%20%5B43.59603%2C%20-122.03202%5D%2C%20%5B44.39783900000001%2C%20-123.93276000000002%5D%2C%20%5B33.949675%2C%20-118.170308%5D%2C%20%5B33.704975%2C%20-80.244591%5D%2C%20%5B42.167681%2C%20-121.846788%5D%2C%20%5B29.712792%2C%20-81.33259100000002%5D%2C%20%5B35.07698%2C%20-85.15427%5D%2C%20%5B35.213989%2C%20-80.82425699999997%5D%2C%20%5B42.175205%2C%20-119.921969%5D%2C%20%5B37.5111%2C%20-77.61402%5D%2C%20%5B38.189388%2C%20-121.262611%5D%2C%20%5B37.582188%2C%20-122.049683%5D%2C%20%5B35.22039%2C%20-80.82738499999998%5D%2C%20%5B33.65292%2C%20-84.396118%5D%2C%20%5B30.301706%2C%20-97.715393%5D%2C%20%5B33.183239%2C%20-117.296471%5D%2C%20%5B41.214233%2C%20-73.81061600000002%5D%2C%20%5B41.72711%2C%20-87.62476%5D%2C%20%5B33.618452000000005%2C%20-117.303875%5D%2C%20%5B40.030388%2C%20-75.021996%5D%2C%20%5B37.994982%2C%20-122.290288%5D%2C%20%5B34.155120000000004%2C%20-118.27029%5D%2C%20%5B33.902916%2C%20-84.274139%5D%2C%20%5B30.379181%2C%20-91.097893%5D%2C%20%5B35.780731%2C%20-78.675529%5D%2C%20%5B26.608983%2C%20-80.06886%5D%2C%20%5B40.094438%2C%20-78.55064499999997%5D%2C%20%5B29.825739%2C%20-81.379242%5D%2C%20%5B37.88298%2C%20-79.292038%5D%2C%20%5B33.09878%2C%20-117.30738999999998%5D%2C%20%5B38.24948%2C%20-85.79489000000002%5D%2C%20%5B41.538418%2C%20-87.962051%5D%2C%20%5B37.737331%2C%20-122.19333600000002%5D%2C%20%5B39.10656%2C%20-94.58811%5D%2C%20%5B30.39382%2C%20-84.321793%5D%2C%20%5B34.098492%2C%20-80.89269300000002%5D%2C%20%5B36.170055%2C%20-95.860306%5D%2C%20%5B34.628372%2C%20-86.901054%5D%2C%20%5B34.140846%2C%20-118.277763%5D%2C%20%5B33.456032%2C%20-112.036552%5D%2C%20%5B47.62788%2C%20-117.242653%5D%2C%20%5B34.104626%2C%20-80.829453%5D%2C%20%5B41.49635%2C%20-95.33626%5D%2C%20%5B42.27284%2C%20-85.433009%5D%2C%20%5B38.798714%2C%20-77.60237099999998%5D%2C%20%5B39.65509%2C%20-84.194221%5D%2C%20%5B33.705249%2C%20-117.954418%5D%2C%20%5B38.236774%2C%20-85.752937%5D%2C%20%5B35.33296%2C%20-80.78957%5D%2C%20%5B38.009496%2C%20-121.32006%5D%2C%20%5B32.464928%2C%20-93.728722%5D%2C%20%5B39.352268%2C%20-104.73913%5D%2C%20%5B37.686605%2C%20-122.130107%5D%2C%20%5B35.934987%2C%20-79.481493%5D%2C%20%5B33.744469%2C%20-84.39335600000003%5D%2C%20%5B32.895947%2C%20-96.897522%5D%2C%20%5B32.933784%2C%20-79.83097099999998%5D%2C%20%5B30.43678%2C%20-91.05735%5D%2C%20%5B38.75696%2C%20-77.22981%5D%2C%20%5B39.058876%2C%20-121.089943%5D%2C%20%5B40.58648%2C%20-73.81779%5D%2C%20%5B34.037537%2C%20-118.038414%5D%2C%20%5B30.28281%2C%20-97.653214%5D%2C%20%5B30.177683%2C%20-81.74261899999998%5D%2C%20%5B30.345266%2C%20-91.031158%5D%2C%20%5B29.701756%2C%20-95.399239%5D%2C%20%5B39.418436%2C%20-83.76428299999998%5D%2C%20%5B34.170258000000004%2C%20-118.098282%5D%2C%20%5B41.79733%2C%20-71.40356%5D%2C%20%5B37.606865%2C%20-122.066605%5D%2C%20%5B38.006088%2C%20-121.352348%5D%2C%20%5B38.549198%2C%20-122.720398%5D%2C%20%5B36.120548%2C%20-86.750023%5D%2C%20%5B33.171894%2C%20-96.640678%5D%2C%20%5B36.390497%2C%20-94.164557%5D%2C%20%5B38.801529%2C%20-77.521156%5D%2C%20%5B33.59193%2C%20-111.92585%5D%2C%20%5B34.114952%2C%20-117.97763799999998%5D%2C%20%5B33.852024%2C%20-84.369621%5D%2C%20%5B38.68203%2C%20-121.33527%5D%2C%20%5B44.750028%2C%20-93.284987%5D%2C%20%5B35.81934000000001%2C%20-78.704872%5D%2C%20%5B41.013341%2C%20-78.292211%5D%2C%20%5B34.135681%2C%20-117.392011%5D%2C%20%5B32.556446%2C%20-93.763382%5D%2C%20%5B30.52109%2C%20-87.31395%5D%2C%20%5B34.736851%2C%20-82.282715%5D%2C%20%5B47.63275%2C%20-122.32385%5D%2C%20%5B33.173332%2C%20-97.089973%5D%2C%20%5B30.22233%2C%20-92.061783%5D%2C%20%5B25.906888%2C%20-80.383003%5D%2C%20%5B41.237823%2C%20-81.161061%5D%2C%20%5B34.641083%2C%20-86.843811%5D%2C%20%5B35.56365%2C%20-97.56719%5D%2C%20%5B34.272161%2C%20-118.489984%5D%2C%20%5B41.84792%2C%20-87.62026%5D%2C%20%5B42.13093%2C%20-76.97295%5D%2C%20%5B45.97623400000001%2C%20-92.955872%5D%2C%20%5B43.145566%2C%20-77.650225%5D%2C%20%5B26.142525%2C%20-80.169749%5D%2C%20%5B33.83164%2C%20-118.25573%5D%2C%20%5B39.076008%2C%20-84.519424%5D%2C%20%5B29.73587%2C%20-95.623787%5D%2C%20%5B45.40156%2C%20-122.57253%5D%2C%20%5B37.474098%2C%20-77.468788%5D%2C%20%5B33.041149%2C%20-80.13436899999998%5D%2C%20%5B37.017968%2C%20-121.564414%5D%2C%20%5B33.789833%2C%20-118.207746%5D%2C%20%5B42.39365%2C%20-73.824783%5D%2C%20%5B41.729263%2C%20-88.011887%5D%2C%20%5B25.688578%2C%20-80.47833299999998%5D%2C%20%5B35.901409%2C%20-78.873657%5D%2C%20%5B34.02397%2C%20-81.10351%5D%2C%20%5B31.7622%2C%20-106.3951%5D%2C%20%5B34.015999%2C%20-118.172394%5D%2C%20%5B37.877388%2C%20-122.184158%5D%2C%20%5B40.89657%2C%20-74.13388%5D%2C%20%5B38.90901%2C%20-104.82476%5D%2C%20%5B34.104149%2C%20-117.629974%5D%2C%20%5B32.57691%2C%20-80.93295%5D%2C%20%5B30.88163%2C%20-84.35561%5D%2C%20%5B35.155907%2C%20-80.74838299999998%5D%2C%20%5B35.13709%2C%20-85.27965999999998%5D%2C%20%5B38.658573%2C%20-90.356316%5D%2C%20%5B33.84441%2C%20-118.285042%5D%2C%20%5B33.789665%2C%20-81.490135%5D%2C%20%5B34.859501%2C%20-81.369069%5D%2C%20%5B28.493181%2C%20-81.433258%5D%2C%20%5B37.82277%2C%20-122.26897%5D%2C%20%5B26.80872%2C%20-80.09952%5D%2C%20%5B44.992001%2C%20-93.089165%5D%2C%20%5B33.942013%2C%20-84.13473499999998%5D%2C%20%5B27.471189000000006%2C%20-81.43366999999998%5D%2C%20%5B45.59824%2C%20-121.13871%5D%2C%20%5B29.870539%2C%20-95.412643%5D%2C%20%5B38.6311%2C%20-121.50582%5D%2C%20%5B35.171356%2C%20-80.878212%5D%2C%20%5B35.606937%2C%20-78.564064%5D%2C%20%5B27.12675%2C%20-80.338165%5D%2C%20%5B38.58861%2C%20-121.29111%5D%2C%20%5B38.91477%2C%20-75.56905%5D%2C%20%5B42.248125%2C%20-91.19222%5D%2C%20%5B25.78446%2C%20-80.24334%5D%2C%20%5B32.94698%2C%20-117.10657%5D%2C%20%5B39.942875%2C%20-74.208748%5D%2C%20%5B30.543131%2C%20-91.028587%5D%2C%20%5B40.75528%2C%20-74.11733000000002%5D%2C%20%5B35.794456%2C%20-78.48650400000002%5D%2C%20%5B40.884712%2C%20-121.657771%5D%2C%20%5B40.98698%2C%20-111.90148%5D%2C%20%5B45.547009%2C%20-122.540904%5D%2C%20%5B33.50562%2C%20-112.04753999999998%5D%2C%20%5B45.373932%2C%20-118.301113%5D%2C%20%5B33.427589000000005%2C%20-79.151443%5D%2C%20%5B38.706551%2C%20-121.372765%5D%2C%20%5B39.36687%2C%20-76.50975%5D%2C%20%5B29.674299%2C%20-95.566658%5D%2C%20%5B30.291405%2C%20-97.627869%5D%2C%20%5B25.811527%2C%20-80.196396%5D%2C%20%5B44.864872%2C%20-93.429535%5D%2C%20%5B33.485916%2C%20-112.186234%5D%2C%20%5B42.03196%2C%20-88.144577%5D%2C%20%5B34.008361%2C%20-81.110869%5D%2C%20%5B38.132248%2C%20-77.511139%5D%2C%20%5B43.12966%2C%20-124.17321%5D%2C%20%5B43.4319%2C%20-73.46495%5D%2C%20%5B25.91743%2C%20-80.21181999999997%5D%2C%20%5B27.977290000000004%2C%20-82.72968%5D%2C%20%5B36.192902%2C%20-86.776321%5D%2C%20%5B36.752941%2C%20-119.684578%5D%2C%20%5B34.041775%2C%20-118.273247%5D%2C%20%5B36.93137700000001%2C%20-76.266937%5D%2C%20%5B34.47293%2C%20-117.34436%5D%2C%20%5B44.970019%2C%20-93.31341%5D%2C%20%5B37.05933%2C%20-121.584709%5D%2C%20%5B36.293239%2C%20-119.80923500000002%5D%2C%20%5B47.444456%2C%20-122.073209%5D%2C%20%5B35.22215%2C%20-80.868%5D%2C%20%5B33.91337%2C%20-118.12018%5D%2C%20%5B33.807705%2C%20-79.018684%5D%2C%20%5B45.546371%2C%20-122.899963%5D%2C%20%5B40.698017%2C%20-73.887886%5D%2C%20%5B30.417462%2C%20-91.101969%5D%2C%20%5B34.20837%2C%20-86.878906%5D%2C%20%5B29.689514000000006%2C%20-95.557907%5D%2C%20%5B37.710868%2C%20-121.08728700000002%5D%2C%20%5B32.416992%2C%20-93.900154%5D%2C%20%5B32.683640000000004%2C%20-83.632591%5D%2C%20%5B28.486908000000003%2C%20-81.417427%5D%2C%20%5B44.966118%2C%20-93.26992%5D%2C%20%5B44.77189%2C%20-93.28836%5D%2C%20%5B34.022024%2C%20-117.337086%5D%2C%20%5B32.242408000000005%2C%20-82.128002%5D%2C%20%5B29.739727%2C%20-95.36618%5D%2C%20%5B26.57806%2C%20-80.06947%5D%2C%20%5B41.62936%2C%20-71.486801%5D%2C%20%5B25.688161%2C%20-80.33259699999998%5D%2C%20%5B27.94931%2C%20-82.35495%5D%2C%20%5B41.68398%2C%20-87.72006%5D%2C%20%5B29.53875%2C%20-98.58532%5D%2C%20%5B43.58149%2C%20-83.91571%5D%2C%20%5B27.950190000000006%2C%20-82.38188000000002%5D%2C%20%5B30.477558%2C%20-97.786713%5D%2C%20%5B41.60413%2C%20-87.58334%5D%2C%20%5B42.298378%2C%20-83.878075%5D%2C%20%5B35.346725%2C%20-119.003082%5D%2C%20%5B41.295605%2C%20-73.677223%5D%2C%20%5B32.83895%2C%20-96.63328%5D%2C%20%5B33.870759%2C%20-117.703451%5D%2C%20%5B39.8378%2C%20-105.03117%5D%2C%20%5B35.171242%2C%20-80.74543800000002%5D%2C%20%5B33.925991%2C%20-118.229683%5D%2C%20%5B31.478559000000004%2C%20-83.519623%5D%2C%20%5B37.488972%2C%20-122.218941%5D%2C%20%5B40.737716%2C%20-73.60794%5D%2C%20%5B44.06212%2C%20-123.00173%5D%2C%20%5B42.72861500000001%2C%20-71.13877099999998%5D%2C%20%5B47.216911%2C%20-121.128319%5D%2C%20%5B42.337341%2C%20-83.124863%5D%2C%20%5B37.468361%2C%20-122.225349%5D%2C%20%5B36.328619%2C%20-78.608879%5D%2C%20%5B33.9069%2C%20-117.88167%5D%2C%20%5B32.908446999999995%2C%20-96.898109%5D%2C%20%5B43.32175%2C%20-123.05775%5D%2C%20%5B29.706768%2C%20-95.521375%5D%2C%20%5B40.050079%2C%20-78.51368000000002%5D%2C%20%5B35.29093%2C%20-113.08101%5D%2C%20%5B28.61099%2C%20-81.3867%5D%2C%20%5B30.350694%2C%20-97.499899%5D%2C%20%5B32.97513%2C%20-80.07632%5D%2C%20%5B36.85156%2C%20-119.94607%5D%2C%20%5B28.515348%2C%20-81.593189%5D%2C%20%5B40.69793%2C%20-73.42562%5D%2C%20%5B39.239433%2C%20-76.837456%5D%2C%20%5B32.24268%2C%20-110.944%5D%2C%20%5B43.001541%2C%20-83.801651%5D%2C%20%5B38.803761%2C%20-76.05999%5D%2C%20%5B33.93819000000001%2C%20-117.128433%5D%2C%20%5B34.154858000000004%2C%20-118.310865%5D%2C%20%5B35.26535%2C%20-81.13712%5D%2C%20%5B33.326736%2C%20-117.159179%5D%2C%20%5B30.288459000000003%2C%20-81.62750600000003%5D%2C%20%5B38.77307%2C%20-90.31165%5D%2C%20%5B37.797643%2C%20-121.448927%5D%2C%20%5B41.846127%2C%20-88.03009399999998%5D%2C%20%5B32.642059%2C%20-96.805855%5D%2C%20%5B35.459301%2C%20-97.60099%5D%2C%20%5B36.753443%2C%20-119.781972%5D%2C%20%5B41.101711%2C%20-73.992599%5D%2C%20%5B29.866804%2C%20-81.32309000000002%5D%2C%20%5B32.20689%2C%20-110.89243%5D%2C%20%5B41.803482%2C%20-72.54571700000002%5D%2C%20%5B37.958328%2C%20-120.418228%5D%2C%20%5B37.5398%2C%20-122.01754%5D%2C%20%5B42.22098%2C%20-83.41918000000003%5D%2C%20%5B37.995148%2C%20-122.070404%5D%2C%20%5B42.972757%2C%20-85.67586800000002%5D%2C%20%5B39.790596%2C%20-84.253807%5D%2C%20%5B38.544781%2C%20-121.473984%5D%2C%20%5B27.966178000000006%2C%20-82.7088%5D%2C%20%5B35.409019%2C%20-80.857361%5D%2C%20%5B33.512646000000004%2C%20-82.04245%5D%2C%20%5B42.90273%2C%20-83.64711%5D%2C%20%5B39.5298%2C%20-75.736603%5D%2C%20%5B44.777945%2C%20-120.967143%5D%2C%20%5B40.847481%2C%20-72.813507%5D%2C%20%5B40.247398%2C%20-75.643776%5D%2C%20%5B33.67989%2C%20-117.8792%5D%2C%20%5B37.762051%2C%20-120.954758%5D%2C%20%5B25.94559%2C%20-80.18654000000002%5D%2C%20%5B36.517311%2C%20-119.430611%5D%2C%20%5B34.050362%2C%20-117.925591%5D%2C%20%5B30.35515%2C%20-97.683215%5D%2C%20%5B34.07245%2C%20-117.94127%5D%2C%20%5B47.97824%2C%20-122.170784%5D%2C%20%5B41.772455%2C%20-72.29326400000002%5D%2C%20%5B35.58017%2C%20-97.553062%5D%2C%20%5B43.68207%2C%20-70.32446%5D%2C%20%5B40.850025%2C%20-73.910706%5D%2C%20%5B42.487431%2C%20-87.94673900000002%5D%2C%20%5B38.516293%2C%20-121.522133%5D%2C%20%5B38.63316%2C%20-77.437%5D%2C%20%5B41.755375%2C%20-71.48119399999999%5D%2C%20%5B38.452591%2C%20-121.40506%5D%2C%20%5B39.546116%2C%20-119.788116%5D%2C%20%5B27.996140000000004%2C%20-82.37305%5D%2C%20%5B47.239277%2C%20-122.407204%5D%2C%20%5B40.234261%2C%20-75.53228%5D%2C%20%5B33.880087%2C%20-117.553486%5D%2C%20%5B44.05996%2C%20-121.301136%5D%2C%20%5B29.997118%2C%20-90.143829%5D%2C%20%5B39.34574%2C%20-76.74505%5D%2C%20%5B43.181423%2C%20-83.520126%5D%2C%20%5B41.891891%2C%20-87.658363%5D%2C%20%5B35.25471500000001%2C%20-80.88915300000002%5D%2C%20%5B30.581318%2C%20-84.8206%5D%2C%20%5B43.054501%2C%20-83.73191800000002%5D%2C%20%5B40.480747%2C%20-122.29572%5D%2C%20%5B30.44863%2C%20-88.93070999999998%5D%2C%20%5B41.47147%2C%20-72.25914%5D%2C%20%5B26.80836%2C%20-80.13128%5D%2C%20%5B37.803886%2C%20-122.301971%5D%2C%20%5B37.259438%2C%20-121.95298%5D%2C%20%5B37.758091%2C%20-121.069275%5D%2C%20%5B42.137543%2C%20-122.636136%5D%2C%20%5B45.01697%2C%20-92.989661%5D%2C%20%5B38.645329%2C%20-120.943811%5D%2C%20%5B37.722891%2C%20-121.942478%5D%2C%20%5B40.441%2C%20-74.39058%5D%2C%20%5B32.85842%2C%20-96.65275%5D%2C%20%5B40.59211%2C%20-75.52570300000002%5D%2C%20%5B44.74983%2C%20-92.81484%5D%2C%20%5B37.405424%2C%20-120.850126%5D%2C%20%5B38.94907%2C%20-104.81208%5D%2C%20%5B40.714205%2C%20-74.202572%5D%2C%20%5B25.970307%2C%20-80.165737%5D%2C%20%5B33.848483%2C%20-117.534193%5D%2C%20%5B37.892097%2C%20-122.063034%5D%2C%20%5B37.371574%2C%20-121.823875%5D%2C%20%5B34.034851%2C%20-78.83555600000003%5D%2C%20%5B38.92675%2C%20-76.56904%5D%2C%20%5B35.79314%2C%20-78.68449%5D%2C%20%5B40.609875%2C%20-74.09513100000002%5D%2C%20%5B35.115406%2C%20-80.824265%5D%2C%20%5B39.784813%2C%20-84.212151%5D%2C%20%5B34.286682%2C%20-118.180679%5D%2C%20%5B37.935711%2C%20-78.671842%5D%2C%20%5B34.070927000000005%2C%20-117.611481%5D%2C%20%5B36.14323%2C%20-86.823334%5D%2C%20%5B35.839238%2C%20-78.675899%5D%2C%20%5B29.631355%2C%20-98.459373%5D%2C%20%5B36.786488%2C%20-76.397285%5D%2C%20%5B32.676140000000004%2C%20-97.01409%5D%2C%20%5B26.023922%2C%20-80.167283%5D%2C%20%5B40.825207%2C%20-73.235008%5D%2C%20%5B25.914881%2C%20-80.234123%5D%2C%20%5B37.517124%2C%20-122.25988%5D%2C%20%5B36.138143%2C%20-86.764113%5D%2C%20%5B39.022114%2C%20-76.94982900000002%5D%2C%20%5B40.045864%2C%20-76.307182%5D%2C%20%5B35.609306%2C%20-97.572067%5D%2C%20%5B42.891571%2C%20-83.600082%5D%2C%20%5B40.63459%2C%20-111.89526%5D%2C%20%5B45.514931%2C%20-123.881912%5D%2C%20%5B34.698425%2C%20-86.38105%5D%2C%20%5B41.709045%2C%20-72.646126%5D%2C%20%5B34.030495%2C%20-117.591225%5D%2C%20%5B32.838583%2C%20-97.148742%5D%2C%20%5B34.048008%2C%20-117.307106%5D%2C%20%5B35.478642%2C%20-97.563812%5D%2C%20%5B34.06856%2C%20-117.79912%5D%2C%20%5B34.142637%2C%20-118.47159%5D%2C%20%5B36.990617%2C%20-121.557847%5D%2C%20%5B34.054485%2C%20-117.978043%5D%2C%20%5B33.02633%2C%20-117.27492%5D%2C%20%5B32.713593%2C%20-96.758888%5D%2C%20%5B33.514645%2C%20-112.044304%5D%2C%20%5B42.443951%2C%20-85.658501%5D%2C%20%5B38.113088%2C%20-121.258492%5D%2C%20%5B42.325635%2C%20-87.868189%5D%2C%20%5B33.508469%2C%20-112.269104%5D%2C%20%5B35.945189%2C%20-78.504124%5D%2C%20%5B40.122417%2C%20-75.217361%5D%2C%20%5B36.11822100000001%2C%20-86.700226%5D%2C%20%5B38.361687%2C%20-122.712708%5D%2C%20%5B30.749432%2C%20-98.14711%5D%2C%20%5B33.460346%2C%20-86.94498399999998%5D%2C%20%5B41.86898%2C%20-87.91595%5D%2C%20%5B42.397391%2C%20-83.111788%5D%2C%20%5B33.80621%2C%20-117.23431%5D%2C%20%5B41.86059%2C%20-87.9927%5D%2C%20%5B45.6143%2C%20-117.642105%5D%2C%20%5B42.36993%2C%20-83.14135%5D%2C%20%5B25.666571%2C%20-80.369754%5D%2C%20%5B39.906281%2C%20-122.178551%5D%2C%20%5B33.778751%2C%20-117.895981%5D%2C%20%5B25.882227%2C%20-80.209389%5D%2C%20%5B41.97452%2C%20-87.64924%5D%2C%20%5B37.57994%2C%20-119.95602%5D%2C%20%5B40.990211%2C%20-111.892296%5D%2C%20%5B30.421619%2C%20-97.66568%5D%2C%20%5B32.875286%2C%20-117.229027%5D%2C%20%5B37.829079%2C%20-122.293854%5D%2C%20%5B40.653042%2C%20-112.024651%5D%2C%20%5B38.519855%2C%20-121.465096%5D%2C%20%5B28.568399%2C%20-81.282596%5D%2C%20%5B39.900221%2C%20-104.988178%5D%2C%20%5B37.241667%2C%20-121.768333%5D%2C%20%5B32.739346000000005%2C%20-96.823204%5D%2C%20%5B25.700654%2C%20-80.388296%5D%2C%20%5B42.255119%2C%20-88.00145%5D%2C%20%5B30.40806%2C%20-91.101921%5D%2C%20%5B33.51347%2C%20-112.11244%5D%2C%20%5B37.726952%2C%20-121.724197%5D%2C%20%5B39.433757%2C%20-75.230049%5D%2C%20%5B32.766936%2C%20-96.860846%5D%2C%20%5B42.024891%2C%20-72.14299%5D%2C%20%5B37.568946%2C%20-122.328906%5D%2C%20%5B29.729317%2C%20-95.460625%5D%2C%20%5B35.1374%2C%20-80.8763%5D%2C%20%5B47.7051%2C%20-122.35546%5D%2C%20%5B29.556076%2C%20-95.717308%5D%2C%20%5B42.391384%2C%20-83.00634000000002%5D%2C%20%5B38.800537%2C%20-77.077759%5D%2C%20%5B36.158478%2C%20-95.860718%5D%2C%20%5B45.54264000000001%2C%20-122.6773%5D%2C%20%5B40.77076%2C%20-73.873657%5D%2C%20%5B41.077269%2C%20-87.270787%5D%2C%20%5B32.766289%2C%20-117.128754%5D%2C%20%5B33.872169%2C%20-118.341583%5D%2C%20%5B33.875911%2C%20-118.168782%5D%2C%20%5B28.44988%2C%20-81.47417%5D%2C%20%5B30.649639%2C%20-88.074947%5D%2C%20%5B40.843857%2C%20-73.896538%5D%2C%20%5B37.76467%2C%20-121.41066%5D%2C%20%5B37.98303%2C%20-77.49256899999997%5D%2C%20%5B32.782127%2C%20-96.811897%5D%2C%20%5B37.320395%2C%20-121.828991%5D%2C%20%5B35.206057%2C%20-80.794837%5D%2C%20%5B41.325844%2C%20-73.82196%5D%2C%20%5B29.844887%2C%20-95.312777%5D%2C%20%5B37.711573%2C%20-122.127391%5D%2C%20%5B38.150221%2C%20-122.216902%5D%2C%20%5B39.698169%2C%20-84.096151%5D%2C%20%5B34.43504%2C%20-79.95015699999998%5D%2C%20%5B38.75549%2C%20-76.91909%5D%2C%20%5B47.578049%2C%20-122.207329%5D%2C%20%5B34.065909999999995%2C%20-117.490479%5D%2C%20%5B37.62127%2C%20-122.07718%5D%2C%20%5B42.32237%2C%20-83.21526%5D%2C%20%5B27.937899%2C%20-82.233391%5D%2C%20%5B42.041389%2C%20-88.291061%5D%2C%20%5B42.222538%2C%20-71.032257%5D%2C%20%5B39.26632%2C%20-76.56263%5D%2C%20%5B36.657679%2C%20-77.557309%5D%2C%20%5B32.66988%2C%20-96.93186%5D%2C%20%5B36.415027%2C%20-120.121127%5D%2C%20%5B28.545268%2C%20-81.382288%5D%2C%20%5B34.228249%2C%20-79.798565%5D%2C%20%5B37.632641%2C%20-77.55117800000002%5D%2C%20%5B35.165558000000004%2C%20-80.832367%5D%2C%20%5B28.494316%2C%20-81.417523%5D%2C%20%5B34.087218%2C%20-117.65498%5D%2C%20%5B38.47335800000001%2C%20-121.421722%5D%2C%20%5B33.6409%2C%20-117.733528%5D%2C%20%5B33.896747999999995%2C%20-118.10479%5D%2C%20%5B30.314795%2C%20-81.76984399999998%5D%2C%20%5B35.60975%2C%20-97.54938%5D%2C%20%5B35.594543%2C%20-97.502319%5D%2C%20%5B37.958506%2C%20-120.321373%5D%2C%20%5B34.034969%2C%20-81.100166%5D%2C%20%5B27.947298%2C%20-81.084197%5D%2C%20%5B40.93412%2C%20-124.100883%5D%2C%20%5B38.586708%2C%20-122.931183%5D%2C%20%5B37.799116%2C%20-122.27619%5D%2C%20%5B35.445287%2C%20-118.52846%5D%2C%20%5B44.287294%2C%20-120.883529%5D%2C%20%5B30.150595000000006%2C%20-92.093773%5D%2C%20%5B42.377469%2C%20-123.495665%5D%2C%20%5B38.675876%2C%20-121.952115%5D%2C%20%5B28.07887%2C%20-80.70591%5D%2C%20%5B39.820686%2C%20-84.13859599999998%5D%2C%20%5B39.40752%2C%20-76.66186%5D%2C%20%5B32.79951%2C%20-97.22504%5D%2C%20%5B35.87090999999999%2C%20-78.5806%5D%2C%20%5B36.943848%2C%20-77.39215899999998%5D%2C%20%5B36.11130900000001%2C%20-86.9226%5D%2C%20%5B31.726233%2C%20-106.311218%5D%2C%20%5B41.80555%2C%20-72.65983%5D%2C%20%5B28.485556%2C%20-81.406013%5D%2C%20%5B35.138020000000004%2C%20-80.90762%5D%2C%20%5B37.640369%2C%20-77.631248%5D%2C%20%5B33.7453%2C%20-84.349014%5D%2C%20%5B36.17146%2C%20-86.80277%5D%2C%20%5B38.432976%2C%20-121.399515%5D%2C%20%5B29.586411%2C%20-95.184647%5D%2C%20%5B40.976318%2C%20-74.94345899999998%5D%2C%20%5B34.37761500000001%2C%20-118.915747%5D%2C%20%5B35.837791%2C%20-78.640167%5D%2C%20%5B38.730484%2C%20-120.799052%5D%2C%20%5B29.771290000000004%2C%20-95.153633%5D%2C%20%5B39.163389%2C%20-94.495691%5D%2C%20%5B32.665588%2C%20-96.910202%5D%2C%20%5B41.299503%2C%20-96.004677%5D%2C%20%5B27.95616%2C%20-80.57003%5D%2C%20%5B34.81432%2C%20-82.33424000000002%5D%2C%20%5B28.003656%2C%20-82.32803299999998%5D%2C%20%5B33.751045%2C%20-117.845695%5D%2C%20%5B33.537228000000006%2C%20-82.12848699999998%5D%2C%20%5B32.470984%2C%20-93.797272%5D%2C%20%5B29.965361%2C%20-95.429647%5D%2C%20%5B37.255121%2C%20-77.397681%5D%2C%20%5B42.46631%2C%20-88.06241999999997%5D%2C%20%5B27.942003000000003%2C%20-82.32917900000002%5D%2C%20%5B30.431931%2C%20-84.96572900000002%5D%2C%20%5B38.156929%2C%20-85.71779599999998%5D%2C%20%5B46.83359%2C%20-95.69419%5D%2C%20%5B34.860432%2C%20-82.270523%5D%2C%20%5B33.39853%2C%20-111.89131%5D%2C%20%5B35.073043%2C%20-82.20268%5D%2C%20%5B25.86639%2C%20-80.20825%5D%2C%20%5B39.75369%2C%20-75.55331%5D%2C%20%5B43.089104%2C%20-88.057823%5D%2C%20%5B33.926190000000005%2C%20-118.36825%5D%2C%20%5B36.15884000000001%2C%20-115.14755%5D%2C%20%5B40.005887%2C%20-74.85518499999998%5D%2C%20%5B38.308189%2C%20-104.620943%5D%2C%20%5B25.77184%2C%20-80.38561999999997%5D%2C%20%5B32.875984%2C%20-96.684316%5D%2C%20%5B34.028313%2C%20-118.431335%5D%2C%20%5B39.01585%2C%20-77.0079%5D%2C%20%5B25.485363%2C%20-80.465065%5D%2C%20%5B29.688166%2C%20-95.363853%5D%2C%20%5B34.157166%2C%20-118.379387%5D%2C%20%5B32.78416%2C%20-96.55684%5D%2C%20%5B33.901382%2C%20-118.370461%5D%2C%20%5B44.862509%2C%20-93.128861%5D%2C%20%5B40.726151%2C%20-73.113892%5D%2C%20%5B28.55297%2C%20-81.3956%5D%2C%20%5B37.399014%2C%20-77.51164200000002%5D%2C%20%5B38.660723%2C%20-121.327363%5D%2C%20%5B40.130272%2C%20-80.334648%5D%2C%20%5B40.135658%2C%20-75.12265%5D%2C%20%5B33.677775%2C%20-117.757963%5D%2C%20%5B35.192299%2C%20-89.926117%5D%2C%20%5B38.008579%2C%20-121.329262%5D%2C%20%5B40.160454%2C%20-75.126541%5D%2C%20%5B36.605228%2C%20-119.610687%5D%2C%20%5B41.68063%2C%20-72.6535%5D%2C%20%5B38.901332%2C%20-77.080947%5D%2C%20%5B28.348282%2C%20-81.23221600000002%5D%2C%20%5B37.634972%2C%20-122.086952%5D%2C%20%5B30.41935%2C%20-91.120873%5D%2C%20%5B37.572153%2C%20-121.888662%5D%2C%20%5B36.109604%2C%20-86.671494%5D%2C%20%5B41.76067000000001%2C%20-87.9451%5D%2C%20%5B30.523921%2C%20-91.144146%5D%2C%20%5B34.135249%2C%20-117.977636%5D%2C%20%5B32.268085%2C%20-90.210274%5D%2C%20%5B28.533632%2C%20-82.50966600000002%5D%2C%20%5B29.80428%2C%20-95.28728%5D%2C%20%5B40.155956%2C%20-75.121887%5D%2C%20%5B29.11932%2C%20-95.3807%5D%2C%20%5B33.831505%2C%20-118.08429%5D%2C%20%5B29.622113%2C%20-95.513138%5D%2C%20%5B48.013271%2C%20-122.108109%5D%2C%20%5B45.13847%2C%20-93.29046%5D%2C%20%5B39.233051%2C%20-123.207787%5D%2C%20%5B34.213039%2C%20-80.421768%5D%2C%20%5B34.14418%2C%20-79.770454%5D%2C%20%5B33.938992%2C%20-118.096497%5D%2C%20%5B32.690777000000004%2C%20-96.846519%5D%2C%20%5B45.30814%2C%20-94.90453%5D%2C%20%5B35.521938%2C%20-97.541977%5D%2C%20%5B34.42629%2C%20-119.72408%5D%2C%20%5B41.40953%2C%20-81.50806999999998%5D%2C%20%5B37.329008%2C%20-122.010987%5D%2C%20%5B34.067511%2C%20-117.551776%5D%2C%20%5B32.857864%2C%20-96.873848%5D%2C%20%5B32.355339%2C%20-90.152107%5D%2C%20%5B37.749699%2C%20-122.397285%5D%2C%20%5B34.506698%2C%20-117.393232%5D%2C%20%5B34.042952%2C%20-118.272653%5D%2C%20%5B34.030247%2C%20-117.706853%5D%2C%20%5B39.42376%2C%20-76.63831%5D%2C%20%5B39.98772%2C%20-105.23686%5D%2C%20%5B40.16379000000001%2C%20-76.39513000000002%5D%2C%20%5B40.74675%2C%20-73.76444000000002%5D%2C%20%5B35.221867%2C%20-80.82164%5D%2C%20%5B39.641236%2C%20-75.802112%5D%2C%20%5B34.072806%2C%20-118.466716%5D%2C%20%5B41.099754%2C%20-73.951324%5D%2C%20%5B34.031825%2C%20-117.550444%5D%2C%20%5B40.70735%2C%20-74.2557%5D%2C%20%5B38.863803%2C%20-77.336529%5D%2C%20%5B47.51733400000001%2C%20-122.34539%5D%2C%20%5B30.309158%2C%20-97.710419%5D%2C%20%5B41.87455%2C%20-87.628677%5D%2C%20%5B44.28775%2C%20-121.526898%5D%2C%20%5B39.25437%2C%20-94.652622%5D%2C%20%5B37.489567%2C%20-121.944648%5D%2C%20%5B41.643768%2C%20-73.81424%5D%2C%20%5B44.734264%2C%20-92.85257%5D%2C%20%5B41.12151%2C%20-73.32909000000002%5D%2C%20%5B39.08182%2C%20-94.54052%5D%2C%20%5B33.824261%2C%20-118.242348%5D%2C%20%5B47.734066%2C%20-122.324997%5D%2C%20%5B30.23106%2C%20-92.013771%5D%2C%20%5B38.8708%2C%20-77.00891999999997%5D%2C%20%5B44.796785%2C%20-93.288913%5D%2C%20%5B37.71492%2C%20-122.136627%5D%2C%20%5B36.98095%2C%20-76.42461%5D%2C%20%5B29.691681%2C%20-95.416451%5D%2C%20%5B38.832905%2C%20-77.10379%5D%2C%20%5B33.196241%2C%20-87.526057%5D%2C%20%5B30.009333%2C%20-90.022689%5D%2C%20%5B34.266998%2C%20-118.443596%5D%2C%20%5B35.03083%2C%20-120.495087%5D%2C%20%5B31.788481%2C%20-106.32061000000002%5D%2C%20%5B42.878254%2C%20-117.399204%5D%2C%20%5B33.279406%2C%20-111.966847%5D%2C%20%5B34.157711%2C%20-118.379654%5D%2C%20%5B38.637253%2C%20-121.406677%5D%2C%20%5B32.809143%2C%20-96.820518%5D%2C%20%5B34.00946%2C%20-84.567421%5D%2C%20%5B40.63145%2C%20-122.268823%5D%2C%20%5B42.368423%2C%20-83.058128%5D%2C%20%5B30.320856%2C%20-97.726402%5D%2C%20%5B28.069267%2C%20-82.45458199999999%5D%2C%20%5B32.7986%2C%20-96.62613%5D%2C%20%5B30.191286%2C%20-97.769928%5D%2C%20%5B40.132915%2C%20-75.19236%5D%2C%20%5B42.161971%2C%20-123.478665%5D%2C%20%5B34.071963000000004%2C%20-117.881301%5D%2C%20%5B36.632113%2C%20-82.123672%5D%2C%20%5B40.08145%2C%20-75.38797%5D%2C%20%5B34.055739%2C%20-118.452239%5D%2C%20%5B35.46434%2C%20-97.618881%5D%2C%20%5B37.739335%2C%20-121.59082%5D%2C%20%5B34.014717%2C%20-117.985405%5D%2C%20%5B40.9249%2C%20-73.82734%5D%2C%20%5B45.53145%2C%20-122.571298%5D%2C%20%5B34.183121%2C%20-118.398743%5D%2C%20%5B33.651533%2C%20-84.00097099999998%5D%2C%20%5B42.919724%2C%20-85.632553%5D%2C%20%5B44.859589%2C%20-93.394562%5D%2C%20%5B41.11792%2C%20-88.01831800000002%5D%2C%20%5B33.859325%2C%20-118.290604%5D%2C%20%5B40.175354%2C%20-75.17417900000002%5D%2C%20%5B33.8541%2C%20-117.79493%5D%2C%20%5B41.87521%2C%20-87.91431%5D%2C%20%5B42.04557%2C%20-88.276733%5D%2C%20%5B44.597431%2C%20-123.22422%5D%2C%20%5B33.827091%2C%20-84.252602%5D%2C%20%5B25.86639%2C%20-80.20825%5D%2C%20%5B34.02172%2C%20-117.10424%5D%2C%20%5B37.701332%2C%20-121.844093%5D%2C%20%5B33.87727%2C%20-118.18609%5D%2C%20%5B33.567352%2C%20-117.180992%5D%2C%20%5B37.58430900000001%2C%20-122.328735%5D%2C%20%5B37.711035%2C%20-120.84831%5D%2C%20%5B38.239822%2C%20-121.417625%5D%2C%20%5B29.612841%2C%20-95.195923%5D%2C%20%5B34.017866999999995%2C%20-118.052654%5D%2C%20%5B35.086594%2C%20-85.06732199999998%5D%2C%20%5B34.034954%2C%20-118.33371%5D%2C%20%5B35.102951000000004%2C%20-89.870209%5D%2C%20%5B39.765656%2C%20-86.102097%5D%2C%20%5B32.907627000000005%2C%20-96.898117%5D%2C%20%5B34.269695%2C%20-79.703766%5D%2C%20%5B38.224854%2C%20-91.155678%5D%2C%20%5B38.411248%2C%20-122.794591%5D%2C%20%5B34.170231%2C%20-118.304405%5D%2C%20%5B37.702652%2C%20-122.112659%5D%2C%20%5B31.65958%2C%20-106.304626%5D%2C%20%5B30.348848%2C%20-97.555931%5D%2C%20%5B36.150888%2C%20-120.316724%5D%2C%20%5B35.288497%2C%20-80.85035699999997%5D%2C%20%5B34.796692%2C%20-82.47187%5D%2C%20%5B28.47913%2C%20-81.28791%5D%2C%20%5B35.823078%2C%20-78.622398%5D%2C%20%5B43.33359%2C%20-121.75926%5D%2C%20%5B44.193043%2C%20-123.202732%5D%2C%20%5B38.18595%2C%20-121.40255%5D%2C%20%5B25.785839000000006%2C%20-80.262939%5D%2C%20%5B41.8457%2C%20-87.95756999999998%5D%2C%20%5B45.733975%2C%20-120.646604%5D%2C%20%5B34.427048%2C%20-118.58548%5D%2C%20%5B39.096188%2C%20-94.583378%5D%2C%20%5B28.069205%2C%20-82.45122099999998%5D%2C%20%5B37.933431%2C%20-122.257814%5D%2C%20%5B31.578902000000006%2C%20-86.843909%5D%2C%20%5B38.55615%2C%20-121.44319%5D%2C%20%5B33.602339%2C%20-117.787245%5D%2C%20%5B34.164144%2C%20-84.829187%5D%2C%20%5B38.92326%2C%20-76.93093%5D%2C%20%5B40.682243%2C%20-73.663391%5D%2C%20%5B35.21490900000001%2C%20-80.83847%5D%2C%20%5B34.154381%2C%20-80.917374%5D%2C%20%5B25.97825%2C%20-80.23002%5D%2C%20%5B39.41234%2C%20-105.75807%5D%2C%20%5B30.500634%2C%20-87.30578100000002%5D%2C%20%5B44.95143%2C%20-93.02203%5D%2C%20%5B34.673359000000005%2C%20-82.532921%5D%2C%20%5B33.716812%2C%20-85.026077%5D%2C%20%5B39.18744%2C%20-77.02488000000002%5D%2C%20%5B28.198366%2C%20-82.33036700000002%5D%2C%20%5B29.718849%2C%20-95.338989%5D%2C%20%5B33.739216%2C%20-117.8337%5D%2C%20%5B35.38491%2C%20-120.848866%5D%2C%20%5B30.259497%2C%20-92.015511%5D%2C%20%5B34.505829%2C%20-118.114578%5D%2C%20%5B33.476631%2C%20-117.139084%5D%2C%20%5B40.611233%2C%20-111.93878%5D%2C%20%5B33.466324%2C%20-112.110077%5D%2C%20%5B33.774712%2C%20-84.38155400000002%5D%2C%20%5B43.60941%2C%20-122.05798%5D%2C%20%5B37.916283%2C%20-122.09996%5D%2C%20%5B38.66086%2C%20-121.35007%5D%2C%20%5B37.349872%2C%20-121.908683%5D%2C%20%5B30.170542%2C%20-97.619642%5D%2C%20%5B44.862721%2C%20-93.129464%5D%2C%20%5B41.801001%2C%20-87.58156%5D%2C%20%5B42.579987%2C%20-73.679062%5D%2C%20%5B33.041332000000004%2C%20-80.249153%5D%2C%20%5B32.95583%2C%20-97.04031%5D%2C%20%5B32.901920000000004%2C%20-117.22388%5D%2C%20%5B37.80814%2C%20-122.367226%5D%2C%20%5B35.27656%2C%20-80.79352%5D%2C%20%5B43.04431%2C%20-122.353624%5D%2C%20%5B35.766506%2C%20-78.73536700000002%5D%2C%20%5B37.087513%2C%20-120.492348%5D%2C%20%5B37.38426%2C%20-121.97141%5D%2C%20%5B34.197773%2C%20-82.057983%5D%2C%20%5B29.690317%2C%20-95.551222%5D%2C%20%5B35.32076%2C%20-80.939%5D%2C%20%5B32.932846000000005%2C%20-96.821938%5D%2C%20%5B36.257343%2C%20-86.774666%5D%2C%20%5B37.21319%2C%20-121.72678%5D%2C%20%5B32.27353%2C%20-90.0615%5D%2C%20%5B41.654057%2C%20-70.928566%5D%2C%20%5B30.511878000000006%2C%20-87.220293%5D%2C%20%5B46.72725300000001%2C%20-122.977074%5D%2C%20%5B40.46107%2C%20-79.82399000000002%5D%2C%20%5B45.30323%2C%20-93.55202%5D%2C%20%5B32.902009%2C%20-111.51511%5D%2C%20%5B38.914986%2C%20-104.787361%5D%2C%20%5B33.696628999999994%2C%20-84.405006%5D%2C%20%5B33.77534%2C%20-78.98326999999998%5D%2C%20%5B30.436783%2C%20-91.057411%5D%2C%20%5B33.435081%2C%20-81.724358%5D%2C%20%5B33.765018%2C%20-84.493874%5D%2C%20%5B40.987408%2C%20-73.670479%5D%2C%20%5B44.860458%2C%20-93.246376%5D%2C%20%5B41.226997%2C%20-95.975845%5D%2C%20%5B33.912704%2C%20-118.180206%5D%2C%20%5B39.788952%2C%20-86.064301%5D%2C%20%5B30.315369%2C%20-81.769287%5D%2C%20%5B39.537365%2C%20-79.99202700000002%5D%2C%20%5B42.343369%2C%20-83.216522%5D%2C%20%5B29.790915%2C%20-95.544624%5D%2C%20%5B33.893211%2C%20-118.265312%5D%2C%20%5B33.791148%2C%20-117.227304%5D%2C%20%5B38.77974%2C%20-90.366525%5D%2C%20%5B43.073151%2C%20-77.51915%5D%2C%20%5B32.442894%2C%20-93.737091%5D%2C%20%5B40.1087%2C%20-75.145645%5D%2C%20%5B45.74509000000001%2C%20-93.6731%5D%2C%20%5B26.56267%2C%20-81.941711%5D%2C%20%5B33.99629%2C%20-117.92688%5D%2C%20%5B33.148216%2C%20-117.196167%5D%2C%20%5B25.77958%2C%20-80.31566%5D%2C%20%5B41.81119%2C%20-87.63034%5D%2C%20%5B36.110977%2C%20-86.745216%5D%2C%20%5B44.398354%2C%20-123.06114%5D%2C%20%5B34.209033000000005%2C%20-81.197558%5D%2C%20%5B41.390369%2C%20-73.59796899999998%5D%2C%20%5B25.917818%2C%20-80.210289%5D%2C%20%5B46.04303%2C%20-123.91343%5D%2C%20%5B39.496071%2C%20-77.567574%5D%2C%20%5B34.035095%2C%20-118.333626%5D%2C%20%5B35.26475%2C%20-80.87554300000002%5D%2C%20%5B33.904018%2C%20-80.38832099999998%5D%2C%20%5B39.891411%2C%20-84.187752%5D%2C%20%5B45.708371%2C%20-110.450545%5D%2C%20%5B36.015278%2C%20-120.924167%5D%2C%20%5B35.79996%2C%20-78.69364%5D%2C%20%5B41.825871%2C%20-71.418892%5D%2C%20%5B39.01754%2C%20-77.468231%5D%2C%20%5B38.661046%2C%20-120.936893%5D%2C%20%5B33.13134%2C%20-117.10543%5D%2C%20%5B38.387133%2C%20-122.741543%5D%2C%20%5B27.992377%2C%20-82.777067%5D%2C%20%5B32.705585%2C%20-97.062576%5D%2C%20%5B30.395290000000006%2C%20-89.38134000000002%5D%2C%20%5B44.898628%2C%20-93.200447%5D%2C%20%5B41.53082%2C%20-83.87325%5D%2C%20%5B35.462841%2C%20-97.63649%5D%2C%20%5B39.75386%2C%20-104.772263%5D%2C%20%5B42.296028%2C%20-85.663628%5D%2C%20%5B32.6343%2C%20-96.823105%5D%2C%20%5B39.906938%2C%20-75.19371%5D%2C%20%5B30.436423%2C%20-84.260737%5D%2C%20%5B33.821407%2C%20-117.875999%5D%2C%20%5B45.531381%2C%20-122.665202%5D%2C%20%5B34.062363%2C%20-81.045967%5D%2C%20%5B39.823165%2C%20-75.441797%5D%2C%20%5B44.05093400000001%2C%20-122.963272%5D%2C%20%5B34.030842%2C%20-118.19368%5D%2C%20%5B36.13147%2C%20-86.898384%5D%2C%20%5B38.58990900000001%2C%20-121.401496%5D%2C%20%5B33.962990000000005%2C%20-80.941895%5D%2C%20%5B39.34239%2C%20-80.32621999999998%5D%2C%20%5B42.634945%2C%20-71.247192%5D%2C%20%5B28.604389%2C%20-81.307419%5D%2C%20%5B33.771023%2C%20-84.390472%5D%2C%20%5B29.726540000000004%2C%20-95.46599%5D%2C%20%5B41.524683%2C%20-73.885728%5D%2C%20%5B41.26321400000001%2C%20-96.233688%5D%2C%20%5B42.190379%2C%20-88.136657%5D%2C%20%5B42.324915%2C%20-83.084076%5D%2C%20%5B42.387415%2C%20-121.374581%5D%2C%20%5B32.43832800000001%2C%20-111.016884%5D%2C%20%5B42.49415%2C%20-82.96239%5D%2C%20%5B41.203014%2C%20-73.270477%5D%2C%20%5B41.714443%2C%20-87.642914%5D%2C%20%5B39.106503%2C%20-77.183077%5D%2C%20%5B42.942844%2C%20-71.387772%5D%2C%20%5B35.173756%2C%20-80.840257%5D%2C%20%5B33.43448%2C%20-117.14209%5D%2C%20%5B33.713436%2C%20-84.231689%5D%2C%20%5B33.70985%2C%20-84.24579%5D%2C%20%5B40.24602%2C%20-76.21377%5D%2C%20%5B33.514938%2C%20-79.652473%5D%2C%20%5B40.022221%2C%20-75.276772%5D%2C%20%5B40.78353900000001%2C%20-73.200439%5D%2C%20%5B47.95352000000001%2C%20-122.19924%5D%2C%20%5B34.284941%2C%20-118.40405%5D%2C%20%5B33.465467%2C%20-111.822418%5D%2C%20%5B25.928291%2C%20-80.212378%5D%2C%20%5B43.046169%2C%20-83.693855%5D%2C%20%5B26.136631%2C%20-80.16950200000002%5D%2C%20%5B33.719494%2C%20-117.795211%5D%2C%20%5B33.807140000000004%2C%20-118.207031%5D%2C%20%5B33.929466%2C%20-118.25428%5D%2C%20%5B29.735691%2C%20-95.34742%5D%2C%20%5B33.873376%2C%20-118.266002%5D%2C%20%5B26.479851%2C%20-81.792794%5D%2C%20%5B32.667973%2C%20-97.223366%5D%2C%20%5B40.584591%2C%20-73.960121%5D%2C%20%5B40.74643%2C%20-111.94905%5D%2C%20%5B32.898687%2C%20-96.715024%5D%2C%20%5B39.67305%2C%20-77.032045%5D%2C%20%5B29.808257%2C%20-81.370837%5D%2C%20%5B44.092222%2C%20-123.04555%5D%2C%20%5B37.93244%2C%20-122.402915%5D%2C%20%5B37.421535%2C%20-121.93466200000002%5D%2C%20%5B33.873484000000005%2C%20-118.010288%5D%2C%20%5B33.960128999999995%2C%20-118.281105%5D%2C%20%5B34.07198%2C%20-117.8813%5D%2C%20%5B34.030419%2C%20-117.616142%5D%2C%20%5B25.92554%2C%20-80.2649%5D%2C%20%5B33.900794%2C%20-118.370557%5D%2C%20%5B26.783504%2C%20-80.09903%5D%2C%20%5B40.84454%2C%20-73.90265699999998%5D%2C%20%5B43.04467%2C%20-83.698921%5D%2C%20%5B47.197327%2C%20-122.207062%5D%2C%20%5B33.76017%2C%20-84.37928000000002%5D%2C%20%5B26.289824%2C%20-80.123765%5D%2C%20%5B33.69897%2C%20-84.26148%5D%2C%20%5B37.78742%2C%20-122.2481%5D%2C%20%5B35.249222%2C%20-80.769409%5D%2C%20%5B41.57923%2C%20-73.90919%5D%2C%20%5B29.86175%2C%20-95.52936%5D%2C%20%5B33.90399%2C%20-84.47506700000002%5D%2C%20%5B34.275122%2C%20-119.287308%5D%2C%20%5B37.595181%2C%20-122.058281%5D%2C%20%5B44.95158%2C%20-93.01512%5D%2C%20%5B33.714%2C%20-84.37369%5D%2C%20%5B29.806648%2C%20-95.373119%5D%2C%20%5B33.77533%2C%20-118.122597%5D%2C%20%5B36.254272%2C%20-120.249987%5D%2C%20%5B34.11901%2C%20-83.75802%5D%2C%20%5B33.625278%2C%20-112.133667%5D%2C%20%5B33.988138%2C%20-118.360642%5D%2C%20%5B41.427238%2C%20-87.759468%5D%2C%20%5B40.74297%2C%20-73.814316%5D%2C%20%5B30.50226%2C%20-87.266068%5D%2C%20%5B41.234093%2C%20-96.11953%5D%2C%20%5B35.162521000000005%2C%20-80.969818%5D%2C%20%5B34.15201%2C%20-118.13968%5D%2C%20%5B25.899784%2C%20-80.209885%5D%2C%20%5B34.664288%2C%20-118.324402%5D%2C%20%5B40.515965%2C%20-76.111641%5D%2C%20%5B37.847645%2C%20-121.186333%5D%2C%20%5B33.941959999999995%2C%20-117.55576%5D%2C%20%5B41.31992%2C%20-73.979889%5D%2C%20%5B37.416167%2C%20-119.730762%5D%2C%20%5B35.81890900000001%2C%20-78.59590899999998%5D%2C%20%5B44.988056%2C%20-93.236961%5D%2C%20%5B43.00404%2C%20-83.753036%5D%2C%20%5B40.050148%2C%20-76.25595899999998%5D%2C%20%5B37.989634%2C%20-122.134983%5D%2C%20%5B40.347412%2C%20-76.908997%5D%2C%20%5B36.854143%2C%20-119.948908%5D%2C%20%5B44.953888%2C%20-93.072578%5D%2C%20%5B34.47305%2C%20-117.344257%5D%2C%20%5B32.90287%2C%20-96.72197%5D%2C%20%5B44.92844%2C%20-93.0226%5D%2C%20%5B25.888454%2C%20-80.18638299999998%5D%2C%20%5B38.67857%2C%20-121.262207%5D%2C%20%5B41.809002%2C%20-88.008224%5D%2C%20%5B32.82996%2C%20-117.137291%5D%2C%20%5B39.214349%2C%20-120.088384%5D%2C%20%5B34.95435%2C%20-110.31545%5D%2C%20%5B43.777996%2C%20-118.357354%5D%2C%20%5B30.29006%2C%20-97.790672%5D%2C%20%5B35.20837%2C%20-80.83965%5D%2C%20%5B34.291688%2C%20-119.152683%5D%2C%20%5B25.942655%2C%20-80.204303%5D%2C%20%5B45.29641%2C%20-93.00262%5D%2C%20%5B39.84041%2C%20-82.90914000000002%5D%2C%20%5B47.72111%2C%20-122.32447%5D%2C%20%5B44.9649%2C%20-93.28739%5D%2C%20%5B42.51822%2C%20-71.51133%5D%2C%20%5B29.496813%2C%20-82.295311%5D%2C%20%5B34.103062%2C%20-117.863808%5D%2C%20%5B35.154672%2C%20-80.731098%5D%2C%20%5B39.076547%2C%20-77.080839%5D%2C%20%5B34.919655%2C%20-81.99641%5D%2C%20%5B35.82180800000001%2C%20-78.569862%5D%2C%20%5B34.06453%2C%20-118.00345%5D%2C%20%5B35.787811%2C%20-78.587753%5D%2C%20%5B33.79365%2C%20-84.89374000000002%5D%2C%20%5B30.533555%2C%20-87.285097%5D%2C%20%5B34.16907%2C%20-118.59438%5D%2C%20%5B26.616631%2C%20-80.064972%5D%2C%20%5B37.56034%2C%20-122.0349%5D%2C%20%5B39.979351%2C%20-82.983917%5D%2C%20%5B34.224940000000004%2C%20-118.47327%5D%2C%20%5B27.105946000000007%2C%20-82.297997%5D%2C%20%5B40.161499%2C%20-75.48326899999998%5D%2C%20%5B39.746555%2C%20-105.001137%5D%2C%20%5B33.493958%2C%20-112.264069%5D%2C%20%5B25.911278%2C%20-80.210213%5D%2C%20%5B34.030054%2C%20-117.703045%5D%2C%20%5B35.71011%2C%20-78.837967%5D%2C%20%5B30.306566%2C%20-81.878304%5D%2C%20%5B30.534232%2C%20-87.31500799999998%5D%2C%20%5B39.82693%2C%20-86.032658%5D%2C%20%5B35.150787%2C%20-80.836899%5D%2C%20%5B42.416573%2C%20-71.129425%5D%2C%20%5B34.029416999999995%2C%20-118.154537%5D%2C%20%5B30.806487%2C%20-85.300297%5D%2C%20%5B43.181908%2C%20-77.43073299999998%5D%2C%20%5B25.934813%2C%20-80.29355600000002%5D%2C%20%5B39.80973400000001%2C%20-86.083488%5D%2C%20%5B41.574164%2C%20-74.085134%5D%2C%20%5B26.70853%2C%20-80.05365%5D%2C%20%5B39.66116%2C%20-123.476891%5D%2C%20%5B37.532001%2C%20-122.006493%5D%2C%20%5B33.974731%2C%20-118.230293%5D%2C%20%5B41.579205%2C%20-73.909103%5D%2C%20%5B44.07153%2C%20-70.18061999999999%5D%2C%20%5B42.50931%2C%20-83.11514%5D%2C%20%5B33.46216%2C%20-117.6622%5D%2C%20%5B35.82542%2C%20-78.62152900000002%5D%2C%20%5B37.69813%2C%20-121.94081%5D%2C%20%5B45.181931%2C%20-93.315414%5D%2C%20%5B38.422248%2C%20-105.056225%5D%2C%20%5B41.81413%2C%20-71.3671%5D%2C%20%5B36.76346%2C%20-80.72951%5D%2C%20%5B34.233174%2C%20-117.420194%5D%2C%20%5B41.21033%2C%20-111.97921%5D%2C%20%5B40.126289%2C%20-86.481796%5D%2C%20%5B41.74979%2C%20-88.06395%5D%2C%20%5B25.689389%2C%20-80.382675%5D%2C%20%5B34.936691%2C%20-81.99078399999998%5D%2C%20%5B33.912402%2C%20-84.383765%5D%2C%20%5B32.790867%2C%20-96.755981%5D%2C%20%5B40.068172%2C%20-76.30154399999998%5D%2C%20%5B32.738171%2C%20-97.451782%5D%2C%20%5B25.699356%2C%20-80.430475%5D%2C%20%5B43.036385%2C%20-83.524849%5D%2C%20%5B43.038219%2C%20-87.921677%5D%2C%20%5B28.31896%2C%20-81.39129%5D%2C%20%5B34.027603000000006%2C%20-84.051186%5D%2C%20%5B43.063988%2C%20-87.920609%5D%2C%20%5B40.279816%2C%20-75.394859%5D%2C%20%5B40.254362%2C%20-76.86477%5D%2C%20%5B33.442898%2C%20-117.628304%5D%2C%20%5B41.860611%2C%20-87.994087%5D%2C%20%5B34.287292%2C%20-118.406574%5D%2C%20%5B25.558795%2C%20-80.388868%5D%2C%20%5B34.050218%2C%20-117.303688%5D%2C%20%5B32.924448%2C%20-96.780334%5D%2C%20%5B26.011093%2C%20-80.166809%5D%2C%20%5B44.93033%2C%20-93.34991%5D%2C%20%5B26.07641%2C%20-80.16853%5D%2C%20%5B37.671041%2C%20-122.126276%5D%2C%20%5B45.74488%2C%20-119.10038%5D%2C%20%5B29.891727000000003%2C%20-95.411999%5D%2C%20%5B33.748728%2C%20-117.45276%5D%2C%20%5B42.60707%2C%20-83.2098%5D%2C%20%5B39.29188900000001%2C%20-76.553818%5D%2C%20%5B33.926864%2C%20-118.254222%5D%2C%20%5B28.417107%2C%20-81.392128%5D%2C%20%5B43.093971%2C%20-76.162849%5D%2C%20%5B41.84616%2C%20-87.63818%5D%2C%20%5B40.8006%2C%20-111.44298%5D%2C%20%5B25.700394%2C%20-80.39850899999998%5D%2C%20%5B26.676592%2C%20-80.069519%5D%2C%20%5B37.39661%2C%20-78.3718%5D%2C%20%5B42.958908%2C%20-85.67147800000002%5D%2C%20%5B41.538086%2C%20-90.676773%5D%2C%20%5B38.47833%2C%20-121.42725%5D%2C%20%5B30.195971000000004%2C%20-92.075233%5D%2C%20%5B41.593426%2C%20-93.715424%5D%2C%20%5B40.893679%2C%20-74.131964%5D%2C%20%5B33.750366%2C%20-117.189434%5D%2C%20%5B29.416044%2C%20-98.487541%5D%2C%20%5B34.387604%2C%20-119.3013%5D%2C%20%5B41.782398%2C%20-70.543541%5D%2C%20%5B32.853527%2C%20-117.181953%5D%2C%20%5B30.169262%2C%20-97.795792%5D%2C%20%5B42.264069%2C%20-89.029045%5D%2C%20%5B37.727306%2C%20-122.402786%5D%2C%20%5B38.651062%2C%20-121.530724%5D%2C%20%5B37.54887%2C%20-122.2918%5D%2C%20%5B35.154453000000004%2C%20-80.79496800000003%5D%2C%20%5B35.564218%2C%20-120.583237%5D%2C%20%5B38.838371%2C%20-77.431733%5D%2C%20%5B33.789863000000004%2C%20-118.219226%5D%2C%20%5B42.480759%2C%20-88.21875%5D%2C%20%5B42.058395%2C%20-88.315392%5D%2C%20%5B32.661331%2C%20-96.72718%5D%2C%20%5B33.92561%2C%20-118.321381%5D%2C%20%5B37.646002%2C%20-121.414276%5D%2C%20%5B33.46177%2C%20-86.94338%5D%2C%20%5B39.945732%2C%20-76.829178%5D%2C%20%5B38.627098%2C%20-121.092506%5D%2C%20%5B28.450341%2C%20-81.400935%5D%2C%20%5B37.689884%2C%20-122.136642%5D%2C%20%5B39.13519%2C%20-84.50103%5D%2C%20%5B35.123416%2C%20-85.237714%5D%2C%20%5B28.45164%2C%20-81.16695%5D%2C%20%5B44.882626%2C%20-93.16127%5D%2C%20%5B41.295906%2C%20-73.933449%5D%2C%20%5B40.10954%2C%20-75.29485%5D%2C%20%5B40.43573%2C%20-111.89536%5D%2C%20%5B45.536345%2C%20-122.694958%5D%2C%20%5B41.371635%2C%20-75.683929%5D%2C%20%5B40.713806%2C%20-111.483724%5D%2C%20%5B38.688465%2C%20-122.013519%5D%2C%20%5B37.884987%2C%20-122.077705%5D%2C%20%5B34.924039%2C%20-82.309414%5D%2C%20%5B40.13709%2C%20-75.211125%5D%2C%20%5B48.60157%2C%20-122.23277%5D%2C%20%5B28.552509000000004%2C%20-81.447525%5D%2C%20%5B34.165503%2C%20-118.492347%5D%2C%20%5B45.33396%2C%20-92.9218%5D%2C%20%5B38.751435%2C%20-121.478022%5D%2C%20%5B35.792374%2C%20-78.745468%5D%2C%20%5B38.647424%2C%20-77.30805500000002%5D%2C%20%5B36.795216%2C%20-119.74614%5D%2C%20%5B41.962448%2C%20-88.18519599999998%5D%2C%20%5B45.83579%2C%20-95.33055%5D%2C%20%5B43.098873%2C%20-83.694176%5D%2C%20%5B30.312105%2C%20-97.715378%5D%2C%20%5B35.327643%2C%20-80.947908%5D%2C%20%5B39.652843%2C%20-111.649416%5D%2C%20%5B37.33312%2C%20-121.93802%5D%2C%20%5B35.318218%2C%20-80.709312%5D%2C%20%5B33.954762%2C%20-117.305031%5D%2C%20%5B39.867674%2C%20-75.34348299999998%5D%2C%20%5B37.364271%2C%20-121.843933%5D%2C%20%5B42.313648%2C%20-83.09108%5D%2C%20%5B33.13918%2C%20-117.18029%5D%2C%20%5B29.585651%2C%20-95.386543%5D%2C%20%5B37.634182%2C%20-77.573112%5D%2C%20%5B33.945049%2C%20-81.168594%5D%2C%20%5B41.490391%2C%20-81.667397%5D%2C%20%5B39.273467%2C%20-120.713725%5D%2C%20%5B32.56568%2C%20-111.3168%5D%2C%20%5B31.356817%2C%20-89.346329%5D%2C%20%5B38.000947%2C%20-122.037852%5D%2C%20%5B37.465072%2C%20-120.827381%5D%2C%20%5B42.381996%2C%20-83.182419%5D%2C%20%5B38.434623%2C%20-120.83066399999998%5D%2C%20%5B41.71344000000001%2C%20-71.118034%5D%2C%20%5B35.536861%2C%20-97.512016%5D%2C%20%5B34.578945000000004%2C%20-82.693626%5D%2C%20%5B40.25941%2C%20-75.47075%5D%2C%20%5B47.65678%2C%20-122.32231000000002%5D%2C%20%5B34.034126%2C%20-118.027214%5D%2C%20%5B44.972275%2C%20-93.20239%5D%2C%20%5B33.974655%2C%20-118.280991%5D%2C%20%5B40.886274%2C%20-74.131997%5D%2C%20%5B41.474861%2C%20-81.72068%5D%2C%20%5B38.703545%2C%20-121.337875%5D%2C%20%5B45.613864%2C%20-123.943721%5D%2C%20%5B33.05677%2C%20-117.07129%5D%2C%20%5B35.984238%2C%20-119.963188%5D%2C%20%5B38.478207%2C%20-121.426865%5D%2C%20%5B45.49905%2C%20-122.917412%5D%2C%20%5B29.659445%2C%20-82.40235899999998%5D%2C%20%5B46.261059%2C%20-94.111877%5D%2C%20%5B33.824078%2C%20-84.356255%5D%2C%20%5B33.32066%2C%20-111.84161%5D%2C%20%5B42.306011%2C%20-71.05879200000003%5D%2C%20%5B43.4227%2C%20-88.39582%5D%2C%20%5B37.401337%2C%20-77.424767%5D%2C%20%5B33.744976%2C%20-84.390343%5D%2C%20%5B36.976343%2C%20-121.907097%5D%2C%20%5B29.73151%2C%20-95.484222%5D%2C%20%5B47.377979%2C%20-122.244316%5D%2C%20%5B40.05228%2C%20-76.360435%5D%2C%20%5B34.267301%2C%20-118.634967%5D%2C%20%5B36.759136%2C%20-76.274635%5D%2C%20%5B40.855999%2C%20-73.917793%5D%2C%20%5B42.153225%2C%20-87.914146%5D%2C%20%5B40.71036%2C%20-112.02491%5D%2C%20%5B34.216942%2C%20-80.70008100000003%5D%2C%20%5B40.68668%2C%20-73.71534%5D%2C%20%5B41.239269%2C%20-95.95192%5D%2C%20%5B44.858524%2C%20-93.145752%5D%2C%20%5B40.398445%2C%20-75.49688%5D%2C%20%5B37.772948%2C%20-122.40655%5D%2C%20%5B35.608528%2C%20-97.5494%5D%2C%20%5B41.768383%2C%20-87.925873%5D%2C%20%5B41.82147%2C%20-87.72892%5D%2C%20%5B33.359332%2C%20-117.248373%5D%2C%20%5B41.80517%2C%20-72.81755%5D%2C%20%5B39.016882%2C%20-122.91286200000002%5D%2C%20%5B37.546719%2C%20-122.022758%5D%2C%20%5B32.852654%2C%20-117.23291%5D%2C%20%5B39.556521%2C%20-104.778751%5D%2C%20%5B38.568432%2C%20-121.510963%5D%2C%20%5B39.415333%2C%20-121.653809%5D%2C%20%5B28.602572%2C%20-81.417843%5D%2C%20%5B39.332802%2C%20-77.688622%5D%2C%20%5B26.0841%2C%20-80.19298%5D%2C%20%5B34.065095%2C%20-117.305821%5D%2C%20%5B34.221383%2C%20-118.475858%5D%2C%20%5B34.308370000000004%2C%20-117.470548%5D%2C%20%5B34.171249%2C%20-118.518524%5D%2C%20%5B40.23709%2C%20-74.80236%5D%2C%20%5B32.89764%2C%20-96.693939%5D%2C%20%5B27.38133%2C%20-82.55663%5D%2C%20%5B33.9321%2C%20-118.09066%5D%2C%20%5B34.5092%2C%20-118.11113%5D%2C%20%5B40.84395%2C%20-73.89755%5D%2C%20%5B38.712349%2C%20-76.85390500000003%5D%2C%20%5B25.733099%2C%20-80.335831%5D%2C%20%5B32.980511%2C%20-97.0205%5D%2C%20%5B43.030338%2C%20-83.65639499999997%5D%2C%20%5B26.509303000000006%2C%20-80.073778%5D%2C%20%5B43.149681%2C%20-77.599152%5D%2C%20%5B25.869846%2C%20-80.343828%5D%2C%20%5B45.17269%2C%20-122.42781%5D%2C%20%5B35.37688400000001%2C%20-120.854299%5D%2C%20%5B33.99406%2C%20-117.90088%5D%2C%20%5B41.76169%2C%20-87.62589%5D%2C%20%5B39.44210800000001%2C%20-76.348763%5D%2C%20%5B37.293579%2C%20-80.099915%5D%2C%20%5B28.010769%2C%20-82.453926%5D%2C%20%5B33.731602%2C%20-78.94720500000003%5D%2C%20%5B28.557034%2C%20-81.31079100000002%5D%2C%20%5B29.784399%2C%20-95.579231%5D%2C%20%5B38.88757%2C%20-77.02795%5D%2C%20%5B41.664136%2C%20-91.355727%5D%2C%20%5B43.14127%2C%20-76.11179399999997%5D%2C%20%5B30.387428000000003%2C%20-91.174644%5D%2C%20%5B34.087414%2C%20-117.666641%5D%2C%20%5B26.3082%2C%20-80.11865999999998%5D%2C%20%5B42.88459%2C%20-83.608429%5D%2C%20%5B43.0025%2C%20-85.67600999999998%5D%2C%20%5B37.689489%2C%20-122.103992%5D%2C%20%5B34.807152%2C%20-82.192261%5D%2C%20%5B34.026855%2C%20-117.119331%5D%2C%20%5B40.71045%2C%20-104.7822%5D%2C%20%5B29.57917%2C%20-98.31719%5D%2C%20%5B29.846331%2C%20-95.38446%5D%2C%20%5B27.935179%2C%20-82.787483%5D%2C%20%5B42.150311%2C%20-71.008362%5D%2C%20%5B40.73619%2C%20-73.28725%5D%2C%20%5B32.719193%2C%20-117.099564%5D%2C%20%5B43.186255%2C%20-77.630809%5D%2C%20%5B27.941271%2C%20-82.329247%5D%2C%20%5B33.271183%2C%20-80.569389%5D%2C%20%5B38.857632%2C%20-76.95461999999998%5D%2C%20%5B40.85379%2C%20-73.963825%5D%2C%20%5B38.793615%2C%20-77.153774%5D%2C%20%5B41.0797%2C%20-75.96557%5D%2C%20%5B33.870213%2C%20-117.703827%5D%2C%20%5B33.74136%2C%20-84.41402%5D%2C%20%5B37.560407%2C%20-121.909216%5D%2C%20%5B28.825477000000006%2C%20-81.68543000000003%5D%2C%20%5B38.260177%2C%20-120.742868%5D%2C%20%5B27.970869%2C%20-82.453583%5D%2C%20%5B38.524895%2C%20-121.467789%5D%2C%20%5B30.47407%2C%20-90.75159%5D%2C%20%5B43.164636%2C%20-77.625161%5D%2C%20%5B33.872741999999995%2C%20-118.008942%5D%2C%20%5B39.696774%2C%20-105.111938%5D%2C%20%5B37.808498%2C%20-122.366852%5D%2C%20%5B33.949703%2C%20-118.170532%5D%2C%20%5B38.946313%2C%20-77.202308%5D%2C%20%5B30.167116%2C%20-97.785866%5D%2C%20%5B41.649544%2C%20-72.672073%5D%2C%20%5B28.337734%2C%20-81.397087%5D%2C%20%5B29.91695%2C%20-95.41245%5D%2C%20%5B30.418287%2C%20-97.700874%5D%2C%20%5B39.495029%2C%20-76.330727%5D%2C%20%5B38.198604%2C%20-121.867695%5D%2C%20%5B33.036136%2C%20-117.283887%5D%2C%20%5B30.521199%2C%20-91.161258%5D%2C%20%5B32.17549%2C%20-110.9108%5D%2C%20%5B38.89565%2C%20-76.84865%5D%2C%20%5B29.648228000000003%2C%20-95.500481%5D%2C%20%5B43.13879%2C%20-77.69096400000002%5D%2C%20%5B41.118748%2C%20-74.15974399999998%5D%2C%20%5B39.921577%2C%20-104.853035%5D%2C%20%5B25.76088%2C%20-80.418865%5D%2C%20%5B34.508514%2C%20-120.22612%5D%2C%20%5B43.035213%2C%20-89.422752%5D%2C%20%5B34.003944%2C%20-118.280975%5D%2C%20%5B40.75776%2C%20-73.99685%5D%2C%20%5B43.158409000000006%2C%20-77.61541700000002%5D%2C%20%5B25.856387%2C%20-80.234022%5D%2C%20%5B33.422816999999995%2C%20-112.239334%5D%2C%20%5B41.34721%2C%20-73.650063%5D%2C%20%5B45.485271%2C%20-122.878998%5D%2C%20%5B47.4297%2C%20-122.27321%5D%2C%20%5B34.866161%2C%20-82.448257%5D%2C%20%5B44.97052%2C%20-93.30868%5D%2C%20%5B39.178608%2C%20-77.611488%5D%2C%20%5B41.8477%2C%20-87.91892%5D%2C%20%5B26.718931%2C%20-80.08979000000002%5D%2C%20%5B40.13554%2C%20-76.50853000000002%5D%2C%20%5B39.952503%2C%20-75.117149%5D%2C%20%5B30.00495%2C%20-90.18564%5D%2C%20%5B38.00935%2C%20-78.48236999999997%5D%2C%20%5B42.914703%2C%20-83.72618100000003%5D%2C%20%5B28.472721000000003%2C%20-81.384148%5D%2C%20%5B34.23911%2C%20-117.85131%5D%2C%20%5B38.311075%2C%20-121.321283%5D%2C%20%5B30.200171%2C%20-92.055031%5D%2C%20%5B30.430973%2C%20-91.091331%5D%2C%20%5B47.4907%2C%20-122.19191%5D%2C%20%5B34.852402000000005%2C%20-81.412834%5D%2C%20%5B42.36129%2C%20-71.59581999999997%5D%2C%20%5B42.46265%2C%20-82.9225%5D%2C%20%5B31.78982%2C%20-106.334419%5D%2C%20%5B39.001443%2C%20-76.136377%5D%2C%20%5B37.647678000000006%2C%20-122.09578700000002%5D%2C%20%5B39.162901%2C%20-94.495559%5D%2C%20%5B38.07967%2C%20-88.913979%5D%2C%20%5B41.058632%2C%20-73.829926%5D%2C%20%5B34.159672%2C%20-118.466148%5D%2C%20%5B37.493602%2C%20-121.94956100000002%5D%2C%20%5B39.78265800000001%2C%20-86.143204%5D%2C%20%5B44.864548%2C%20-123.229104%5D%2C%20%5B30.202999%2C%20-92.014221%5D%2C%20%5B47.28996%2C%20-122.30081%5D%2C%20%5B34.181568%2C%20-118.88748%5D%2C%20%5B37.307034%2C%20-121.820658%5D%2C%20%5B33.460972%2C%20-112.079918%5D%2C%20%5B35.24851%2C%20-80.81620699999998%5D%2C%20%5B32.798333%2C%20-97.44061%5D%2C%20%5B41.257988%2C%20-96.023888%5D%2C%20%5B30.398845%2C%20-81.560928%5D%2C%20%5B32.76428%2C%20-96.62094%5D%2C%20%5B43.96507%2C%20-94.16905%5D%2C%20%5B37.32509%2C%20-121.88677%5D%2C%20%5B29.700169%2C%20-95.379936%5D%2C%20%5B34.15503%2C%20-118.28898%5D%2C%20%5B38.369671%2C%20-121.957892%5D%2C%20%5B30.402534000000006%2C%20-97.85463%5D%2C%20%5B40.717342%2C%20-74.33042900000002%5D%2C%20%5B29.466631%2C%20-98.646988%5D%2C%20%5B39.905056%2C%20-86.045967%5D%2C%20%5B28.995163%2C%20-95.383558%5D%2C%20%5B41.98509%2C%20-87.66243%5D%2C%20%5B37.91952%2C%20-122.33209%5D%2C%20%5B40.87128%2C%20-111.89067%5D%2C%20%5B37.08605%2C%20-121.59806%5D%2C%20%5B41.598831%2C%20-93.497147%5D%2C%20%5B32.870022%2C%20-96.762871%5D%2C%20%5B34.037039%2C%20-118.291557%5D%2C%20%5B38.538952%2C%20-121.736778%5D%2C%20%5B36.118973%2C%20-95.888725%5D%2C%20%5B40.3378%2C%20-79.80906%5D%2C%20%5B47.668598%2C%20-122.109245%5D%2C%20%5B32.879173%2C%20-96.89772%5D%2C%20%5B38.461014%2C%20-121.412674%5D%2C%20%5B47.675495%2C%20-117.363693%5D%2C%20%5B33.814438%2C%20-117.832169%5D%2C%20%5B40.37662%2C%20-111.29506%5D%2C%20%5B30.248775%2C%20-82.22234300000002%5D%2C%20%5B33.924877%2C%20-118.104156%5D%2C%20%5B45.45062100000001%2C%20-122.571812%5D%2C%20%5B41.930374%2C%20-88.140121%5D%2C%20%5B29.680609000000004%2C%20-95.458%5D%2C%20%5B41.171093%2C%20-112.019554%5D%2C%20%5B33.86329%2C%20-84.43791999999998%5D%2C%20%5B30.39008%2C%20-81.66781%5D%2C%20%5B26.934624%2C%20-80.150359%5D%2C%20%5B36.60527%2C%20-119.786034%5D%2C%20%5B35.81549099999999%2C%20-78.705238%5D%2C%20%5B25.94243%2C%20-80.305887%5D%2C%20%5B38.670458%2C%20-121.206767%5D%2C%20%5B33.01044%2C%20-117.264528%5D%2C%20%5B35.121616%2C%20-89.799797%5D%2C%20%5B39.564534%2C%20-77.616393%5D%2C%20%5B34.36831%2C%20-118.50193%5D%2C%20%5B25.87242%2C%20-80.20888000000002%5D%2C%20%5B42.319252%2C%20-71.20431500000002%5D%2C%20%5B33.786594%2C%20-84.38314100000002%5D%2C%20%5B39.867451%2C%20-75.343452%5D%2C%20%5B29.757081%2C%20-95.352112%5D%2C%20%5B44.966118%2C%20-93.26992%5D%2C%20%5B33.995176%2C%20-117.361739%5D%2C%20%5B36.082785%2C%20-86.628697%5D%2C%20%5B38.101738%2C%20-121.178398%5D%2C%20%5B38.958004%2C%20-77.274742%5D%2C%20%5B35.406216%2C%20-97.530167%5D%2C%20%5B43.214469%2C%20-77.731811%5D%2C%20%5B35.113820000000004%2C%20-85.26007%5D%2C%20%5B45.12997100000001%2C%20-93.376572%5D%2C%20%5B32.47095%2C%20-83.74303%5D%2C%20%5B41.68675%2C%20-87.6011%5D%2C%20%5B38.909874%2C%20-77.001926%5D%2C%20%5B38.148428%2C%20-122.452997%5D%2C%20%5B30.236666%2C%20-97.686371%5D%2C%20%5B43.161819%2C%20-83.912811%5D%2C%20%5B33.92522%2C%20-118.21113%5D%2C%20%5B45.34814%2C%20-121.96327%5D%2C%20%5B33.367721%2C%20-80.155902%5D%2C%20%5B42.06121%2C%20-87.86792%5D%2C%20%5B43.329784%2C%20-73.683685%5D%2C%20%5B25.734836%2C%20-80.35173%5D%2C%20%5B38.01955%2C%20-84.403572%5D%2C%20%5B35.12925%2C%20-80.939217%5D%2C%20%5B39.31842%2C%20-76.65245%5D%2C%20%5B36.604422%2C%20-119.484375%5D%2C%20%5B45.02201%2C%20-93.40088%5D%2C%20%5B39.94888%2C%20-75.18549%5D%2C%20%5B45.121864%2C%20-93.049438%5D%2C%20%5B29.73185%2C%20-95.391052%5D%2C%20%5B28.902985%2C%20-82.105194%5D%2C%20%5B38.063717%2C%20-122.225385%5D%2C%20%5B45.371437%2C%20-122.375301%5D%2C%20%5B33.888962%2C%20-117.069443%5D%2C%20%5B44.927483%2C%20-93.069977%5D%2C%20%5B32.872513%2C%20-97.316933%5D%2C%20%5B37.32164%2C%20-121.89919%5D%2C%20%5B29.35663%2C%20-98.534142%5D%2C%20%5B30.280241%2C%20-97.71862%5D%2C%20%5B35.000233%2C%20-111.737358%5D%2C%20%5B32.481411%2C%20-93.746048%5D%2C%20%5B28.583728000000004%2C%20-81.20783%5D%2C%20%5B36.837955%2C%20-76.158119%5D%2C%20%5B34.021149%2C%20-118.477538%5D%2C%20%5B35.81707%2C%20-78.600166%5D%2C%20%5B25.621136%2C%20-80.378648%5D%2C%20%5B40.144054%2C%20-75.464607%5D%2C%20%5B45.118049%2C%20-117.96098%5D%2C%20%5B25.75594%2C%20-80.32023000000002%5D%2C%20%5B47.5017%2C%20-122.19629%5D%2C%20%5B32.71373%2C%20-117.12979%5D%2C%20%5B38.766762%2C%20-90.843384%5D%2C%20%5B33.7976%2C%20-78.799873%5D%2C%20%5B35.026649%2C%20-81.87645%5D%2C%20%5B33.910999%2C%20-118.169823%5D%2C%20%5B42.19039%2C%20-88.13545%5D%2C%20%5B36.760371%2C%20-76.27205699999998%5D%2C%20%5B37.522743%2C%20-77.27121700000002%5D%2C%20%5B41.863857%2C%20-78.002185%5D%2C%20%5B33.41153%2C%20-112.169182%5D%2C%20%5B39.68026%2C%20-86.09676400000002%5D%2C%20%5B30.41803%2C%20-91.112373%5D%2C%20%5B40.048912%2C%20-74.208191%5D%2C%20%5B44.7888%2C%20-95.3722%5D%2C%20%5B34.012501%2C%20-117.964211%5D%2C%20%5B40.07946%2C%20-75.33161199999998%5D%2C%20%5B41.00266%2C%20-111.927326%5D%2C%20%5B32.176552%2C%20-109.94957%5D%2C%20%5B37.465%2C%20-119.886513%5D%2C%20%5B34.06589%2C%20-117.48289%5D%2C%20%5B35.078309999999995%2C%20-90.05318%5D%2C%20%5B38.701332%2C%20-76.875976%5D%2C%20%5B25.92676%2C%20-80.236012%5D%2C%20%5B45.98755%2C%20-118.38735%5D%2C%20%5B37.506123%2C%20-77.58219100000002%5D%2C%20%5B39.644741%2C%20-75.209648%5D%2C%20%5B38.940601%2C%20-94.582642%5D%2C%20%5B27.846597%2C%20-82.346917%5D%2C%20%5B47.516869%2C%20-122.270042%5D%2C%20%5B32.64878%2C%20-97.34838%5D%2C%20%5B33.346985%2C%20-117.158836%5D%2C%20%5B33.90503%2C%20-118.18407%5D%2C%20%5B25.939589%2C%20-80.28575699999998%5D%2C%20%5B38.064037%2C%20-122.535591%5D%2C%20%5B40.229029%2C%20-85.558717%5D%2C%20%5B39.754051%2C%20-84.138901%5D%2C%20%5B43.38911%2C%20-121.22044%5D%2C%20%5B25.95802%2C%20-80.17108%5D%2C%20%5B33.86351%2C%20-118.32265%5D%2C%20%5B33.960003%2C%20-118.300247%5D%2C%20%5B40.037743%2C%20-76.294762%5D%2C%20%5B45.30658%2C%20-123.17892%5D%2C%20%5B28.81643%2C%20-81.33565%5D%2C%20%5B40.75851%2C%20-73.84947%5D%2C%20%5B43.78936%2C%20-123.06475%5D%2C%20%5B37.800396%2C%20-79.415718%5D%2C%20%5B33.282791%2C%20-111.81306399999998%5D%2C%20%5B47.653041%2C%20-122.929978%5D%2C%20%5B39.019264%2C%20-76.976738%5D%2C%20%5B39.091835%2C%20-108.5616%5D%2C%20%5B44.571442%2C%20-118.384083%5D%2C%20%5B35.478977%2C%20-97.654305%5D%2C%20%5B41.520942%2C%20-74.006612%5D%2C%20%5B37.143547%2C%20-121.984998%5D%2C%20%5B30.172884000000003%2C%20-92.029808%5D%2C%20%5B42.999928%2C%20-75.969284%5D%2C%20%5B41.507088%2C%20-74.074974%5D%2C%20%5B43.572976%2C%20-116.393777%5D%2C%20%5B33.783735%2C%20-118.091473%5D%2C%20%5B33.92791%2C%20-118.25427%5D%2C%20%5B36.09258%2C%20-86.88539%5D%2C%20%5B34.065979%2C%20-118.2164%5D%2C%20%5B33.775303%2C%20-117.848253%5D%2C%20%5B27.895478000000004%2C%20-82.347646%5D%2C%20%5B40.834332%2C%20-73.86479200000002%5D%2C%20%5B25.515402%2C%20-80.430677%5D%2C%20%5B34.489059000000005%2C%20-118.326332%5D%2C%20%5B47.97654%2C%20-122.208549%5D%2C%20%5B40.232373%2C%20-77.130278%5D%2C%20%5B31.5024%2C%20-83.515209%5D%2C%20%5B34.447659%2C%20-81.87307%5D%2C%20%5B34.025366%2C%20-118.23866%5D%2C%20%5B33.30529%2C%20-111.956459%5D%2C%20%5B28.363787%2C%20-81.24453000000003%5D%2C%20%5B41.988976%2C%20-71.551888%5D%2C%20%5B32.905476%2C%20-80.02494%5D%2C%20%5B25.919863%2C%20-80.214912%5D%2C%20%5B35.23567%2C%20-80.85453000000003%5D%2C%20%5B30.191711%2C%20-81.705605%5D%2C%20%5B34.01587%2C%20-117.73971%5D%2C%20%5B33.75844%2C%20-84.34916%5D%2C%20%5B25.785637%2C%20-80.190605%5D%2C%20%5B44.976121%2C%20-93.507032%5D%2C%20%5B33.942986%2C%20-84.507362%5D%2C%20%5B35.52995%2C%20-118.65302%5D%2C%20%5B47.669491%2C%20-122.392899%5D%2C%20%5B33.906216%2C%20-84.475677%5D%2C%20%5B38.01226%2C%20-122.541898%5D%2C%20%5B33.88192%2C%20-117.603421%5D%2C%20%5B40.834049%2C%20-73.91671%5D%2C%20%5B40.66591%2C%20-73.81566%5D%2C%20%5B34.06485900000001%2C%20-118.245323%5D%2C%20%5B47.344227%2C%20-122.312431%5D%2C%20%5B35.21928%2C%20-80.84676400000002%5D%2C%20%5B37.363136%2C%20-121.891586%5D%2C%20%5B38.604985%2C%20-77.60446400000002%5D%2C%20%5B34.08262%2C%20-118.22663%5D%2C%20%5B30.074467%2C%20-95.411568%5D%2C%20%5B34.017996000000004%2C%20-117.525569%5D%2C%20%5B30.445123%2C%20-87.24866%5D%2C%20%5B29.52015%2C%20-98.39768%5D%2C%20%5B42.476501%2C%20-83.11179399999997%5D%2C%20%5B33.938469%2C%20-80.474701%5D%2C%20%5B40.000259%2C%20-104.980751%5D%2C%20%5B45.52519%2C%20-122.66533%5D%2C%20%5B40.003076%2C%20-74.850915%5D%2C%20%5B39.26881%2C%20-76.63086%5D%2C%20%5B40.06373%2C%20-75.32651%5D%2C%20%5B41.439011%2C%20-74.094444%5D%2C%20%5B36.129715%2C%20-96.007095%5D%2C%20%5B38.137561%2C%20-122.21331399999998%5D%2C%20%5B41.836582%2C%20-88.065239%5D%2C%20%5B39.748211%2C%20-104.960991%5D%2C%20%5B37.467316%2C%20-77.443138%5D%2C%20%5B44.38487%2C%20-92.82365%5D%2C%20%5B41.099754%2C%20-73.951324%5D%2C%20%5B37.84425%2C%20-122.478012%5D%2C%20%5B41.19071%2C%20-112.11272%5D%2C%20%5B33.046879%2C%20-80.10826899999998%5D%2C%20%5B35.27212%2C%20-80.793864%5D%2C%20%5B44.951722%2C%20-93.171554%5D%2C%20%5B33.01882%2C%20-117.0788%5D%2C%20%5B34.913952%2C%20-82.107651%5D%2C%20%5B45.523011%2C%20-122.66543%5D%2C%20%5B35.810112%2C%20-78.619698%5D%2C%20%5B38.258327%2C%20-122.065071%5D%2C%20%5B42.350969%2C%20-121.980849%5D%2C%20%5B30.463169%2C%20-87.26310699999998%5D%2C%20%5B29.435278000000004%2C%20-98.495544%5D%2C%20%5B36.89211%2C%20-76.23185%5D%2C%20%5B35.459301%2C%20-97.601242%5D%2C%20%5B33.833862%2C%20-117.875984%5D%2C%20%5B38.139241%2C%20-122.256191%5D%2C%20%5B33.929241999999995%2C%20-118.309128%5D%2C%20%5B32.305164000000005%2C%20-111.012146%5D%2C%20%5B34.235361%2C%20-117.179414%5D%2C%20%5B41.912895%2C%20-87.626648%5D%2C%20%5B33.504139%2C%20-86.898033%5D%2C%20%5B34.88319%2C%20-82.603172%5D%2C%20%5B40.04146400000001%2C%20-86.249094%5D%2C%20%5B37.6279%2C%20-77.57431%5D%2C%20%5B33.36377%2C%20-111.9112%5D%2C%20%5B39.2192%2C%20-76.65853100000002%5D%2C%20%5B32.851191%2C%20-83.63053599999998%5D%2C%20%5B40.641079%2C%20-74.28961%5D%2C%20%5B34.47036%2C%20-117.346375%5D%2C%20%5B30.22006%2C%20-97.836823%5D%2C%20%5B34.064621%2C%20-118.002853%5D%2C%20%5B37.826944%2C%20-122.297521%5D%2C%20%5B30.407507%2C%20-91.101532%5D%2C%20%5B47.733395%2C%20-122.325348%5D%2C%20%5B40.206816%2C%20-75.507859%5D%2C%20%5B35.53472100000001%2C%20-97.545959%5D%2C%20%5B40.35925200000001%2C%20-78.951627%5D%2C%20%5B34.152656%2C%20-118.094105%5D%2C%20%5B38.223927%2C%20-85.53904%5D%2C%20%5B28.55743%2C%20-80.80098000000002%5D%2C%20%5B29.843568%2C%20-95.262293%5D%2C%20%5B30.17091%2C%20-97.690987%5D%2C%20%5B35.789108%2C%20-78.66275%5D%2C%20%5B32.900307%2C%20-96.71769%5D%2C%20%5B37.199741%2C%20-77.426491%5D%2C%20%5B25.94559%2C%20-80.18654000000002%5D%2C%20%5B39.91217%2C%20-86.183983%5D%2C%20%5B41.840141%2C%20-72.497688%5D%2C%20%5B34.117496%2C%20-117.846329%5D%2C%20%5B37.015669%2C%20-76.386832%5D%2C%20%5B29.675342%2C%20-95.590714%5D%2C%20%5B34.072231%2C%20-117.926699%5D%2C%20%5B28.23245%2C%20-81.646339%5D%2C%20%5B43.14327%2C%20-78.88476%5D%2C%20%5B48.81749%2C%20-122.548546%5D%2C%20%5B32.870020000000004%2C%20-96.67203%5D%2C%20%5B37.51564000000001%2C%20-77.18474%5D%2C%20%5B35.76485800000001%2C%20-78.78343199999998%5D%2C%20%5B39.11351%2C%20-94.56479%5D%2C%20%5B41.9772%2C%20-87.83659%5D%2C%20%5B34.135225%2C%20-117.977525%5D%2C%20%5B35.495098%2C%20-97.706818%5D%2C%20%5B36.116094%2C%20-86.791768%5D%2C%20%5B35.409851%2C%20-80.854874%5D%2C%20%5B34.206612%2C%20-79.79879%5D%2C%20%5B39.17225%2C%20-77.2451%5D%2C%20%5B42.94851%2C%20-78.46424%5D%2C%20%5B25.78457%2C%20-80.23617%5D%2C%20%5B30.349096000000007%2C%20-97.546593%5D%2C%20%5B30.360102%2C%20-97.512154%5D%2C%20%5B38.885071%2C%20-94.791321%5D%2C%20%5B40.75533%2C%20-111.57645%5D%2C%20%5B34.681641%2C%20-82.781082%5D%2C%20%5B38.54417%2C%20-121.473984%5D%2C%20%5B36.155182%2C%20-95.98922%5D%2C%20%5B34.311811%2C%20-117.475123%5D%2C%20%5B38.150108%2C%20-120.858139%5D%2C%20%5B43.831284%2C%20-87.771294%5D%2C%20%5B35.462189%2C%20-97.618767%5D%2C%20%5B34.013748%2C%20-81.16011800000003%5D%2C%20%5B33.688572%2C%20-117.869415%5D%2C%20%5B44.702932%2C%20-93.441963%5D%2C%20%5B41.676929%2C%20-83.574799%5D%2C%20%5B29.658403000000003%2C%20-95.355522%5D%2C%20%5B42.48675%2C%20-83.11480999999998%5D%2C%20%5B47.919624%2C%20-122.206474%5D%2C%20%5B34.791302%2C%20-82.418465%5D%2C%20%5B39.08578%2C%20-94.59224%5D%2C%20%5B38.376821%2C%20-122.202354%5D%2C%20%5B37.560721%2C%20-122.035628%5D%2C%20%5B30.74996%2C%20-86.47335799999998%5D%2C%20%5B37.62863%2C%20-122.12009%5D%2C%20%5B37.801161%2C%20-121.988346%5D%2C%20%5B41.339698%2C%20-87.308938%5D%2C%20%5B34.19395%2C%20-118.39652%5D%2C%20%5B32.88628%2C%20-80.01463000000003%5D%2C%20%5B29.695606%2C%20-95.297859%5D%2C%20%5B41.35072%2C%20-72.86763%5D%2C%20%5B35.146721%2C%20-90.230118%5D%2C%20%5B39.307742%2C%20-120.136718%5D%2C%20%5B41.98331%2C%20-87.74911999999998%5D%2C%20%5B40.987305%2C%20-73.853241%5D%2C%20%5B34.164516%2C%20-118.29657%5D%2C%20%5B33.82425%2C%20-118.20668%5D%2C%20%5B42.7073%2C%20-82.77385%5D%2C%20%5B42.55228%2C%20-84.75841%5D%2C%20%5B42.418236%2C%20-83.087769%5D%2C%20%5B31.97776%2C%20-110.31195%5D%2C%20%5B28.54838%2C%20-81.41372700000002%5D%2C%20%5B45.010361%2C%20-93.166649%5D%2C%20%5B28.560968%2C%20-81.253006%5D%2C%20%5B42.97125%2C%20-85.71710999999998%5D%2C%20%5B33.823372%2C%20-84.357681%5D%2C%20%5B34.020969%2C%20-118.195267%5D%2C%20%5B35.90477%2C%20-78.79834%5D%2C%20%5B39.863651%2C%20-76.85652900000002%5D%2C%20%5B34.08724%2C%20-117.65454%5D%2C%20%5B34.065105%2C%20-80.95668%5D%2C%20%5B41.13615%2C%20-81.794632%5D%2C%20%5B47.635895%2C%20-122.370384%5D%2C%20%5B37.973152%2C%20-121.247295%5D%2C%20%5B40.16076%2C%20-104.97973%5D%2C%20%5B35.216482%2C%20-80.754766%5D%2C%20%5B31.744326%2C%20-106.33181%5D%2C%20%5B28.039721000000004%2C%20-82.709183%5D%2C%20%5B26.704096000000003%2C%20-81.889374%5D%2C%20%5B40.91463%2C%20-111.89147%5D%2C%20%5B44.9489%2C%20-92.92586%5D%2C%20%5B37.719204%2C%20-121.6604%5D%2C%20%5B29.86725%2C%20-95.564011%5D%2C%20%5B35.122082%2C%20-118.44825%5D%2C%20%5B29.718666%2C%20-95.253914%5D%2C%20%5B36.773774%2C%20-76.254758%5D%2C%20%5B44.935066%2C%20-93.397125%5D%2C%20%5B41.87128%2C%20-87.85967%5D%2C%20%5B37.998035%2C%20-76.728888%5D%2C%20%5B40.337868%2C%20-74.100838%5D%2C%20%5B33.739838%2C%20-84.328239%5D%2C%20%5B42.463036%2C%20-87.962929%5D%2C%20%5B32.305988%2C%20-95.278843%5D%2C%20%5B41.364498%2C%20-72.071281%5D%2C%20%5B34.803266%2C%20-82.233941%5D%2C%20%5B35.43521900000001%2C%20-97.654037%5D%2C%20%5B39.036949%2C%20-84.599197%5D%2C%20%5B37.65315%2C%20-121.89793%5D%2C%20%5B33.479721000000005%2C%20-112.255188%5D%2C%20%5B38.86615%2C%20-76.99168%5D%2C%20%5B38.950041%2C%20-77.125385%5D%2C%20%5B44.222041%2C%20-93.276039%5D%2C%20%5B39.55658%2C%20-76.09854%5D%2C%20%5B34.22548%2C%20-77.94481400000002%5D%2C%20%5B34.822659%2C%20-82.291275%5D%2C%20%5B34.426258000000004%2C%20-117.619263%5D%2C%20%5B38.63116%2C%20-90.35775%5D%2C%20%5B37.6909%2C%20-122.47058%5D%2C%20%5B38.14637000000001%2C%20-122.21689%5D%2C%20%5B37.775314%2C%20-122.406052%5D%2C%20%5B35.83540700000001%2C%20-78.669601%5D%2C%20%5B32.625761%2C%20-117.094363%5D%2C%20%5B47.303916%2C%20-122.264019%5D%2C%20%5B41.03622%2C%20-102.134882%5D%2C%20%5B39.998549%2C%20-75.232173%5D%2C%20%5B36.107114%2C%20-86.719797%5D%2C%20%5B37.830669%2C%20-122.293343%5D%2C%20%5B34.066727%2C%20-117.243668%5D%2C%20%5B42.78364000000001%2C%20-78.7726%5D%2C%20%5B35.85078%2C%20-78.60090600000002%5D%2C%20%5B35.609039%2C%20-97.531616%5D%2C%20%5B33.876074%2C%20-98.480576%5D%2C%20%5B25.73329%2C%20-80.31105%5D%2C%20%5B33.876503%2C%20-118.08835%5D%2C%20%5B39.317307%2C%20-104.88361100000002%5D%2C%20%5B40.66888%2C%20-73.936676%5D%2C%20%5B42.063751%2C%20-88.07938399999998%5D%2C%20%5B38.149887%2C%20-122.451236%5D%2C%20%5B40.768078%2C%20-73.904831%5D%2C%20%5B27.844787%2C%20-82.66351800000002%5D%2C%20%5B42.38921%2C%20-122.836021%5D%2C%20%5B32.978809000000005%2C%20-80.077538%5D%2C%20%5B43.133259%2C%20-77.631615%5D%2C%20%5B35.914841%2C%20-78.682335%5D%2C%20%5B38.9594%2C%20-76.86595200000002%5D%2C%20%5B37.809208%2C%20-122.195656%5D%2C%20%5B38.637265%2C%20-121.406352%5D%2C%20%5B34.028403999999995%2C%20-81.10192099999998%5D%2C%20%5B34.03441%2C%20-118.38468%5D%2C%20%5B33.936890000000005%2C%20-118.041672%5D%2C%20%5B44.83677%2C%20-123.00836%5D%2C%20%5B34.030402%2C%20-117.684254%5D%2C%20%5B33.50201%2C%20-84.22675%5D%2C%20%5B30.229944%2C%20-97.788307%5D%2C%20%5B33.861709999999995%2C%20-78.729394%5D%2C%20%5B25.829468%2C%20-80.322085%5D%2C%20%5B41.243752%2C%20-95.784569%5D%2C%20%5B38.368641%2C%20-122.712601%5D%2C%20%5B29.545853%2C%20-98.367897%5D%2C%20%5B28.468769%2C%20-81.458549%5D%2C%20%5B33.929409%2C%20-118.227921%5D%2C%20%5B35.448109%2C%20-97.583305%5D%2C%20%5B39.165863%2C%20-122.926918%5D%2C%20%5B34.03033%2C%20-117.64544%5D%2C%20%5B37.551239%2C%20-77.460289%5D%2C%20%5B33.927690000000005%2C%20-118.26762%5D%2C%20%5B33.814820000000005%2C%20-118.08156%5D%2C%20%5B42.08487%2C%20-87.75853000000002%5D%2C%20%5B32.72333%2C%20-117.15842%5D%2C%20%5B30.460022%2C%20-81.678223%5D%2C%20%5B45.531045%2C%20-122.665175%5D%2C%20%5B37.9939%2C%20-122.29763%5D%2C%20%5B35.24814%2C%20-80.84551%5D%2C%20%5B35.209824%2C%20-80.757188%5D%2C%20%5B32.962193%2C%20-96.798154%5D%2C%20%5B43.060211%2C%20-83.813179%5D%2C%20%5B38.19825%2C%20-121.06817%5D%2C%20%5B42.049099%2C%20-70.76173399999998%5D%2C%20%5B39.80929%2C%20-86.27001%5D%2C%20%5B37.32518%2C%20-121.88624%5D%2C%20%5B47.286163%2C%20-122.270996%5D%2C%20%5B35.73423%2C%20-78.333763%5D%2C%20%5B38.90058%2C%20-77.073874%5D%2C%20%5B33.078848%2C%20-117.071525%5D%2C%20%5B34.063775%2C%20-117.820334%5D%2C%20%5B37.127279%2C%20-93.27872%5D%2C%20%5B32.983707%2C%20-96.712288%5D%2C%20%5B40.741959%2C%20-73.78273%5D%2C%20%5B32.869564000000004%2C%20-117.194875%5D%2C%20%5B34.87613%2C%20-82.21546%5D%2C%20%5B37.319337%2C%20-79.42333199999999%5D%2C%20%5B33.167961%2C%20-87.525398%5D%2C%20%5B34.216307%2C%20-118.408595%5D%2C%20%5B35.42798%2C%20-97.60103%5D%2C%20%5B40.26496%2C%20-79.61431999999998%5D%2C%20%5B38.610785%2C%20-121.41526299999998%5D%2C%20%5B42.17014%2C%20-88.01897%5D%2C%20%5B39.982815%2C%20-76.694916%5D%2C%20%5B29.84848%2C%20-95.302155%5D%2C%20%5B36.44661%2C%20-119.485139%5D%2C%20%5B40.773563%2C%20-74.034622%5D%2C%20%5B35.19323%2C%20-89.79611%5D%2C%20%5B33.214009999999995%2C%20-117.38932%5D%2C%20%5B38.680321%2C%20-77.231735%5D%2C%20%5B43.20046%2C%20-77.63875%5D%2C%20%5B33.717523%2C%20-85.020521%5D%2C%20%5B29.817089000000006%2C%20-97.997299%5D%2C%20%5B34.68169%2C%20-82.407005%5D%2C%20%5B34.122046999999995%2C%20-80.96214300000003%5D%2C%20%5B33.759487%2C%20-78.92913100000001%5D%2C%20%5B40.83305%2C%20-73.93176%5D%2C%20%5B37.142071%2C%20-93.278013%5D%2C%20%5B34.165328%2C%20-118.492362%5D%2C%20%5B31.77805%2C%20-106.4611%5D%2C%20%5B41.408833%2C%20-74.07764499999998%5D%2C%20%5B37.363445%2C%20-121.897217%5D%2C%20%5B33.823372%2C%20-84.357681%5D%2C%20%5B44.57572%2C%20-93.29849%5D%2C%20%5B41.356893%2C%20-81.513201%5D%2C%20%5B36.959481%2C%20-81.100479%5D%2C%20%5B34.899471000000005%2C%20-120.436047%5D%2C%20%5B35.63176%2C%20-78.74204%5D%2C%20%5B40.609047%2C%20-79.947289%5D%2C%20%5B35.59095999999999%2C%20-82.57049%5D%2C%20%5B40.68029%2C%20-74.10001%5D%2C%20%5B41.539807%2C%20-73.082726%5D%2C%20%5B39.28573%2C%20-84.4238%5D%2C%20%5B33.88001%2C%20-117.60802%5D%2C%20%5B25.674178%2C%20-80.319928%5D%2C%20%5B37.383567%2C%20-121.969023%5D%2C%20%5B33.935158%2C%20-118.36826299999998%5D%2C%20%5B35.247736%2C%20-80.785538%5D%2C%20%5B33.48425%2C%20-112.11319%5D%2C%20%5B38.553833%2C%20-121.474019%5D%2C%20%5B26.047853%2C%20-80.162415%5D%2C%20%5B33.98117%2C%20-117.97292%5D%2C%20%5B35.1866%2C%20-119.44566299999998%5D%2C%20%5B37.49341%2C%20-121.92028%5D%2C%20%5B28.69352%2C%20-81.388725%5D%2C%20%5B35.536201%2C%20-97.574509%5D%2C%20%5B33.99406%2C%20-117.90088%5D%2C%20%5B40.262092%2C%20-74.51218399999998%5D%2C%20%5B33.363762%2C%20-111.911209%5D%2C%20%5B32.77832%2C%20-96.91687%5D%2C%20%5B44.98485%2C%20-123.00776%5D%2C%20%5B29.868078000000004%2C%20-95.331329%5D%2C%20%5B34.926319%2C%20-81.29055%5D%2C%20%5B32.851005%2C%20-96.771024%5D%2C%20%5B32.919289%2C%20-96.418266%5D%2C%20%5B42.269997%2C%20-71.200455%5D%2C%20%5B40.86717%2C%20-74.0408%5D%2C%20%5B40.564373%2C%20-75.484863%5D%2C%20%5B41.56755%2C%20-87.33058%5D%2C%20%5B32.749763%2C%20-117.196088%5D%2C%20%5B25.90893%2C%20-80.324881%5D%2C%20%5B44.988056%2C%20-93.236961%5D%2C%20%5B35.527241%2C%20-97.588478%5D%2C%20%5B30.539990000000003%2C%20-84.60088%5D%2C%20%5B40.856102%2C%20-73.832863%5D%2C%20%5B40.731834%2C%20-73.32913%5D%2C%20%5B25.927808%2C%20-80.18097399999998%5D%2C%20%5B30.457288%2C%20-81.63456500000002%5D%2C%20%5B29.866838%2C%20-95.540726%5D%2C%20%5B47.055725%2C%20-123.291939%5D%2C%20%5B45.976897%2C%20-94.408942%5D%2C%20%5B30.72568%2C%20-86.57474300000001%5D%2C%20%5B33.916172%2C%20-118.18945%5D%2C%20%5B42.380577%2C%20-83.16841099999998%5D%2C%20%5B42.25283%2C%20-122.79365%5D%2C%20%5B35.78805900000001%2C%20-78.529648%5D%2C%20%5B38.995373%2C%20-76.88205699999997%5D%2C%20%5B33.668743%2C%20-112.108574%5D%2C%20%5B35.221809%2C%20-80.821686%5D%2C%20%5B39.290283%2C%20-85.958923%5D%2C%20%5B35.33588%2C%20-80.913826%5D%2C%20%5B33.367134%2C%20-84.132019%5D%2C%20%5B35.292053%2C%20-80.796669%5D%2C%20%5B34.028175%2C%20-81.101677%5D%2C%20%5B40.41153%2C%20-80.07598%5D%2C%20%5B43.05505%2C%20-76.0668%5D%2C%20%5B34.067432000000004%2C%20-117.57473799999998%5D%2C%20%5B35.601936%2C%20-119.219223%5D%2C%20%5B45.492389%2C%20-122.656449%5D%2C%20%5B30.428178000000006%2C%20-91.063842%5D%2C%20%5B34.170253%2C%20-118.304446%5D%2C%20%5B35.744932%2C%20-78.77853499999998%5D%2C%20%5B28.582256%2C%20-81.375038%5D%2C%20%5B47.60799%2C%20-122.33313%5D%2C%20%5B25.81711%2C%20-80.20644%5D%2C%20%5B28.55908%2C%20-81.54632%5D%2C%20%5B30.315075%2C%20-97.741753%5D%2C%20%5B40.755422%2C%20-111.911568%5D%2C%20%5B33.150101%2C%20-117.198357%5D%2C%20%5B33.9333%2C%20-118.300323%5D%2C%20%5B42.363968%2C%20-87.963509%5D%2C%20%5B45.30895%2C%20-92.95044%5D%2C%20%5B37.49755%2C%20-122.13047%5D%2C%20%5B42.918469%2C%20-71.373379%5D%2C%20%5B32.533453%2C%20-83.743418%5D%2C%20%5B32.211645000000004%2C%20-110.948899%5D%2C%20%5B41.19894%2C%20-95.967377%5D%2C%20%5B30.292299%2C%20-97.759964%5D%2C%20%5B29.697843%2C%20-95.458973%5D%2C%20%5B40.740749%2C%20-73.726662%5D%2C%20%5B40.745662%2C%20-74.160128%5D%2C%20%5B41.295891%2C%20-73.933647%5D%2C%20%5B37.865864%2C%20-121.279403%5D%2C%20%5B39.946915%2C%20-75.115951%5D%2C%20%5B38.51743%2C%20-90.33373%5D%2C%20%5B32.90791%2C%20-96.92723%5D%2C%20%5B38.340687%2C%20-77.49137900000002%5D%2C%20%5B39.87425%2C%20-75.10239%5D%2C%20%5B37.402401%2C%20-122.030094%5D%2C%20%5B27.937393%2C%20-82.56061600000002%5D%2C%20%5B41.39366%2C%20-73.59669%5D%2C%20%5B38.850601%2C%20-77.78987099999998%5D%2C%20%5B29.810909%2C%20-95.500862%5D%2C%20%5B28.445905%2C%20-81.47448%5D%2C%20%5B31.762819%2C%20-106.488052%5D%2C%20%5B44.86113%2C%20-93.319386%5D%2C%20%5B34.28242%2C%20-118.760474%5D%2C%20%5B33.016354%2C%20-96.829117%5D%2C%20%5B32.784409000000004%2C%20-96.562759%5D%2C%20%5B38.090027%2C%20-77.52606999999998%5D%2C%20%5B29.722092%2C%20-95.539055%5D%2C%20%5B32.771751%2C%20-117.132072%5D%2C%20%5B38.350921%2C%20-121.985735%5D%2C%20%5B45.21486%2C%20-118.02496%5D%2C%20%5B44.15987%2C%20-94.02048%5D%2C%20%5B41.43889%2C%20-71.802751%5D%2C%20%5B37.75971%2C%20-82.31477%5D%2C%20%5B29.64108%2C%20-95.56515%5D%2C%20%5B36.846401%2C%20-75.99852%5D%2C%20%5B37.701344%2C%20-121.921593%5D%2C%20%5B38.575222%2C%20-121.548935%5D%2C%20%5B29.776033%2C%20-95.563232%5D%2C%20%5B43.137001%2C%20-77.690933%5D%2C%20%5B42.372814%2C%20-71.06871%5D%2C%20%5B34.858925%2C%20-82.259857%5D%2C%20%5B37.119961%2C%20-121.976044%5D%2C%20%5B45.52104%2C%20-122.68583%5D%2C%20%5B34.0587%2C%20-117.54518%5D%2C%20%5B34.226582%2C%20-82.195999%5D%2C%20%5B37.92707%2C%20-122.37042%5D%2C%20%5B43.022217%2C%20-75.260582%5D%2C%20%5B33.090214%2C%20-117.079934%5D%2C%20%5B33.53687%2C%20-112.35821%5D%2C%20%5B34.135574%2C%20-118.000885%5D%2C%20%5B31.762705%2C%20-106.268256%5D%2C%20%5B26.033428%2C%20-80.16449%5D%2C%20%5B42.94675%2C%20-83.72384%5D%2C%20%5B30.026058000000006%2C%20-90.01059000000002%5D%2C%20%5B33.521584000000004%2C%20-82.030968%5D%2C%20%5B32.636831%2C%20-85.36274399999998%5D%2C%20%5B34.00439%2C%20-117.40353%5D%2C%20%5B34.886532%2C%20-82.067574%5D%2C%20%5B32.2768%2C%20-90.179164%5D%2C%20%5B32.614017%2C%20-97.321556%5D%2C%20%5B30.045696000000003%2C%20-95.430594%5D%2C%20%5B44.11434000000001%2C%20-121.29186%5D%2C%20%5B32.147240000000004%2C%20-85.06241999999997%5D%2C%20%5B38.014079%2C%20-122.663716%5D%2C%20%5B41.56372%2C%20-73.058274%5D%2C%20%5B34.023918%2C%20-118.189278%5D%2C%20%5B47.571735%2C%20-122.32016000000002%5D%2C%20%5B40.69980200000001%2C%20-73.984688%5D%2C%20%5B34.382912%2C%20-117.415565%5D%2C%20%5B37.250762%2C%20-121.906116%5D%2C%20%5B28.985%2C%20-96.65459%5D%2C%20%5B29.83203%2C%20-95.17544%5D%2C%20%5B34.06754%2C%20-117.55608%5D%2C%20%5B33.746063%2C%20-116.417793%5D%2C%20%5B45.38281%2C%20-122.5799%5D%2C%20%5B35.415642%2C%20-80.42469799999998%5D%2C%20%5B33.922798%2C%20-78.835098%5D%2C%20%5B33.774837%2C%20-118.035805%5D%2C%20%5B39.62604%2C%20-104.79152%5D%2C%20%5B37.932471%2C%20-122.403347%5D%2C%20%5B38.633603%2C%20-121.501024%5D%2C%20%5B45.0315%2C%20-93.28758%5D%2C%20%5B37.60165%2C%20-77.50017%5D%2C%20%5B32.191963%2C%20-110.841057%5D%2C%20%5B37.470001%2C%20-77.64139399999998%5D%2C%20%5B34.15677%2C%20-118.15843%5D%2C%20%5B30.752947%2C%20-85.381493%5D%2C%20%5B34.033615000000005%2C%20-118.220016%5D%2C%20%5B38.43162%2C%20-122.73703%5D%2C%20%5B38.414592%2C%20-82.485466%5D%2C%20%5B45.363632%2C%20-122.335688%5D%2C%20%5B25.89509%2C%20-80.20942%5D%2C%20%5B41.0395%2C%20-75.31285%5D%2C%20%5B33.586277%2C%20-79.011887%5D%2C%20%5B36.081631%2C%20-86.66310899999998%5D%2C%20%5B41.49992%2C%20-74.009727%5D%2C%20%5B25.749069%2C%20-80.21260799999997%5D%2C%20%5B45.9482%2C%20-93.07865%5D%2C%20%5B34.04056%2C%20-118.07732%5D%2C%20%5B30.473139%2C%20-97.799042%5D%2C%20%5B35.47724%2C%20-97.52124%5D%2C%20%5B40.722198%2C%20-73.580528%5D%2C%20%5B39.08443%2C%20-94.48941%5D%2C%20%5B45.043579%2C%20-93.400543%5D%2C%20%5B48.463047%2C%20-122.543747%5D%2C%20%5B41.96947%2C%20-71.02731999999997%5D%2C%20%5B39.999629%2C%20-75.229854%5D%2C%20%5B30.267698%2C%20-97.758011%5D%2C%20%5B42.679226%2C%20-71.152893%5D%2C%20%5B33.006275%2C%20-96.538033%5D%2C%20%5B25.871906%2C%20-80.323219%5D%2C%20%5B34.433743%2C%20-118.385757%5D%2C%20%5B39.948189%2C%20-75.186523%5D%2C%20%5B36.671665%2C%20-119.733658%5D%2C%20%5B34.058341%2C%20-118.244351%5D%2C%20%5B32.348171%2C%20-86.221611%5D%2C%20%5B38.54414000000001%2C%20-90.43221%5D%2C%20%5B47.200795%2C%20-122.265204%5D%2C%20%5B33.817521%2C%20-117.831843%5D%2C%20%5B33.876536%2C%20-118.082241%5D%2C%20%5B39.774998%2C%20-105.143066%5D%2C%20%5B26.10659%2C%20-80.16851%5D%2C%20%5B42.350731%2C%20-71.065002%5D%2C%20%5B24.995682%2C%20-80.538797%5D%2C%20%5B34.833031%2C%20-82.296837%5D%2C%20%5B29.430002%2C%20-98.443893%5D%2C%20%5B33.612924%2C%20-117.586371%5D%2C%20%5B35.884529%2C%20-78.74115%5D%2C%20%5B38.45089%2C%20-122.85154%5D%2C%20%5B44.782192%2C%20-93.469528%5D%2C%20%5B41.85638%2C%20-71.42815999999998%5D%2C%20%5B40.52965%2C%20-74.34402%5D%2C%20%5B38.900664%2C%20-77.05667%5D%2C%20%5B32.57828%2C%20-83.71996%5D%2C%20%5B34.030499%2C%20-117.58757%5D%2C%20%5B37.825554%2C%20-122.30867%5D%2C%20%5B33.020851%2C%20-96.98539%5D%2C%20%5B40.009693%2C%20-76.343948%5D%2C%20%5B34.111134%2C%20-118.180359%5D%2C%20%5B43.034361%2C%20-123.328602%5D%2C%20%5B30.471431%2C%20-83.41989699999998%5D%2C%20%5B35.803669%2C%20-78.693855%5D%2C%20%5B33.650276%2C%20-86.82978100000003%5D%2C%20%5B38.89889%2C%20-94.52438%5D%2C%20%5B41.622635%2C%20-87.641403%5D%2C%20%5B30.390774%2C%20-97.739311%5D%2C%20%5B37.927979%2C%20-122.322868%5D%2C%20%5B34.055849%2C%20-117.680799%5D%2C%20%5B37.73941%2C%20-121.59046%5D%2C%20%5B44.471636%2C%20-93.015068%5D%2C%20%5B33.809055%2C%20-118.287476%5D%2C%20%5B33.669372%2C%20-112.089718%5D%2C%20%5B30.077%2C%20-90.56465%5D%2C%20%5B33.78825%2C%20-118.09643%5D%2C%20%5B35.478851%2C%20-97.63665%5D%2C%20%5B40.42287%2C%20-74.19221%5D%2C%20%5B35.426968%2C%20-119.06826%5D%2C%20%5B38.95326%2C%20-76.73756999999998%5D%2C%20%5B39.873064%2C%20-75.101863%5D%2C%20%5B37.576431%2C%20-77.463676%5D%2C%20%5B37.74219%2C%20-121.52587%5D%2C%20%5B34.422993%2C%20-119.65867%5D%2C%20%5B42.973579%2C%20-83.7257%5D%2C%20%5B29.625438%2C%20-95.498098%5D%2C%20%5B43.05365%2C%20-87.92535%5D%2C%20%5B40.028911%2C%20-86.456362%5D%2C%20%5B41.615589%2C%20-112.08631%5D%2C%20%5B35.709469%2C%20-78.624115%5D%2C%20%5B25.92058%2C%20-80.21030999999998%5D%2C%20%5B37.47296%2C%20-77.44360999999998%5D%2C%20%5B28.67073%2C%20-80.87173%5D%2C%20%5B33.980991%2C%20-118.394714%5D%2C%20%5B34.153839000000005%2C%20-118.32589%5D%2C%20%5B42.740608%2C%20-73.689835%5D%2C%20%5B34.14905%2C%20-118.37328%5D%2C%20%5B32.841621%2C%20-117.123838%5D%2C%20%5B39.096916%2C%20-77.53173100000002%5D%2C%20%5B39.972878%2C%20-83.149948%5D%2C%20%5B40.128036%2C%20-75.40432%5D%2C%20%5B34.170999%2C%20-79.76280200000002%5D%2C%20%5B28.585690000000003%2C%20-81.159302%5D%2C%20%5B34.156834%2C%20-118.41378799999998%5D%2C%20%5B39.028389%2C%20-104.827988%5D%2C%20%5B33.76336%2C%20-117.83111%5D%2C%20%5B41.302959%2C%20-73.614487%5D%2C%20%5B40.783344%2C%20-77.042923%5D%2C%20%5B38.640946%2C%20-121.474368%5D%2C%20%5B32.759815%2C%20-97.183136%5D%2C%20%5B25.88975%2C%20-80.32381%5D%2C%20%5B29.60893%2C%20-98.467928%5D%2C%20%5B41.88659000000001%2C%20-71.37885%5D%2C%20%5B33.377569%2C%20-112.626632%5D%2C%20%5B30.146519%2C%20-97.794121%5D%2C%20%5B25.760975%2C%20-80.392792%5D%2C%20%5B38.156204%2C%20-85.659828%5D%2C%20%5B35.88548%2C%20-78.84295%5D%2C%20%5B37.25491%2C%20-121.792778%5D%2C%20%5B40.228893%2C%20-75.236816%5D%2C%20%5B34.506302000000005%2C%20-117.572868%5D%2C%20%5B38.61747%2C%20-121.53173%5D%2C%20%5B26.157203%2C%20-80.16495%5D%2C%20%5B41.095737%2C%20-73.64879599999998%5D%2C%20%5B38.724298%2C%20-121.406522%5D%2C%20%5B39.928237%2C%20-122.210802%5D%2C%20%5B44.845932%2C%20-93.12368%5D%2C%20%5B37.78593%2C%20-122.39108%5D%2C%20%5B43.3619%2C%20-73.70395%5D%2C%20%5B33.51347%2C%20-112.11244%5D%2C%20%5B28.59766%2C%20-81.36514%5D%2C%20%5B41.107792%2C%20-74.064552%5D%2C%20%5B35.757893%2C%20-78.612877%5D%2C%20%5B38.81602%2C%20-76.82493000000002%5D%2C%20%5B35.222919%2C%20-80.825233%5D%2C%20%5B32.72316%2C%20-96.82691%5D%2C%20%5B34.165508%2C%20-118.492355%5D%2C%20%5B38.222775%2C%20-85.505814%5D%2C%20%5B39.315658%2C%20-76.74453299999998%5D%2C%20%5B33.768978000000004%2C%20-84.390587%5D%2C%20%5B39.932709%2C%20-82.83091%5D%2C%20%5B35.60930300000001%2C%20-97.567078%5D%2C%20%5B28.027182%2C%20-82.18695100000002%5D%2C%20%5B33.60989%2C%20-112.239573%5D%2C%20%5B41.873119%2C%20-87.625961%5D%2C%20%5B35.363129%2C%20-97.56546%5D%2C%20%5B33.991383%2C%20-118.350899%5D%2C%20%5B39.46071%2C%20-77.40084%5D%2C%20%5B34.053290999999994%2C%20-118.222778%5D%2C%20%5B41.945114%2C%20-91.670334%5D%2C%20%5B33.795769%2C%20-117.877983%5D%2C%20%5B29.71306%2C%20-95.513618%5D%2C%20%5B26.129389%2C%20-81.76978299999998%5D%2C%20%5B38.895991%2C%20-121.080364%5D%2C%20%5B33.790575%2C%20-118.099209%5D%2C%20%5B33.084515%2C%20-80.65255%5D%2C%20%5B38.092342%2C%20-122.55909%5D%2C%20%5B44.60447%2C%20-93.29715%5D%2C%20%5B39.73484000000001%2C%20-105.01517%5D%2C%20%5B34.244713%2C%20-118.422546%5D%2C%20%5B32.913441%2C%20-80.243271%5D%2C%20%5B39.496976%2C%20-121.52507%5D%2C%20%5B41.956917%2C%20-73.894196%5D%2C%20%5B34.0448%2C%20-84.28495799999997%5D%2C%20%5B35.493248%2C%20-97.534424%5D%2C%20%5B38.9045%2C%20-104.77574%5D%2C%20%5B41.461864%2C%20-81.768906%5D%2C%20%5B29.698782%2C%20-95.359581%5D%2C%20%5B33.856983%2C%20-118.299229%5D%2C%20%5B40.72491%2C%20-73.93377%5D%2C%20%5B26.118675%2C%20-80.334016%5D%2C%20%5B34.997215000000004%2C%20-85.208613%5D%2C%20%5B30.417879%2C%20-87.275696%5D%2C%20%5B28.035442%2C%20-80.656532%5D%2C%20%5B40.266926%2C%20-74.51007800000002%5D%2C%20%5B38.311351%2C%20-120.720582%5D%2C%20%5B38.129379%2C%20-79.035889%5D%2C%20%5B29.773039%2C%20-95.232979%5D%2C%20%5B39.20765%2C%20-84.70364000000002%5D%2C%20%5B30.448894%2C%20-82.932994%5D%2C%20%5B39.992188%2C%20-75.027618%5D%2C%20%5B25.84838%2C%20-80.22544%5D%2C%20%5B38.431538%2C%20-122.716351%5D%2C%20%5B40.401077%2C%20-111.849602%5D%2C%20%5B35.551521%2C%20-82.81770300000002%5D%2C%20%5B35.810195%2C%20-78.601545%5D%2C%20%5B27.375532%2C%20-80.408371%5D%2C%20%5B38.703869%2C%20-121.363655%5D%2C%20%5B33.9739%2C%20-81.156441%5D%2C%20%5B34.223576%2C%20-119.152802%5D%2C%20%5B32.574856%2C%20-97.203178%5D%2C%20%5B33.8763%2C%20-118.125183%5D%2C%20%5B39.75021%2C%20-84.19334%5D%2C%20%5B30.67108%2C%20-87.08684000000002%5D%2C%20%5B34.00801%2C%20-117.96824%5D%2C%20%5B38.414065%2C%20-121.484686%5D%2C%20%5B33.92696%2C%20-118.361305%5D%2C%20%5B34.53157%2C%20-82.696854%5D%2C%20%5B39.786525%2C%20-82.988244%5D%2C%20%5B42.052818%2C%20-71.739822%5D%2C%20%5B40.85379%2C%20-73.963825%5D%2C%20%5B36.067799%2C%20-95.886414%5D%2C%20%5B35.178719%2C%20-80.891205%5D%2C%20%5B45.282436%2C%20-93.003011%5D%2C%20%5B39.930292%2C%20-86.164537%5D%2C%20%5B36.16076%2C%20-95.88679%5D%2C%20%5B29.760067%2C%20-95.374565%5D%2C%20%5B28.891304%2C%20-82.548569%5D%2C%20%5B32.54554%2C%20-117.03446%5D%2C%20%5B33.51664%2C%20-112.11225%5D%2C%20%5B44.731802%2C%20-92.580063%5D%2C%20%5B45.241032%2C%20-93.663059%5D%2C%20%5B40.78351%2C%20-74.14918%5D%2C%20%5B35.145954%2C%20-80.926796%5D%2C%20%5B38.81588%2C%20-77.137505%5D%2C%20%5B47.73405%2C%20-122.32356%5D%2C%20%5B33.968167%2C%20-118.167854%5D%2C%20%5B33.3857%2C%20-111.93489%5D%2C%20%5B34.980949%2C%20-81.976807%5D%2C%20%5B31.806583000000003%2C%20-106.247246%5D%2C%20%5B41.25399%2C%20-95.946968%5D%2C%20%5B26.61937%2C%20-80.089058%5D%2C%20%5B37.851669%2C%20-121.282931%5D%2C%20%5B33.10516%2C%20-80.123276%5D%2C%20%5B45.535072%2C%20-122.433624%5D%2C%20%5B34.088583%2C%20-118.305223%5D%2C%20%5B33.77427%2C%20-118.01259%5D%2C%20%5B34.161354%2C%20-117.330754%5D%2C%20%5B30.460022%2C%20-81.678223%5D%2C%20%5B40.912627%2C%20-74.090181%5D%2C%20%5B45.600791%2C%20-121.174832%5D%2C%20%5B34.261111%2C%20-117.44993%5D%2C%20%5B35.3283%2C%20-80.78327900000002%5D%2C%20%5B33.654444%2C%20-112.099749%5D%2C%20%5B34.037001000000004%2C%20-118.284005%5D%2C%20%5B38.610185%2C%20-121.359859%5D%2C%20%5B34.07285%2C%20-118.26907%5D%2C%20%5B37.315353%2C%20-121.940292%5D%2C%20%5B42.78162%2C%20-73.922882%5D%2C%20%5B40.937801%2C%20-74.125687%5D%2C%20%5B32.11908%2C%20-110.797218%5D%2C%20%5B26.232109%2C%20-80.13632%5D%2C%20%5B38.84136%2C%20-84.616609%5D%2C%20%5B45.276358%2C%20-122.77233%5D%2C%20%5B33.26663%2C%20-117.15693%5D%2C%20%5B45.547009%2C%20-122.540904%5D%2C%20%5B47.600838%2C%20-122.323448%5D%2C%20%5B40.92905800000001%2C%20-74.07073199999998%5D%2C%20%5B33.666203%2C%20-81.674118%5D%2C%20%5B44.03557%2C%20-123.04449%5D%2C%20%5B29.733118%2C%20-95.381294%5D%2C%20%5B42.4188%2C%20-83.42388000000003%5D%2C%20%5B40.016106%2C%20-82.90167199999998%5D%2C%20%5B27.531185%2C%20-82.50864399999998%5D%2C%20%5B38.20816%2C%20-77.58181%5D%2C%20%5B34.00843%2C%20-117.960335%5D%2C%20%5B41.674911%2C%20-83.57396700000002%5D%2C%20%5B35.152737%2C%20-80.826881%5D%2C%20%5B39.639771%2C%20-105.053307%5D%2C%20%5B37.253891%2C%20-121.880722%5D%2C%20%5B36.77992%2C%20-121.70358%5D%2C%20%5B35.47155%2C%20-97.618904%5D%2C%20%5B40.027233%2C%20-75.232132%5D%2C%20%5B40.80092%2C%20-73.48746%5D%2C%20%5B47.549759%2C%20-122.287262%5D%2C%20%5B47.640984%2C%20-122.302071%5D%2C%20%5B38.781391%2C%20-94.927513%5D%2C%20%5B36.74363%2C%20-119.80993%5D%2C%20%5B39.989174%2C%20-76.728622%5D%2C%20%5B39.207493%2C%20-76.579127%5D%2C%20%5B45.544628%2C%20-122.666672%5D%2C%20%5B40.021091%2C%20-75.624176%5D%2C%20%5B40.55975%2C%20-74.29564%5D%2C%20%5B29.60095%2C%20-95.21922%5D%2C%20%5B35.901522%2C%20-78.558035%5D%2C%20%5B30.363276000000006%2C%20-97.563034%5D%2C%20%5B32.376492%2C%20-86.320892%5D%2C%20%5B38.955299%2C%20-122.707748%5D%2C%20%5B34.121864%2C%20-117.994339%5D%2C%20%5B26.544701%2C%20-80.16291%5D%2C%20%5B33.987732%2C%20-118.398964%5D%2C%20%5B41.81731%2C%20-71.3981%5D%2C%20%5B34.988440000000004%2C%20-85.47029599999998%5D%2C%20%5B42.489704%2C%20-83.279894%5D%2C%20%5B28.510139%2C%20-82.58000899999998%5D%2C%20%5B41.87006%2C%20-71.40038299999998%5D%2C%20%5B45.50987%2C%20-122.43474%5D%2C%20%5B39.20280800000001%2C%20-76.696007%5D%2C%20%5B33.646609999999995%2C%20-78.98397%5D%2C%20%5B33.512539000000004%2C%20-86.81723000000002%5D%2C%20%5B29.531691%2C%20-98.658836%5D%2C%20%5B47.045872%2C%20-122.835968%5D%2C%20%5B37.61159%2C%20-77.36346999999998%5D%2C%20%5B34.10926%2C%20-117.52836%5D%2C%20%5B39.21113%2C%20-84.67715%5D%2C%20%5B34.67018%2C%20-92.379988%5D%2C%20%5B26.09254%2C%20-80.22179200000002%5D%2C%20%5B32.767467%2C%20-96.678261%5D%2C%20%5B38.597721%2C%20-121.383011%5D%2C%20%5B42.42793%2C%20-83.18353%5D%2C%20%5B39.297775%2C%20-76.530672%5D%2C%20%5B34.945091%2C%20-82.31678000000002%5D%2C%20%5B30.418524%2C%20-91.14183%5D%2C%20%5B37.54313%2C%20-77.44906%5D%2C%20%5B28.306784000000004%2C%20-81.57002299999998%5D%2C%20%5B36.106461%2C%20-80.04604300000003%5D%2C%20%5B42.340771%2C%20-88.053398%5D%2C%20%5B40.232239%2C%20-75.628754%5D%2C%20%5B33.966349%2C%20-112.720594%5D%2C%20%5B29.596885%2C%20-95.387186%5D%2C%20%5B40.909344%2C%20-73.065025%5D%2C%20%5B38.54414000000001%2C%20-90.43221%5D%2C%20%5B33.405361%2C%20-97.176208%5D%2C%20%5B47.25591%2C%20-121.98828%5D%2C%20%5B42.47882%2C%20-71.11352%5D%2C%20%5B41.46012%2C%20-72.55481%5D%2C%20%5B26.4897%2C%20-81.905113%5D%2C%20%5B34.246683000000004%2C%20-118.419299%5D%2C%20%5B33.683262%2C%20-112.112785%5D%2C%20%5B36.11887%2C%20-95.90831%5D%2C%20%5B39.62711%2C%20-84.21706999999998%5D%2C%20%5B38.103756%2C%20-122.229797%5D%2C%20%5B31.776655%2C%20-106.298492%5D%2C%20%5B42.161884%2C%20-88.062851%5D%2C%20%5B34.15443%2C%20-118.31416000000002%5D%2C%20%5B40.853935%2C%20-73.96386700000002%5D%2C%20%5B38.728178%2C%20-121.364615%5D%2C%20%5B30.237116%2C%20-97.878319%5D%2C%20%5B39.40318%2C%20-78.02651999999998%5D%2C%20%5B44.86195%2C%20-93.308762%5D%2C%20%5B37.84797%2C%20-122.02766%5D%2C%20%5B40.23342%2C%20-75.25431%5D%2C%20%5B28.552176%2C%20-81.474654%5D%2C%20%5B40.727423%2C%20-113.266285%5D%2C%20%5B33.91426%2C%20-84.35101999999998%5D%2C%20%5B37.588487%2C%20-121.870876%5D%2C%20%5B35.503784%2C%20-80.866272%5D%2C%20%5B35.15945%2C%20-80.97095%5D%2C%20%5B32.75976%2C%20-96.91708%5D%2C%20%5B40.797554%2C%20-74.25275400000002%5D%2C%20%5B40.40184%2C%20-79.591011%5D%2C%20%5B27.495546%2C%20-82.58743199999998%5D%2C%20%5B40.932232%2C%20-73.871635%5D%2C%20%5B45.530102%2C%20-122.643974%5D%2C%20%5B30.125719%2C%20-95.221008%5D%2C%20%5B38.960152%2C%20-77.190887%5D%2C%20%5B41.86581%2C%20-87.92173000000003%5D%2C%20%5B36.131245%2C%20-86.71680400000002%5D%2C%20%5B37.74892%2C%20-122.15096%5D%2C%20%5B37.699589%2C%20-121.070831%5D%2C%20%5B37.269676%2C%20-77.51571700000002%5D%2C%20%5B37.499175%2C%20-122.239544%5D%2C%20%5B32.753456%2C%20-96.8741%5D%2C%20%5B39.03348%2C%20-76.85103000000002%5D%2C%20%5B34.610512%2C%20-82.115837%5D%2C%20%5B33.459644%2C%20-112.092461%5D%2C%20%5B40.674381%2C%20-73.801598%5D%2C%20%5B35.52224000000001%2C%20-97.459976%5D%2C%20%5B30.353441%2C%20-97.75309%5D%2C%20%5B39.14709000000001%2C%20-76.64478000000003%5D%2C%20%5B35.046638%2C%20-81.876411%5D%2C%20%5B31.877435%2C%20-106.346195%5D%2C%20%5B34.173469%2C%20-118.391078%5D%2C%20%5B45.50375%2C%20-122.56514%5D%2C%20%5B33.945076%2C%20-118.369972%5D%2C%20%5B26.714964%2C%20-81.811844%5D%2C%20%5B41.18812%2C%20-73.13573000000002%5D%2C%20%5B37.31666%2C%20-121.94476%5D%2C%20%5B37.70148%2C%20-121.90233%5D%2C%20%5B40.679382%2C%20-74.003159%5D%2C%20%5B41.078693%2C%20-73.985123%5D%2C%20%5B27.96804%2C%20-82.766626%5D%2C%20%5B40.27920200000001%2C%20-79.546913%5D%2C%20%5B39.41707%2C%20-76.62999%5D%2C%20%5B40.437588%2C%20-79.913673%5D%2C%20%5B34.902778999999995%2C%20-82.367302%5D%2C%20%5B28.228062%2C%20-80.600216%5D%2C%20%5B37.709316%2C%20-122.467303%5D%2C%20%5B33.49465%2C%20-112.2206%5D%2C%20%5B33.881739%2C%20-84.472192%5D%2C%20%5B32.778549%2C%20-96.835762%5D%2C%20%5B34.15439%2C%20-118.38286%5D%2C%20%5B32.73576%2C%20-96.824127%5D%2C%20%5B35.9748%2C%20-86.57135799999998%5D%2C%20%5B44.95965%2C%20-93.20473%5D%2C%20%5B31.203899%2C%20-97.303787%5D%2C%20%5B40.836315%2C%20-73.873901%5D%2C%20%5B34.666489%2C%20-86.774284%5D%2C%20%5B29.745569%2C%20-95.361282%5D%2C%20%5B34.121567%2C%20-117.696739%5D%2C%20%5B38.887281%2C%20-77.118169%5D%2C%20%5B39.126701%2C%20-74.77179%5D%2C%20%5B34.032976%2C%20-118.435812%5D%2C%20%5B39.41843400000001%2C%20-76.633965%5D%2C%20%5B37.625179%2C%20-77.458061%5D%2C%20%5B39.226216%2C%20-84.37083299999998%5D%2C%20%5B28.599275%2C%20-81.414342%5D%2C%20%5B38.769278%2C%20-121.249553%5D%2C%20%5B30.191711%2C%20-81.705605%5D%2C%20%5B27.806723%2C%20-82.649826%5D%2C%20%5B39.068211%2C%20-94.509994%5D%2C%20%5B34.078971%2C%20-118.227839%5D%2C%20%5B38.661013%2C%20-121.36435%5D%2C%20%5B37.259937%2C%20-121.968719%5D%2C%20%5B38.870068%2C%20-77.046875%5D%2C%20%5B32.74852%2C%20-96.809212%5D%2C%20%5B39.82447%2C%20-104.96561%5D%2C%20%5B33.08044%2C%20-117.297%5D%2C%20%5B34.529258%2C%20-120.196733%5D%2C%20%5B40.666962%2C%20-73.79989599999998%5D%2C%20%5B39.977395%2C%20-75.20056%5D%2C%20%5B33.369202%2C%20-117.222374%5D%2C%20%5B32.617134%2C%20-117.091591%5D%2C%20%5B47.91761%2C%20-94.44305%5D%2C%20%5B33.98561%2C%20-117.3457%5D%2C%20%5B34.033033%2C%20-118.130012%5D%2C%20%5B40.448311%2C%20-79.991831%5D%2C%20%5B35.092929%2C%20-118.914676%5D%2C%20%5B35.828345%2C%20-78.585346%5D%2C%20%5B36.19292100000001%2C%20-86.777519%5D%2C%20%5B39.07619%2C%20-94.605571%5D%2C%20%5B26.169861%2C%20-81.016643%5D%2C%20%5B38.891361%2C%20-76.846588%5D%2C%20%5B31.757712%2C%20-106.352903%5D%2C%20%5B34.138255%2C%20-118.363809%5D%2C%20%5B37.838557%2C%20-122.296534%5D%2C%20%5B35.352222%2C%20-118.998889%5D%2C%20%5B34.121052%2C%20-117.828751%5D%2C%20%5B31.76414%2C%20-106.48665%5D%2C%20%5B41.698389%2C%20-87.655152%5D%2C%20%5B47.56217%2C%20-92.54565%5D%2C%20%5B32.91811%2C%20-96.855766%5D%2C%20%5B29.599539%2C%20-95.228607%5D%2C%20%5B36.853565%2C%20-77.42411%5D%2C%20%5B33.911739000000004%2C%20-118.15995%5D%2C%20%5B35.279577%2C%20-80.79042%5D%2C%20%5B34.020969%2C%20-118.195267%5D%2C%20%5B34.068732000000004%2C%20-117.843624%5D%2C%20%5B40.184887%2C%20-75.44949799999998%5D%2C%20%5B37.559983%2C%20-122.034524%5D%2C%20%5B39.092918%2C%20-94.487839%5D%2C%20%5B43.226345%2C%20-77.62665600000003%5D%2C%20%5B40.560107%2C%20-74.321527%5D%2C%20%5B38.995143%2C%20-77.02729699999998%5D%2C%20%5B33.952389000000004%2C%20-98.526283%5D%2C%20%5B33.648263%2C%20-117.359508%5D%2C%20%5B41.660538%2C%20-87.588875%5D%2C%20%5B37.51215%2C%20-122.253967%5D%2C%20%5B34.870107%2C%20-82.42428100000002%5D%2C%20%5B37.33942800000001%2C%20-94.832128%5D%2C%20%5B33.744778000000004%2C%20-84.39679%5D%2C%20%5B37.15396%2C%20-121.68696%5D%2C%20%5B42.24286%2C%20-85.5658%5D%2C%20%5B29.68026%2C%20-95.346657%5D%2C%20%5B32.77833%2C%20-97.31978%5D%2C%20%5B37.76824000000001%2C%20-122.40584%5D%2C%20%5B35.317535%2C%20-80.77628299999998%5D%2C%20%5B35.565769%2C%20-97.656204%5D%2C%20%5B39.80586%2C%20-75.34976999999998%5D%2C%20%5B39.917412%2C%20-83.014236%5D%2C%20%5B28.317753000000003%2C%20-81.54115300000002%5D%2C%20%5B34.053486%2C%20-80.06234%5D%2C%20%5B39.94427%2C%20-74.2086%5D%2C%20%5B39.819839%2C%20-84.189087%5D%2C%20%5B32.815782%2C%20-117.158856%5D%2C%20%5B34.53108%2C%20-77.89241%5D%2C%20%5B34.01467%2C%20-117.08389%5D%2C%20%5B35.092442%2C%20-106.63401%5D%2C%20%5B38.225981%2C%20-77.499432%5D%2C%20%5B38.970033%2C%20-77.179496%5D%2C%20%5B30.531718%2C%20-87.902173%5D%2C%20%5B40.025295%2C%20-75.228973%5D%2C%20%5B33.92889%2C%20-118.290387%5D%2C%20%5B33.750793%2C%20-84.389832%5D%2C%20%5B32.779617%2C%20-117.112839%5D%2C%20%5B33.936246999999995%2C%20-81.229517%5D%2C%20%5B42.157021%2C%20-71.069061%5D%2C%20%5B30.3638%2C%20-81.668137%5D%2C%20%5B32.229176%2C%20-108.082262%5D%2C%20%5B33.825943%2C%20-118.24157%5D%2C%20%5B34.717794%2C%20-87.790359%5D%2C%20%5B35.385277%2C%20-119.044624%5D%2C%20%5B32.810127%2C%20-96.655167%5D%2C%20%5B33.206672999999995%2C%20-117.384727%5D%2C%20%5B33.863674%2C%20-117.99276%5D%2C%20%5B29.9502%2C%20-90.073074%5D%2C%20%5B42.43622%2C%20-83.09506999999998%5D%2C%20%5B36.663967%2C%20-121.678107%5D%2C%20%5B37.418478%2C%20-121.970332%5D%2C%20%5B43.006778%2C%20-123.308286%5D%2C%20%5B34.018272%2C%20-118.176712%5D%2C%20%5B34.876629%2C%20-82.68042%5D%2C%20%5B38.093037%2C%20-84.487206%5D%2C%20%5B30.265579%2C%20-97.695557%5D%2C%20%5B32.734108%2C%20-96.661865%5D%2C%20%5B34.071812%2C%20-118.122864%5D%2C%20%5B35.205086%2C%20-80.718109%5D%2C%20%5B30.559746%2C%20-88.202621%5D%2C%20%5B32.902679%2C%20-117.22216%5D%2C%20%5B34.065361%2C%20-117.313126%5D%2C%20%5B35.18957899999999%2C%20-97.56459%5D%2C%20%5B45.231081%2C%20-93.028786%5D%2C%20%5B37.867706%2C%20-122.200424%5D%2C%20%5B39.782856%2C%20-86.153374%5D%2C%20%5B44.98231%2C%20-93.2436%5D%2C%20%5B40.28588%2C%20-74.71396%5D%2C%20%5B33.925068%2C%20-118.209892%5D%2C%20%5B33.87865%2C%20-118.19248%5D%2C%20%5B41.749008%2C%20-88.1064%5D%2C%20%5B33.494942%2C%20-112.125626%5D%2C%20%5B45.010506%2C%20-93.166679%5D%2C%20%5B32.386971%2C%20-86.24793199999998%5D%2C%20%5B45.527311%2C%20-122.606617%5D%2C%20%5B40.740543%2C%20-73.841324%5D%2C%20%5B44.86163300000001%2C%20-93.278282%5D%2C%20%5B40.86316%2C%20-73.91135%5D%2C%20%5B34.171654%2C%20-80.971581%5D%2C%20%5B30.00525%2C%20-90.03631999999998%5D%2C%20%5B33.61868%2C%20-84.45744%5D%2C%20%5B38.223759%2C%20-122.611683%5D%2C%20%5B37.676235%2C%20-77.593292%5D%2C%20%5B39.96383%2C%20-111.307178%5D%2C%20%5B34.15439%2C%20-118.384417%5D%2C%20%5B33.814171%2C%20-118.170727%5D%2C%20%5B41.800064%2C%20-88.087013%5D%2C%20%5B32.916512%2C%20-117.116943%5D%2C%20%5B25.53116%2C%20-80.37741%5D%2C%20%5B35.260948%2C%20-80.841278%5D%2C%20%5B35.48431%2C%20-82.55929%5D%2C%20%5B30.262559000000003%2C%20-97.722154%5D%2C%20%5B40.31073%2C%20-82.846397%5D%2C%20%5B47.158688%2C%20-122.402214%5D%2C%20%5B37.103855%2C%20-121.975914%5D%2C%20%5B33.937651%2C%20-118.094171%5D%2C%20%5B48.44925900000001%2C%20-115.879258%5D%2C%20%5B41.66935%2C%20-72.831641%5D%2C%20%5B40.642999%2C%20-73.706192%5D%2C%20%5B35.83503%2C%20-78.58236%5D%2C%20%5B39.846672%2C%20-75.387421%5D%2C%20%5B32.774456%2C%20-117.207924%5D%2C%20%5B28.218794%2C%20-82.246483%5D%2C%20%5B33.932465%2C%20-81.29070300000002%5D%2C%20%5B33.771783%2C%20-118.279809%5D%2C%20%5B34.480753%2C%20-120.229712%5D%2C%20%5B28.71684%2C%20-81.58946999999998%5D%2C%20%5B33.5297%2C%20-82.9052%5D%5D%2C%0A%20%20%20%20%20%20%20%20%20%20%20%20%20%20%20%20%7B%0A%20%20%20%20%20%20%20%20%20%20%20%20%20%20%20%20%20%20%20%20minOpacity%3A%200.5%2C%0A%20%20%20%20%20%20%20%20%20%20%20%20%20%20%20%20%20%20%20%20maxZoom%3A%2018%2C%0A%20%20%20%20%20%20%20%20%20%20%20%20%20%20%20%20%20%20%20%20max%3A%201.0%2C%0A%20%20%20%20%20%20%20%20%20%20%20%20%20%20%20%20%20%20%20%20radius%3A%2025%2C%0A%20%20%20%20%20%20%20%20%20%20%20%20%20%20%20%20%20%20%20%20blur%3A%2015%2C%0A%20%20%20%20%20%20%20%20%20%20%20%20%20%20%20%20%20%20%20%20gradient%3A%20null%0A%20%20%20%20%20%20%20%20%20%20%20%20%20%20%20%20%20%20%20%20%7D%29%0A%20%20%20%20%20%20%20%20%20%20%20%20%20%20%20%20.addTo%28map_299b3e4858794a6d9b6bf6e36478e739%29%3B%0A%20%20%20%20%20%20%20%20%0A%3C/script%3E onload=\"this.contentDocument.open();this.contentDocument.write(    decodeURIComponent(this.getAttribute('data-html')));this.contentDocument.close();\" allowfullscreen webkitallowfullscreen mozallowfullscreen></iframe></div></div>"
            ],
            "text/plain": [
              "<folium.folium.Map at 0x7f33f42f3950>"
            ]
          },
          "metadata": {
            "tags": []
          },
          "execution_count": 77
        }
      ]
    },
    {
      "cell_type": "code",
      "metadata": {
        "id": "sD2WSisRgJ6S"
      },
      "source": [],
      "execution_count": null,
      "outputs": []
    },
    {
      "cell_type": "code",
      "metadata": {
        "id": "qPzgcR-8gJ3R"
      },
      "source": [],
      "execution_count": null,
      "outputs": []
    },
    {
      "cell_type": "markdown",
      "metadata": {
        "id": "NtXHaT0iPwTj"
      },
      "source": [
        "Q)Does New York show up in the data? If yes, why is the count lower if this the most populated city."
      ]
    },
    {
      "cell_type": "code",
      "metadata": {
        "colab": {
          "base_uri": "https://localhost:8080/"
        },
        "id": "-XzfpYXPQFai",
        "outputId": "c5fc5e3d-1223-49a7-f6d8-b06b37f80cb1"
      },
      "source": [
        "df.State"
      ],
      "execution_count": null,
      "outputs": [
        {
          "output_type": "execute_result",
          "data": {
            "text/plain": [
              "0          SC\n",
              "1          NC\n",
              "2          CA\n",
              "3          NV\n",
              "4          FL\n",
              "           ..\n",
              "2906605    TX\n",
              "2906606    CA\n",
              "2906607    FL\n",
              "2906608    UT\n",
              "2906609    CO\n",
              "Name: State, Length: 2906610, dtype: object"
            ]
          },
          "metadata": {
            "tags": []
          },
          "execution_count": 35
        }
      ]
    },
    {
      "cell_type": "code",
      "metadata": {
        "colab": {
          "base_uri": "https://localhost:8080/"
        },
        "id": "L5cns1qtu4gf",
        "outputId": "0e5caa0f-6640-4e8f-c40a-e93749918cab"
      },
      "source": [
        " df.State.isin(['NY']).any()\n"
      ],
      "execution_count": null,
      "outputs": [
        {
          "output_type": "execute_result",
          "data": {
            "text/plain": [
              "True"
            ]
          },
          "metadata": {
            "tags": []
          },
          "execution_count": 93
        }
      ]
    },
    {
      "cell_type": "code",
      "metadata": {
        "id": "P_CrRNqXJ82d"
      },
      "source": [],
      "execution_count": null,
      "outputs": []
    },
    {
      "cell_type": "markdown",
      "metadata": {
        "id": "kTQBKAD-KD0U"
      },
      "source": [
        "#Ask & answer questions\n",
        "1. Are there more accidents in warmer or colder areas? \n",
        "2. Which 5 states have the highest number of accidents?\n",
        "3. Does New York show up in the data? If yes, why is the count lower if this the most populated city.\n",
        "4. Among the top 100 cities in number of accidents, which states do they belong to most frequently.\n",
        "5. What time of the day are accidents most frequent in? \n",
        "6. Which days of the week have the most accidents?\n",
        "7. Which months have the most accidents?\n",
        "8. What is the trend of accidents year over year (decreasing/increasing?)\n",
        "9. When is accidents per unit of traffic the highest."
      ]
    },
    {
      "cell_type": "code",
      "metadata": {
        "id": "x28NCCGnJUnJ"
      },
      "source": [],
      "execution_count": null,
      "outputs": []
    },
    {
      "cell_type": "markdown",
      "metadata": {
        "id": "1_aR9SRvKauP"
      },
      "source": [
        "#Summary and Conclusion\n",
        "##Insights:\n",
        "The project analyzed various parameters on accident occurrence and the following insights have been found upon drilling the above parameters:\n",
        "\n",
        "* The top 5 states by accidents include populous ones like Los Angeles, Houston, and Florida.\n",
        "* Less than 5% (~ 4.35%) of cities have more than 1000 accidents in the period between February 2016 and December 2020.\n",
        "* New York is a populous city that has had less than 7500 accidents in the accounting period.\n",
        "* Over 1200 cities have had just one accident in 4yeaars- needs further investigation.\n",
        "* The majority of them have witnessed between 10–100 accidents during the period.\n",
        "* Accidents by cities follow an exponentially decreasing distribution.\n",
        "* The hypothesis that weekdays see more accidents during morning and evening rush hours is corroborated by the data.Weekends have the peak during the afternoon.\n",
        "* The year-wise analysis seems to show missing data about certain months. So nothing much can be conclusively said about the overall increasing trend in the latter half of the year."
      ]
    },
    {
      "cell_type": "markdown",
      "source": [
        "## **Conclusion**\n",
        "It can be said that while the percentage of accidents is low for most cities, it is important to hammer the point that this analysis points to the following-\n",
        "\n",
        "The majority of such accidents seemed to have happened due to the absence of proper traffic management mechanisms like traffic signals and bumps- particularly in areas away from the main crossings."
      ],
      "metadata": {
        "id": "_9HOfjy4Arm9"
      }
    },
    {
      "cell_type": "code",
      "metadata": {
        "id": "aXlyhpaME-Lm"
      },
      "source": [
        "!pip install jovian --upgrade --quiet"
      ],
      "execution_count": null,
      "outputs": []
    },
    {
      "cell_type": "code",
      "metadata": {
        "id": "WTvrLe_ME-Ln"
      },
      "source": [
        "import jovian"
      ],
      "execution_count": null,
      "outputs": []
    },
    {
      "cell_type": "code",
      "metadata": {
        "colab": {
          "base_uri": "https://localhost:8080/",
          "height": 122
        },
        "id": "UT-EbSe8E-Lo",
        "outputId": "ae1e1621-49d9-4fcb-b631-ce24fdcb7adb"
      },
      "source": [
        "# Execute this to save new versions of the notebook\n",
        "jovian.commit()"
      ],
      "execution_count": null,
      "outputs": [
        {
          "output_type": "stream",
          "text": [
            "[jovian] Detected Colab notebook...\u001b[0m\n",
            "[jovian] Please enter your API key ( from https://jovian.ai/ ):\u001b[0m\n",
            "API KEY: ··········\n",
            "[jovian] Uploading colab notebook to Jovian...\u001b[0m\n",
            "Committed successfully! https://jovian.ai/addy0908/us-accidents\n"
          ],
          "name": "stdout"
        },
        {
          "output_type": "execute_result",
          "data": {
            "application/vnd.google.colaboratory.intrinsic+json": {
              "type": "string"
            },
            "text/plain": [
              "'https://jovian.ai/addy0908/us-accidents'"
            ]
          },
          "metadata": {
            "tags": []
          },
          "execution_count": 96
        }
      ]
    },
    {
      "cell_type": "code",
      "metadata": {
        "id": "BAA23c0EE-Lp"
      },
      "source": [],
      "execution_count": null,
      "outputs": []
    }
  ]
}